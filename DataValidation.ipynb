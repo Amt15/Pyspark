{
 "cells": [
  {
   "cell_type": "code",
   "metadata": {
    "cell_id": "e7c6de26555b4572a007dd581e24a3e5",
    "tags": [],
    "deepnote_to_be_reexecuted": false,
    "source_hash": "d740c956",
    "execution_start": 1659792546201,
    "execution_millis": 94944,
    "deepnote_cell_type": "code",
    "deepnote_cell_height": 714
   },
   "source": "! sudo apt-get update\n! sudo apt-get install -y openjdk-11-jdk",
   "execution_count": 1,
   "outputs": [
    {
     "name": "stdout",
     "text": "Get:1 http://deb.debian.org/debian buster InRelease [122 kB]\nGet:2 http://deb.debian.org/debian-security buster/updates InRelease [34.8 kB]\nGet:3 http://deb.debian.org/debian buster-updates InRelease [56.6 kB]\nGet:4 http://deb.debian.org/debian buster/main amd64 Packages [7,911 kB]\nGet:5 http://deb.debian.org/debian-security buster/updates/main amd64 Packages [338 kB]\nGet:6 http://deb.debian.org/debian buster-updates/main amd64 Packages [8,788 B]\nFetched 8,470 kB in 5s (1,835 kB/s)\n\n\n\n\nThe following additional packages will be installed:\n  at-spi2-core ca-certificates-java dbus dbus-user-session\n  dconf-gsettings-backend dconf-service dmsetup fonts-dejavu-extra\n  glib-networking glib-networking-common glib-networking-services\n  gsettings-desktop-schemas java-common libapparmor1 libargon2-1 libasound2\n  libasound2-data libatk-bridge2.0-0 libatk-wrapper-java\n  libatk-wrapper-java-jni libatspi2.0-0 libcap2 libcolord2 libcryptsetup12\n  libdconf1 libdevmapper1.02.1 libdrm-amdgpu1 libdrm-common libdrm-intel1\n  libdrm-nouveau2 libdrm-radeon1 libdrm2 libepoxy0 libfontenc1 libgif7 libgl1\n  libgl1-mesa-dri libglapi-mesa libglvnd0 libglx-mesa0 libglx0 libgtk-3-0\n  libgtk-3-bin libgtk-3-common libidn11 libip4tc0 libjson-c3\n  libjson-glib-1.0-0 libjson-glib-1.0-common libkmod2 liblcms2-2 libllvm7\n  libnspr4 libnss-systemd libnss3 libpam-systemd libpciaccess0 libpcsclite1\n  libproxy1v5 librest-0.7-0 libsensors-config libsensors5 libsoup-gnome2.4-1\n  libsoup2.4-1 libwayland-client0 libwayland-cursor0 libwayland-egl1\n  libx11-xcb1 libxcb-dri2-0 libxcb-dri3-0 libxcb-glx0 libxcb-present0\n  libxcb-shape0 libxcb-sync1 libxkbcommon0 libxmuu1 libxshmfence1 libxt-dev\n  libxtst6 libxv1 libxxf86dga1 libxxf86vm1 openjdk-11-jdk-headless\n  openjdk-11-jre openjdk-11-jre-headless systemd systemd-sysv x11-utils\n  xkb-data\nSuggested packages:\n  default-jre libasound2-plugins alsa-utils colord gvfs liblcms2-utils\n  pciutils pcscd lm-sensors libxt-doc openjdk-11-demo openjdk-11-source\n  visualvm libnss-mdns fonts-ipafont-gothic fonts-ipafont-mincho\n  fonts-wqy-microhei | fonts-wqy-zenhei fonts-indic systemd-container\n  policykit-1 mesa-utils\nThe following NEW packages will be installed:\n  at-spi2-core ca-certificates-java dbus dbus-user-session\n  dconf-gsettings-backend dconf-service dmsetup fonts-dejavu-extra\n  glib-networking glib-networking-common glib-networking-services\n  gsettings-desktop-schemas java-common libapparmor1 libargon2-1 libasound2\n  libasound2-data libatk-bridge2.0-0 libatk-wrapper-java\n  libatk-wrapper-java-jni libatspi2.0-0 libcap2 libcolord2 libcryptsetup12\n  libdconf1 libdevmapper1.02.1 libdrm-amdgpu1 libdrm-common libdrm-intel1\n  libdrm-nouveau2 libdrm-radeon1 libdrm2 libepoxy0 libfontenc1 libgif7 libgl1\n  libgl1-mesa-dri libglapi-mesa libglvnd0 libglx-mesa0 libglx0 libgtk-3-0\n  libgtk-3-bin libgtk-3-common libidn11 libip4tc0 libjson-c3\n  libjson-glib-1.0-0 libjson-glib-1.0-common libkmod2 liblcms2-2 libllvm7\n  libnspr4 libnss-systemd libnss3 libpam-systemd libpciaccess0 libpcsclite1\n  libproxy1v5 librest-0.7-0 libsensors-config libsensors5 libsoup-gnome2.4-1\n  libsoup2.4-1 libwayland-client0 libwayland-cursor0 libwayland-egl1\n  libx11-xcb1 libxcb-dri2-0 libxcb-dri3-0 libxcb-glx0 libxcb-present0\n  libxcb-shape0 libxcb-sync1 libxkbcommon0 libxmuu1 libxshmfence1 libxt-dev\n  libxtst6 libxv1 libxxf86dga1 libxxf86vm1 openjdk-11-jdk\n  openjdk-11-jdk-headless openjdk-11-jre openjdk-11-jre-headless systemd\n  systemd-sysv x11-utils xkb-data\n0 upgraded, 90 newly installed, 0 to remove and 0 not upgraded.\nNeed to get 306 MB of archives.\nAfter this operation, 710 MB of additional disk space will be used.\nGet:1 http://deb.debian.org/debian buster/main amd64 libapparmor1 amd64 2.13.2-10 [94.7 kB]\nGet:2 http://deb.debian.org/debian buster/main amd64 libcap2 amd64 1:2.25-2 [17.6 kB]\nGet:3 http://deb.debian.org/debian buster/main amd64 libargon2-1 amd64 0~20171227-0.2 [19.6 kB]\nGet:4 http://deb.debian.org/debian buster/main amd64 dmsetup amd64 2:1.02.155-3 [90.8 kB]\nGet:5 http://deb.debian.org/debian buster/main amd64 libdevmapper1.02.1 amd64 2:1.02.155-3 [141 kB]\nGet:6 http://deb.debian.org/debian buster/main amd64 libjson-c3 amd64 0.12.1+ds-2+deb10u1 [27.3 kB]\nGet:7 http://deb.debian.org/debian buster/main amd64 libcryptsetup12 amd64 2:2.1.0-5+deb10u2 [193 kB]\nGet:8 http://deb.debian.org/debian buster/main amd64 libidn11 amd64 1.33-2.2 [116 kB]\nGet:9 http://deb.debian.org/debian buster/main amd64 libip4tc0 amd64 1.8.2-4 [70.2 kB]\nGet:10 http://deb.debian.org/debian buster/main amd64 libkmod2 amd64 26-1 [52.7 kB]\nGet:11 http://deb.debian.org/debian buster/main amd64 systemd amd64 241-7~deb10u8 [3,496 kB]\nGet:12 http://deb.debian.org/debian buster/main amd64 systemd-sysv amd64 241-7~deb10u8 [100 kB]\nGet:13 http://deb.debian.org/debian buster/main amd64 dbus amd64 1.12.20-0+deb10u1 [236 kB]\nGet:14 http://deb.debian.org/debian buster/main amd64 libnss-systemd amd64 241-7~deb10u8 [205 kB]\nGet:15 http://deb.debian.org/debian buster/main amd64 libpam-systemd amd64 241-7~deb10u8 [209 kB]\nGet:16 http://deb.debian.org/debian buster/main amd64 libatspi2.0-0 amd64 2.30.0-7 [65.0 kB]\nGet:17 http://deb.debian.org/debian buster/main amd64 libxtst6 amd64 2:1.2.3-1 [27.8 kB]\nGet:18 http://deb.debian.org/debian buster/main amd64 at-spi2-core amd64 2.30.0-7 [70.7 kB]\nGet:19 http://deb.debian.org/debian buster/main amd64 java-common all 0.71 [14.4 kB]\nGet:20 http://deb.debian.org/debian buster/main amd64 liblcms2-2 amd64 2.9-3 [145 kB]\nGet:21 http://deb.debian.org/debian buster/main amd64 libnspr4 amd64 2:4.20-1 [112 kB]\nGet:22 http://deb.debian.org/debian buster/main amd64 libnss3 amd64 2:3.42.1-1+deb10u5 [1,160 kB]\nGet:23 http://deb.debian.org/debian buster/main amd64 libasound2-data all 1.1.8-1 [59.6 kB]\nGet:24 http://deb.debian.org/debian buster/main amd64 libasound2 amd64 1.1.8-1 [361 kB]\nGet:25 http://deb.debian.org/debian buster/main amd64 libpcsclite1 amd64 1.8.24-1 [58.5 kB]\nGet:26 http://deb.debian.org/debian-security buster/updates/main amd64 openjdk-11-jre-headless amd64 11.0.16+8-1~deb10u1 [37.3 MB]\nGet:27 http://deb.debian.org/debian buster/main amd64 ca-certificates-java all 20190405 [15.7 kB]\nGet:28 http://deb.debian.org/debian buster/main amd64 dbus-user-session amd64 1.12.20-0+deb10u1 [94.5 kB]\nGet:29 http://deb.debian.org/debian buster/main amd64 libdconf1 amd64 0.30.1-2 [40.7 kB]\nGet:30 http://deb.debian.org/debian buster/main amd64 dconf-service amd64 0.30.1-2 [36.4 kB]\nGet:31 http://deb.debian.org/debian buster/main amd64 dconf-gsettings-backend amd64 0.30.1-2 [28.9 kB]\nGet:32 http://deb.debian.org/debian buster/main amd64 fonts-dejavu-extra all 2.37-1 [1,982 kB]\nGet:33 http://deb.debian.org/debian buster/main amd64 libproxy1v5 amd64 0.4.15-5+deb10u1 [56.1 kB]\nGet:34 http://deb.debian.org/debian buster/main amd64 glib-networking-common all 2.58.0-2+deb10u2 [59.5 kB]\nGet:35 http://deb.debian.org/debian buster/main amd64 glib-networking-services amd64 2.58.0-2+deb10u2 [13.7 kB]\nGet:36 http://deb.debian.org/debian buster/main amd64 gsettings-desktop-schemas all 3.28.1-1 [529 kB]\nGet:37 http://deb.debian.org/debian buster/main amd64 glib-networking amd64 2.58.0-2+deb10u2 [54.6 kB]\nGet:38 http://deb.debian.org/debian buster/main amd64 libatk-bridge2.0-0 amd64 2.30.0-5 [61.6 kB]\nGet:39 http://deb.debian.org/debian buster/main amd64 libfontenc1 amd64 1:1.1.3-1+b2 [24.4 kB]\nGet:40 http://deb.debian.org/debian buster/main amd64 libglvnd0 amd64 1.1.0-1 [48.6 kB]\nGet:41 http://deb.debian.org/debian buster/main amd64 libdrm-common all 2.4.97-1 [13.8 kB]\nGet:42 http://deb.debian.org/debian buster/main amd64 libdrm2 amd64 2.4.97-1 [39.7 kB]\nGet:43 http://deb.debian.org/debian buster/main amd64 libglapi-mesa amd64 18.3.6-2+deb10u1 [66.3 kB]\nGet:44 http://deb.debian.org/debian buster/main amd64 libx11-xcb1 amd64 2:1.6.7-1+deb10u2 [191 kB]\nGet:45 http://deb.debian.org/debian buster/main amd64 libxcb-dri2-0 amd64 1.13.1-2 [101 kB]\nGet:46 http://deb.debian.org/debian buster/main amd64 libxcb-dri3-0 amd64 1.13.1-2 [100 kB]\nGet:47 http://deb.debian.org/debian buster/main amd64 libxcb-glx0 amd64 1.13.1-2 [116 kB]\nGet:48 http://deb.debian.org/debian buster/main amd64 libxcb-present0 amd64 1.13.1-2 [99.1 kB]\nGet:49 http://deb.debian.org/debian buster/main amd64 libxcb-sync1 amd64 1.13.1-2 [103 kB]\nGet:50 http://deb.debian.org/debian buster/main amd64 libxshmfence1 amd64 1.3-1 [8,820 B]\nGet:51 http://deb.debian.org/debian buster/main amd64 libxxf86vm1 amd64 1:1.1.4-1+b2 [20.8 kB]\nGet:52 http://deb.debian.org/debian buster/main amd64 libdrm-amdgpu1 amd64 2.4.97-1 [27.3 kB]\nGet:53 http://deb.debian.org/debian buster/main amd64 libpciaccess0 amd64 0.14-1 [53.5 kB]\nGet:54 http://deb.debian.org/debian buster/main amd64 libdrm-intel1 amd64 2.4.97-1 [69.8 kB]\nGet:55 http://deb.debian.org/debian buster/main amd64 libdrm-nouveau2 amd64 2.4.97-1 [26.3 kB]\nGet:56 http://deb.debian.org/debian buster/main amd64 libdrm-radeon1 amd64 2.4.97-1 [31.1 kB]\nGet:57 http://deb.debian.org/debian buster/main amd64 libllvm7 amd64 1:7.0.1-8+deb10u2 [13.1 MB]\nGet:58 http://deb.debian.org/debian buster/main amd64 libsensors-config all 1:3.5.0-3 [31.6 kB]\nGet:59 http://deb.debian.org/debian buster/main amd64 libsensors5 amd64 1:3.5.0-3 [52.6 kB]\nGet:60 http://deb.debian.org/debian buster/main amd64 libgl1-mesa-dri amd64 18.3.6-2+deb10u1 [6,685 kB]\nGet:61 http://deb.debian.org/debian buster/main amd64 libglx-mesa0 amd64 18.3.6-2+deb10u1 [180 kB]\nGet:62 http://deb.debian.org/debian buster/main amd64 libglx0 amd64 1.1.0-1 [30.0 kB]\nGet:63 http://deb.debian.org/debian buster/main amd64 libgl1 amd64 1.1.0-1 [91.1 kB]\nGet:64 http://deb.debian.org/debian buster/main amd64 libxcb-shape0 amd64 1.13.1-2 [99.5 kB]\nGet:65 http://deb.debian.org/debian buster/main amd64 libxmuu1 amd64 2:1.1.2-2+b3 [23.9 kB]\nGet:66 http://deb.debian.org/debian buster/main amd64 libxv1 amd64 2:1.0.11-1 [24.6 kB]\nGet:67 http://deb.debian.org/debian buster/main amd64 libxxf86dga1 amd64 2:1.1.4-1+b3 [22.1 kB]\nGet:68 http://deb.debian.org/debian buster/main amd64 x11-utils amd64 7.7+4 [202 kB]\nGet:69 http://deb.debian.org/debian buster/main amd64 libatk-wrapper-java all 0.33.3-22+deb10u1 [45.5 kB]\nGet:70 http://deb.debian.org/debian buster/main amd64 libcolord2 amd64 1.4.3-4 [141 kB]\nGet:71 http://deb.debian.org/debian buster/main amd64 libepoxy0 amd64 1.5.3-0.1 [190 kB]\nGet:72 http://deb.debian.org/debian buster/main amd64 libjson-glib-1.0-common all 1.4.4-2 [52.3 kB]\nGet:73 http://deb.debian.org/debian buster/main amd64 libjson-glib-1.0-0 amd64 1.4.4-2 [61.2 kB]\nGet:74 http://deb.debian.org/debian buster/main amd64 libsoup2.4-1 amd64 2.64.2-2 [253 kB]\nGet:75 http://deb.debian.org/debian buster/main amd64 libsoup-gnome2.4-1 amd64 2.64.2-2 [18.0 kB]\nGet:76 http://deb.debian.org/debian buster/main amd64 librest-0.7-0 amd64 0.8.1-1 [33.7 kB]\nGet:77 http://deb.debian.org/debian buster/main amd64 libwayland-client0 amd64 1.16.0-1 [26.4 kB]\nGet:78 http://deb.debian.org/debian buster/main amd64 libwayland-cursor0 amd64 1.16.0-1 [14.1 kB]\nGet:79 http://deb.debian.org/debian buster/main amd64 libwayland-egl1 amd64 1.16.0-1 [8,204 B]\nGet:80 http://deb.debian.org/debian buster/main amd64 xkb-data all 2.26-2 [681 kB]\nGet:81 http://deb.debian.org/debian buster/main amd64 libxkbcommon0 amd64 0.8.2-1 [123 kB]\nGet:82 http://deb.debian.org/debian buster/main amd64 libgtk-3-common all 3.24.5-1 [3,678 kB]\nGet:83 http://deb.debian.org/debian buster/main amd64 libgtk-3-0 amd64 3.24.5-1 [2,580 kB]\nGet:84 http://deb.debian.org/debian buster/main amd64 libatk-wrapper-java-jni amd64 0.33.3-22+deb10u1 [39.5 kB]\nGet:85 http://deb.debian.org/debian buster/main amd64 libgif7 amd64 5.1.4-3 [43.3 kB]\nGet:86 http://deb.debian.org/debian buster/main amd64 libgtk-3-bin amd64 3.24.5-1 [114 kB]\nGet:87 http://deb.debian.org/debian buster/main amd64 libxt-dev amd64 1:1.1.5-1+b3 [426 kB]\nGet:88 http://deb.debian.org/debian-security buster/updates/main amd64 openjdk-11-jre amd64 11.0.16+8-1~deb10u1 [174 kB]\nGet:89 http://deb.debian.org/debian-security buster/updates/main amd64 openjdk-11-jdk-headless amd64 11.0.16+8-1~deb10u1 [221 MB]\nGet:90 http://deb.debian.org/debian-security buster/updates/main amd64 openjdk-11-jdk amd64 11.0.16+8-1~deb10u1 [7,073 kB]\nFetched 306 MB in 9s (35.5 MB/s)\ndebconf: delaying package configuration, since apt-utils is not installed\nSelecting previously unselected package libapparmor1:amd64.\n(Reading database ... 31086 files and directories currently installed.)\nPreparing to unpack .../00-libapparmor1_2.13.2-10_amd64.deb ...\nUnpacking libapparmor1:amd64 (2.13.2-10) ...\nSelecting previously unselected package libcap2:amd64.\nPreparing to unpack .../01-libcap2_1%3a2.25-2_amd64.deb ...\nUnpacking libcap2:amd64 (1:2.25-2) ...\nSelecting previously unselected package libargon2-1:amd64.\nPreparing to unpack .../02-libargon2-1_0~20171227-0.2_amd64.deb ...\nUnpacking libargon2-1:amd64 (0~20171227-0.2) ...\nSelecting previously unselected package dmsetup.\nPreparing to unpack .../03-dmsetup_2%3a1.02.155-3_amd64.deb ...\nUnpacking dmsetup (2:1.02.155-3) ...\nSelecting previously unselected package libdevmapper1.02.1:amd64.\nPreparing to unpack .../04-libdevmapper1.02.1_2%3a1.02.155-3_amd64.deb ...\nUnpacking libdevmapper1.02.1:amd64 (2:1.02.155-3) ...\nSelecting previously unselected package libjson-c3:amd64.\nPreparing to unpack .../05-libjson-c3_0.12.1+ds-2+deb10u1_amd64.deb ...\nUnpacking libjson-c3:amd64 (0.12.1+ds-2+deb10u1) ...\nSelecting previously unselected package libcryptsetup12:amd64.\nPreparing to unpack .../06-libcryptsetup12_2%3a2.1.0-5+deb10u2_amd64.deb ...\nUnpacking libcryptsetup12:amd64 (2:2.1.0-5+deb10u2) ...\nSelecting previously unselected package libidn11:amd64.\nPreparing to unpack .../07-libidn11_1.33-2.2_amd64.deb ...\nUnpacking libidn11:amd64 (1.33-2.2) ...\nSelecting previously unselected package libip4tc0:amd64.\nPreparing to unpack .../08-libip4tc0_1.8.2-4_amd64.deb ...\nUnpacking libip4tc0:amd64 (1.8.2-4) ...\nSelecting previously unselected package libkmod2:amd64.\nPreparing to unpack .../09-libkmod2_26-1_amd64.deb ...\nUnpacking libkmod2:amd64 (26-1) ...\nSelecting previously unselected package systemd.\nPreparing to unpack .../10-systemd_241-7~deb10u8_amd64.deb ...\nUnpacking systemd (241-7~deb10u8) ...\nSetting up libapparmor1:amd64 (2.13.2-10) ...\nSetting up libcap2:amd64 (1:2.25-2) ...\nSetting up libargon2-1:amd64 (0~20171227-0.2) ...\nSetting up libjson-c3:amd64 (0.12.1+ds-2+deb10u1) ...\nSetting up libidn11:amd64 (1.33-2.2) ...\nSetting up libip4tc0:amd64 (1.8.2-4) ...\nSetting up libkmod2:amd64 (26-1) ...\nSetting up libdevmapper1.02.1:amd64 (2:1.02.155-3) ...\nSetting up libcryptsetup12:amd64 (2:2.1.0-5+deb10u2) ...\nSetting up systemd (241-7~deb10u8) ...\nCreated symlink /etc/systemd/system/getty.target.wants/getty@tty1.service → /lib/systemd/system/getty@.service.\nCreated symlink /etc/systemd/system/multi-user.target.wants/remote-fs.target → /lib/systemd/system/remote-fs.target.\nCreated symlink /etc/systemd/system/dbus-org.freedesktop.timesync1.service → /lib/systemd/system/systemd-timesyncd.service.\nCreated symlink /etc/systemd/system/sysinit.target.wants/systemd-timesyncd.service → /lib/systemd/system/systemd-timesyncd.service.\nInitializing machine ID from KVM UUID.\nSetting up dmsetup (2:1.02.155-3) ...\nSelecting previously unselected package systemd-sysv.\n(Reading database ... 31921 files and directories currently installed.)\nPreparing to unpack .../00-systemd-sysv_241-7~deb10u8_amd64.deb ...\nUnpacking systemd-sysv (241-7~deb10u8) ...\nSelecting previously unselected package dbus.\nPreparing to unpack .../01-dbus_1.12.20-0+deb10u1_amd64.deb ...\nUnpacking dbus (1.12.20-0+deb10u1) ...\nSelecting previously unselected package libnss-systemd:amd64.\nPreparing to unpack .../02-libnss-systemd_241-7~deb10u8_amd64.deb ...\nUnpacking libnss-systemd:amd64 (241-7~deb10u8) ...\nSelecting previously unselected package libpam-systemd:amd64.\nPreparing to unpack .../03-libpam-systemd_241-7~deb10u8_amd64.deb ...\nUnpacking libpam-systemd:amd64 (241-7~deb10u8) ...\nSelecting previously unselected package libatspi2.0-0:amd64.\nPreparing to unpack .../04-libatspi2.0-0_2.30.0-7_amd64.deb ...\nUnpacking libatspi2.0-0:amd64 (2.30.0-7) ...\nSelecting previously unselected package libxtst6:amd64.\nPreparing to unpack .../05-libxtst6_2%3a1.2.3-1_amd64.deb ...\nUnpacking libxtst6:amd64 (2:1.2.3-1) ...\nSelecting previously unselected package at-spi2-core.\nPreparing to unpack .../06-at-spi2-core_2.30.0-7_amd64.deb ...\nUnpacking at-spi2-core (2.30.0-7) ...\nSelecting previously unselected package java-common.\nPreparing to unpack .../07-java-common_0.71_all.deb ...\nUnpacking java-common (0.71) ...\nSelecting previously unselected package liblcms2-2:amd64.\nPreparing to unpack .../08-liblcms2-2_2.9-3_amd64.deb ...\nUnpacking liblcms2-2:amd64 (2.9-3) ...\nSelecting previously unselected package libnspr4:amd64.\nPreparing to unpack .../09-libnspr4_2%3a4.20-1_amd64.deb ...\nUnpacking libnspr4:amd64 (2:4.20-1) ...\nSelecting previously unselected package libnss3:amd64.\nPreparing to unpack .../10-libnss3_2%3a3.42.1-1+deb10u5_amd64.deb ...\nUnpacking libnss3:amd64 (2:3.42.1-1+deb10u5) ...\nSelecting previously unselected package libasound2-data.\nPreparing to unpack .../11-libasound2-data_1.1.8-1_all.deb ...\nUnpacking libasound2-data (1.1.8-1) ...\nSelecting previously unselected package libasound2:amd64.\nPreparing to unpack .../12-libasound2_1.1.8-1_amd64.deb ...\nUnpacking libasound2:amd64 (1.1.8-1) ...\nSelecting previously unselected package libpcsclite1:amd64.\nPreparing to unpack .../13-libpcsclite1_1.8.24-1_amd64.deb ...\nUnpacking libpcsclite1:amd64 (1.8.24-1) ...\nSelecting previously unselected package openjdk-11-jre-headless:amd64.\nPreparing to unpack .../14-openjdk-11-jre-headless_11.0.16+8-1~deb10u1_amd64.deb ...\nUnpacking openjdk-11-jre-headless:amd64 (11.0.16+8-1~deb10u1) ...\nSelecting previously unselected package ca-certificates-java.\nPreparing to unpack .../15-ca-certificates-java_20190405_all.deb ...\nUnpacking ca-certificates-java (20190405) ...\nSelecting previously unselected package dbus-user-session.\nPreparing to unpack .../16-dbus-user-session_1.12.20-0+deb10u1_amd64.deb ...\nUnpacking dbus-user-session (1.12.20-0+deb10u1) ...\nSelecting previously unselected package libdconf1:amd64.\nPreparing to unpack .../17-libdconf1_0.30.1-2_amd64.deb ...\nUnpacking libdconf1:amd64 (0.30.1-2) ...\nSelecting previously unselected package dconf-service.\nPreparing to unpack .../18-dconf-service_0.30.1-2_amd64.deb ...\nUnpacking dconf-service (0.30.1-2) ...\nSelecting previously unselected package dconf-gsettings-backend:amd64.\nPreparing to unpack .../19-dconf-gsettings-backend_0.30.1-2_amd64.deb ...\nUnpacking dconf-gsettings-backend:amd64 (0.30.1-2) ...\nSelecting previously unselected package fonts-dejavu-extra.\nPreparing to unpack .../20-fonts-dejavu-extra_2.37-1_all.deb ...\nUnpacking fonts-dejavu-extra (2.37-1) ...\nSelecting previously unselected package libproxy1v5:amd64.\nPreparing to unpack .../21-libproxy1v5_0.4.15-5+deb10u1_amd64.deb ...\nUnpacking libproxy1v5:amd64 (0.4.15-5+deb10u1) ...\nSelecting previously unselected package glib-networking-common.\nPreparing to unpack .../22-glib-networking-common_2.58.0-2+deb10u2_all.deb ...\nUnpacking glib-networking-common (2.58.0-2+deb10u2) ...\nSelecting previously unselected package glib-networking-services.\nPreparing to unpack .../23-glib-networking-services_2.58.0-2+deb10u2_amd64.deb ...\nUnpacking glib-networking-services (2.58.0-2+deb10u2) ...\nSelecting previously unselected package gsettings-desktop-schemas.\nPreparing to unpack .../24-gsettings-desktop-schemas_3.28.1-1_all.deb ...\nUnpacking gsettings-desktop-schemas (3.28.1-1) ...\nSelecting previously unselected package glib-networking:amd64.\nPreparing to unpack .../25-glib-networking_2.58.0-2+deb10u2_amd64.deb ...\nUnpacking glib-networking:amd64 (2.58.0-2+deb10u2) ...\nSelecting previously unselected package libatk-bridge2.0-0:amd64.\nPreparing to unpack .../26-libatk-bridge2.0-0_2.30.0-5_amd64.deb ...\nUnpacking libatk-bridge2.0-0:amd64 (2.30.0-5) ...\nSelecting previously unselected package libfontenc1:amd64.\nPreparing to unpack .../27-libfontenc1_1%3a1.1.3-1+b2_amd64.deb ...\nUnpacking libfontenc1:amd64 (1:1.1.3-1+b2) ...\nSelecting previously unselected package libglvnd0:amd64.\nPreparing to unpack .../28-libglvnd0_1.1.0-1_amd64.deb ...\nUnpacking libglvnd0:amd64 (1.1.0-1) ...\nSelecting previously unselected package libdrm-common.\nPreparing to unpack .../29-libdrm-common_2.4.97-1_all.deb ...\nUnpacking libdrm-common (2.4.97-1) ...\nSelecting previously unselected package libdrm2:amd64.\nPreparing to unpack .../30-libdrm2_2.4.97-1_amd64.deb ...\nUnpacking libdrm2:amd64 (2.4.97-1) ...\nSelecting previously unselected package libglapi-mesa:amd64.\nPreparing to unpack .../31-libglapi-mesa_18.3.6-2+deb10u1_amd64.deb ...\nUnpacking libglapi-mesa:amd64 (18.3.6-2+deb10u1) ...\nSelecting previously unselected package libx11-xcb1:amd64.\nPreparing to unpack .../32-libx11-xcb1_2%3a1.6.7-1+deb10u2_amd64.deb ...\nUnpacking libx11-xcb1:amd64 (2:1.6.7-1+deb10u2) ...\nSelecting previously unselected package libxcb-dri2-0:amd64.\nPreparing to unpack .../33-libxcb-dri2-0_1.13.1-2_amd64.deb ...\nUnpacking libxcb-dri2-0:amd64 (1.13.1-2) ...\nSelecting previously unselected package libxcb-dri3-0:amd64.\nPreparing to unpack .../34-libxcb-dri3-0_1.13.1-2_amd64.deb ...\nUnpacking libxcb-dri3-0:amd64 (1.13.1-2) ...\nSelecting previously unselected package libxcb-glx0:amd64.\nPreparing to unpack .../35-libxcb-glx0_1.13.1-2_amd64.deb ...\nUnpacking libxcb-glx0:amd64 (1.13.1-2) ...\nSelecting previously unselected package libxcb-present0:amd64.\nPreparing to unpack .../36-libxcb-present0_1.13.1-2_amd64.deb ...\nUnpacking libxcb-present0:amd64 (1.13.1-2) ...\nSelecting previously unselected package libxcb-sync1:amd64.\nPreparing to unpack .../37-libxcb-sync1_1.13.1-2_amd64.deb ...\nUnpacking libxcb-sync1:amd64 (1.13.1-2) ...\nSelecting previously unselected package libxshmfence1:amd64.\nPreparing to unpack .../38-libxshmfence1_1.3-1_amd64.deb ...\nUnpacking libxshmfence1:amd64 (1.3-1) ...\nSelecting previously unselected package libxxf86vm1:amd64.\nPreparing to unpack .../39-libxxf86vm1_1%3a1.1.4-1+b2_amd64.deb ...\nUnpacking libxxf86vm1:amd64 (1:1.1.4-1+b2) ...\nSelecting previously unselected package libdrm-amdgpu1:amd64.\nPreparing to unpack .../40-libdrm-amdgpu1_2.4.97-1_amd64.deb ...\nUnpacking libdrm-amdgpu1:amd64 (2.4.97-1) ...\nSelecting previously unselected package libpciaccess0:amd64.\nPreparing to unpack .../41-libpciaccess0_0.14-1_amd64.deb ...\nUnpacking libpciaccess0:amd64 (0.14-1) ...\nSelecting previously unselected package libdrm-intel1:amd64.\nPreparing to unpack .../42-libdrm-intel1_2.4.97-1_amd64.deb ...\nUnpacking libdrm-intel1:amd64 (2.4.97-1) ...\nSelecting previously unselected package libdrm-nouveau2:amd64.\nPreparing to unpack .../43-libdrm-nouveau2_2.4.97-1_amd64.deb ...\nUnpacking libdrm-nouveau2:amd64 (2.4.97-1) ...\nSelecting previously unselected package libdrm-radeon1:amd64.\nPreparing to unpack .../44-libdrm-radeon1_2.4.97-1_amd64.deb ...\nUnpacking libdrm-radeon1:amd64 (2.4.97-1) ...\nSelecting previously unselected package libllvm7:amd64.\nPreparing to unpack .../45-libllvm7_1%3a7.0.1-8+deb10u2_amd64.deb ...\nUnpacking libllvm7:amd64 (1:7.0.1-8+deb10u2) ...\nSelecting previously unselected package libsensors-config.\nPreparing to unpack .../46-libsensors-config_1%3a3.5.0-3_all.deb ...\nUnpacking libsensors-config (1:3.5.0-3) ...\nSelecting previously unselected package libsensors5:amd64.\nPreparing to unpack .../47-libsensors5_1%3a3.5.0-3_amd64.deb ...\nUnpacking libsensors5:amd64 (1:3.5.0-3) ...\nSelecting previously unselected package libgl1-mesa-dri:amd64.\nPreparing to unpack .../48-libgl1-mesa-dri_18.3.6-2+deb10u1_amd64.deb ...\nUnpacking libgl1-mesa-dri:amd64 (18.3.6-2+deb10u1) ...\nSelecting previously unselected package libglx-mesa0:amd64.\nPreparing to unpack .../49-libglx-mesa0_18.3.6-2+deb10u1_amd64.deb ...\nUnpacking libglx-mesa0:amd64 (18.3.6-2+deb10u1) ...\nSelecting previously unselected package libglx0:amd64.\nPreparing to unpack .../50-libglx0_1.1.0-1_amd64.deb ...\nUnpacking libglx0:amd64 (1.1.0-1) ...\nSelecting previously unselected package libgl1:amd64.\nPreparing to unpack .../51-libgl1_1.1.0-1_amd64.deb ...\nUnpacking libgl1:amd64 (1.1.0-1) ...\nSelecting previously unselected package libxcb-shape0:amd64.\nPreparing to unpack .../52-libxcb-shape0_1.13.1-2_amd64.deb ...\nUnpacking libxcb-shape0:amd64 (1.13.1-2) ...\nSelecting previously unselected package libxmuu1:amd64.\nPreparing to unpack .../53-libxmuu1_2%3a1.1.2-2+b3_amd64.deb ...\nUnpacking libxmuu1:amd64 (2:1.1.2-2+b3) ...\nSelecting previously unselected package libxv1:amd64.\nPreparing to unpack .../54-libxv1_2%3a1.0.11-1_amd64.deb ...\nUnpacking libxv1:amd64 (2:1.0.11-1) ...\nSelecting previously unselected package libxxf86dga1:amd64.\nPreparing to unpack .../55-libxxf86dga1_2%3a1.1.4-1+b3_amd64.deb ...\nUnpacking libxxf86dga1:amd64 (2:1.1.4-1+b3) ...\nSelecting previously unselected package x11-utils.\nPreparing to unpack .../56-x11-utils_7.7+4_amd64.deb ...\nUnpacking x11-utils (7.7+4) ...\nSelecting previously unselected package libatk-wrapper-java.\nPreparing to unpack .../57-libatk-wrapper-java_0.33.3-22+deb10u1_all.deb ...\nUnpacking libatk-wrapper-java (0.33.3-22+deb10u1) ...\nSelecting previously unselected package libcolord2:amd64.\nPreparing to unpack .../58-libcolord2_1.4.3-4_amd64.deb ...\nUnpacking libcolord2:amd64 (1.4.3-4) ...\nSelecting previously unselected package libepoxy0:amd64.\nPreparing to unpack .../59-libepoxy0_1.5.3-0.1_amd64.deb ...\nUnpacking libepoxy0:amd64 (1.5.3-0.1) ...\nSelecting previously unselected package libjson-glib-1.0-common.\nPreparing to unpack .../60-libjson-glib-1.0-common_1.4.4-2_all.deb ...\nUnpacking libjson-glib-1.0-common (1.4.4-2) ...\nSelecting previously unselected package libjson-glib-1.0-0:amd64.\nPreparing to unpack .../61-libjson-glib-1.0-0_1.4.4-2_amd64.deb ...\nUnpacking libjson-glib-1.0-0:amd64 (1.4.4-2) ...\nSelecting previously unselected package libsoup2.4-1:amd64.\nPreparing to unpack .../62-libsoup2.4-1_2.64.2-2_amd64.deb ...\nUnpacking libsoup2.4-1:amd64 (2.64.2-2) ...\nSelecting previously unselected package libsoup-gnome2.4-1:amd64.\nPreparing to unpack .../63-libsoup-gnome2.4-1_2.64.2-2_amd64.deb ...\nUnpacking libsoup-gnome2.4-1:amd64 (2.64.2-2) ...\nSelecting previously unselected package librest-0.7-0:amd64.\nPreparing to unpack .../64-librest-0.7-0_0.8.1-1_amd64.deb ...\nUnpacking librest-0.7-0:amd64 (0.8.1-1) ...\nSelecting previously unselected package libwayland-client0:amd64.\nPreparing to unpack .../65-libwayland-client0_1.16.0-1_amd64.deb ...\nUnpacking libwayland-client0:amd64 (1.16.0-1) ...\nSelecting previously unselected package libwayland-cursor0:amd64.\nPreparing to unpack .../66-libwayland-cursor0_1.16.0-1_amd64.deb ...\nUnpacking libwayland-cursor0:amd64 (1.16.0-1) ...\nSelecting previously unselected package libwayland-egl1:amd64.\nPreparing to unpack .../67-libwayland-egl1_1.16.0-1_amd64.deb ...\nUnpacking libwayland-egl1:amd64 (1.16.0-1) ...\nSelecting previously unselected package xkb-data.\nPreparing to unpack .../68-xkb-data_2.26-2_all.deb ...\nUnpacking xkb-data (2.26-2) ...\nSelecting previously unselected package libxkbcommon0:amd64.\nPreparing to unpack .../69-libxkbcommon0_0.8.2-1_amd64.deb ...\nUnpacking libxkbcommon0:amd64 (0.8.2-1) ...\nSelecting previously unselected package libgtk-3-common.\nPreparing to unpack .../70-libgtk-3-common_3.24.5-1_all.deb ...\nUnpacking libgtk-3-common (3.24.5-1) ...\nSelecting previously unselected package libgtk-3-0:amd64.\nPreparing to unpack .../71-libgtk-3-0_3.24.5-1_amd64.deb ...\nUnpacking libgtk-3-0:amd64 (3.24.5-1) ...\nSelecting previously unselected package libatk-wrapper-java-jni:amd64.\nPreparing to unpack .../72-libatk-wrapper-java-jni_0.33.3-22+deb10u1_amd64.deb ...\nUnpacking libatk-wrapper-java-jni:amd64 (0.33.3-22+deb10u1) ...\nSelecting previously unselected package libgif7:amd64.\nPreparing to unpack .../73-libgif7_5.1.4-3_amd64.deb ...\nUnpacking libgif7:amd64 (5.1.4-3) ...\nSelecting previously unselected package libgtk-3-bin.\nPreparing to unpack .../74-libgtk-3-bin_3.24.5-1_amd64.deb ...\nUnpacking libgtk-3-bin (3.24.5-1) ...\nSelecting previously unselected package libxt-dev:amd64.\nPreparing to unpack .../75-libxt-dev_1%3a1.1.5-1+b3_amd64.deb ...\nUnpacking libxt-dev:amd64 (1:1.1.5-1+b3) ...\nSelecting previously unselected package openjdk-11-jre:amd64.\nPreparing to unpack .../76-openjdk-11-jre_11.0.16+8-1~deb10u1_amd64.deb ...\nUnpacking openjdk-11-jre:amd64 (11.0.16+8-1~deb10u1) ...\nSelecting previously unselected package openjdk-11-jdk-headless:amd64.\nPreparing to unpack .../77-openjdk-11-jdk-headless_11.0.16+8-1~deb10u1_amd64.deb ...\nUnpacking openjdk-11-jdk-headless:amd64 (11.0.16+8-1~deb10u1) ...\nSelecting previously unselected package openjdk-11-jdk:amd64.\nPreparing to unpack .../78-openjdk-11-jdk_11.0.16+8-1~deb10u1_amd64.deb ...\nUnpacking openjdk-11-jdk:amd64 (11.0.16+8-1~deb10u1) ...\nSetting up libxcb-dri3-0:amd64 (1.13.1-2) ...\nSetting up liblcms2-2:amd64 (2.9-3) ...\nSetting up libx11-xcb1:amd64 (2:1.6.7-1+deb10u2) ...\nSetting up libpciaccess0:amd64 (0.14-1) ...\nSetting up systemd-sysv (241-7~deb10u8) ...\nSetting up libproxy1v5:amd64 (0.4.15-5+deb10u1) ...\nSetting up java-common (0.71) ...\nSetting up libglvnd0:amd64 (1.1.0-1) ...\nSetting up libxtst6:amd64 (2:1.2.3-1) ...\nSetting up libxcb-glx0:amd64 (1.13.1-2) ...\nSetting up libxcb-shape0:amd64 (1.13.1-2) ...\nSetting up libsensors-config (1:3.5.0-3) ...\nSetting up libxxf86dga1:amd64 (2:1.1.4-1+b3) ...\nSetting up libnss-systemd:amd64 (241-7~deb10u8) ...\nFirst installation detected...\nChecking NSS setup...\nSetting up xkb-data (2.26-2) ...\nSetting up libatspi2.0-0:amd64 (2.30.0-7) ...\nSetting up libcolord2:amd64 (1.4.3-4) ...\nSetting up libxxf86vm1:amd64 (1:1.1.4-1+b2) ...\nSetting up libxcb-present0:amd64 (1.13.1-2) ...\nSetting up libdconf1:amd64 (0.30.1-2) ...\nSetting up libasound2-data (1.1.8-1) ...\nSetting up libatk-bridge2.0-0:amd64 (2.30.0-5) ...\nSetting up libfontenc1:amd64 (1:1.1.3-1+b2) ...\nSetting up libepoxy0:amd64 (1.5.3-0.1) ...\nSetting up libnspr4:amd64 (2:4.20-1) ...\nSetting up libxcb-sync1:amd64 (1.13.1-2) ...\nSetting up libxt-dev:amd64 (1:1.1.5-1+b3) ...\nSetting up dbus (1.12.20-0+deb10u1) ...\ninvoke-rc.d: could not determine current runlevel\ninvoke-rc.d: policy-rc.d denied execution of start.\nSetting up libxv1:amd64 (2:1.0.11-1) ...\nSetting up libpcsclite1:amd64 (1.8.24-1) ...\nSetting up libsensors5:amd64 (1:3.5.0-3) ...\nSetting up libglapi-mesa:amd64 (18.3.6-2+deb10u1) ...\nSetting up libxcb-dri2-0:amd64 (1.13.1-2) ...\nSetting up libgif7:amd64 (5.1.4-3) ...\nSetting up fonts-dejavu-extra (2.37-1) ...\nSetting up at-spi2-core (2.30.0-7) ...\nSetting up libxshmfence1:amd64 (1.3-1) ...\nSetting up libasound2:amd64 (1.1.8-1) ...\nSetting up libpam-systemd:amd64 (241-7~deb10u8) ...\ndebconf: unable to initialize frontend: Dialog\ndebconf: (No usable dialog-like program is installed, so the dialog based frontend cannot be used. at /usr/share/perl5/Debconf/FrontEnd/Dialog.pm line 78.)\ndebconf: falling back to frontend: Readline\nSetting up libllvm7:amd64 (1:7.0.1-8+deb10u2) ...\nSetting up libjson-glib-1.0-common (1.4.4-2) ...\nSetting up libwayland-egl1:amd64 (1.16.0-1) ...\nSetting up glib-networking-common (2.58.0-2+deb10u2) ...\nSetting up libdrm-common (2.4.97-1) ...\nSetting up libxmuu1:amd64 (2:1.1.2-2+b3) ...\nSetting up libxkbcommon0:amd64 (0.8.2-1) ...\nSetting up libwayland-client0:amd64 (1.16.0-1) ...\nSetting up glib-networking-services (2.58.0-2+deb10u2) ...\nSetting up libnss3:amd64 (2:3.42.1-1+deb10u5) ...\nSetting up libjson-glib-1.0-0:amd64 (1.4.4-2) ...\nSetting up dbus-user-session (1.12.20-0+deb10u1) ...\nSetting up libdrm2:amd64 (2.4.97-1) ...\nSetting up libwayland-cursor0:amd64 (1.16.0-1) ...\nSetting up libdrm-amdgpu1:amd64 (2.4.97-1) ...\nSetting up libdrm-nouveau2:amd64 (2.4.97-1) ...\nSetting up libdrm-radeon1:amd64 (2.4.97-1) ...\nSetting up libdrm-intel1:amd64 (2.4.97-1) ...\nSetting up libgl1-mesa-dri:amd64 (18.3.6-2+deb10u1) ...\nSetting up dconf-service (0.30.1-2) ...\nSetting up libglx-mesa0:amd64 (18.3.6-2+deb10u1) ...\nSetting up libglx0:amd64 (1.1.0-1) ...\nSetting up dconf-gsettings-backend:amd64 (0.30.1-2) ...\nSetting up libgl1:amd64 (1.1.0-1) ...\nSetting up x11-utils (7.7+4) ...\nSetting up libatk-wrapper-java (0.33.3-22+deb10u1) ...\nSetting up libgtk-3-common (3.24.5-1) ...\nSetting up gsettings-desktop-schemas (3.28.1-1) ...\nSetting up openjdk-11-jre-headless:amd64 (11.0.16+8-1~deb10u1) ...\nupdate-alternatives: using /usr/lib/jvm/java-11-openjdk-amd64/bin/java to provide /usr/bin/java (java) in auto mode\nupdate-alternatives: using /usr/lib/jvm/java-11-openjdk-amd64/bin/jjs to provide /usr/bin/jjs (jjs) in auto mode\nupdate-alternatives: using /usr/lib/jvm/java-11-openjdk-amd64/bin/keytool to provide /usr/bin/keytool (keytool) in auto mode\nupdate-alternatives: using /usr/lib/jvm/java-11-openjdk-amd64/bin/rmid to provide /usr/bin/rmid (rmid) in auto mode\nupdate-alternatives: using /usr/lib/jvm/java-11-openjdk-amd64/bin/rmiregistry to provide /usr/bin/rmiregistry (rmiregistry) in auto mode\nupdate-alternatives: using /usr/lib/jvm/java-11-openjdk-amd64/bin/pack200 to provide /usr/bin/pack200 (pack200) in auto mode\nupdate-alternatives: using /usr/lib/jvm/java-11-openjdk-amd64/bin/unpack200 to provide /usr/bin/unpack200 (unpack200) in auto mode\nupdate-alternatives: using /usr/lib/jvm/java-11-openjdk-amd64/lib/jexec to provide /usr/bin/jexec (jexec) in auto mode\nSetting up openjdk-11-jre:amd64 (11.0.16+8-1~deb10u1) ...\nSetting up openjdk-11-jdk-headless:amd64 (11.0.16+8-1~deb10u1) ...\nupdate-alternatives: using /usr/lib/jvm/java-11-openjdk-amd64/bin/jar to provide /usr/bin/jar (jar) in auto mode\nupdate-alternatives: using /usr/lib/jvm/java-11-openjdk-amd64/bin/jarsigner to provide /usr/bin/jarsigner (jarsigner) in auto mode\nupdate-alternatives: using /usr/lib/jvm/java-11-openjdk-amd64/bin/javac to provide /usr/bin/javac (javac) in auto mode\nupdate-alternatives: using /usr/lib/jvm/java-11-openjdk-amd64/bin/javadoc to provide /usr/bin/javadoc (javadoc) in auto mode\nupdate-alternatives: using /usr/lib/jvm/java-11-openjdk-amd64/bin/javap to provide /usr/bin/javap (javap) in auto mode\nupdate-alternatives: using /usr/lib/jvm/java-11-openjdk-amd64/bin/jcmd to provide /usr/bin/jcmd (jcmd) in auto mode\nupdate-alternatives: using /usr/lib/jvm/java-11-openjdk-amd64/bin/jdb to provide /usr/bin/jdb (jdb) in auto mode\nupdate-alternatives: using /usr/lib/jvm/java-11-openjdk-amd64/bin/jdeprscan to provide /usr/bin/jdeprscan (jdeprscan) in auto mode\nupdate-alternatives: using /usr/lib/jvm/java-11-openjdk-amd64/bin/jdeps to provide /usr/bin/jdeps (jdeps) in auto mode\nupdate-alternatives: using /usr/lib/jvm/java-11-openjdk-amd64/bin/jfr to provide /usr/bin/jfr (jfr) in auto mode\nupdate-alternatives: using /usr/lib/jvm/java-11-openjdk-amd64/bin/jimage to provide /usr/bin/jimage (jimage) in auto mode\nupdate-alternatives: using /usr/lib/jvm/java-11-openjdk-amd64/bin/jinfo to provide /usr/bin/jinfo (jinfo) in auto mode\nupdate-alternatives: using /usr/lib/jvm/java-11-openjdk-amd64/bin/jlink to provide /usr/bin/jlink (jlink) in auto mode\nupdate-alternatives: using /usr/lib/jvm/java-11-openjdk-amd64/bin/jmap to provide /usr/bin/jmap (jmap) in auto mode\nupdate-alternatives: using /usr/lib/jvm/java-11-openjdk-amd64/bin/jmod to provide /usr/bin/jmod (jmod) in auto mode\nupdate-alternatives: using /usr/lib/jvm/java-11-openjdk-amd64/bin/jps to provide /usr/bin/jps (jps) in auto mode\nupdate-alternatives: using /usr/lib/jvm/java-11-openjdk-amd64/bin/jrunscript to provide /usr/bin/jrunscript (jrunscript) in auto mode\nupdate-alternatives: using /usr/lib/jvm/java-11-openjdk-amd64/bin/jshell to provide /usr/bin/jshell (jshell) in auto mode\nupdate-alternatives: using /usr/lib/jvm/java-11-openjdk-amd64/bin/jstack to provide /usr/bin/jstack (jstack) in auto mode\nupdate-alternatives: using /usr/lib/jvm/java-11-openjdk-amd64/bin/jstat to provide /usr/bin/jstat (jstat) in auto mode\nupdate-alternatives: using /usr/lib/jvm/java-11-openjdk-amd64/bin/jstatd to provide /usr/bin/jstatd (jstatd) in auto mode\nupdate-alternatives: using /usr/lib/jvm/java-11-openjdk-amd64/bin/rmic to provide /usr/bin/rmic (rmic) in auto mode\nupdate-alternatives: using /usr/lib/jvm/java-11-openjdk-amd64/bin/serialver to provide /usr/bin/serialver (serialver) in auto mode\nupdate-alternatives: using /usr/lib/jvm/java-11-openjdk-amd64/bin/jaotc to provide /usr/bin/jaotc (jaotc) in auto mode\nupdate-alternatives: using /usr/lib/jvm/java-11-openjdk-amd64/bin/jhsdb to provide /usr/bin/jhsdb (jhsdb) in auto mode\nSetting up openjdk-11-jdk:amd64 (11.0.16+8-1~deb10u1) ...\nupdate-alternatives: using /usr/lib/jvm/java-11-openjdk-amd64/bin/jconsole to provide /usr/bin/jconsole (jconsole) in auto mode\nSetting up ca-certificates-java (20190405) ...\nhead: cannot open '/etc/ssl/certs/java/cacerts' for reading: No such file or directory\nAdding debian:ACCVRAIZ1.pem\nAdding debian:AC_RAIZ_FNMT-RCM.pem\nAdding debian:Actalis_Authentication_Root_CA.pem\nAdding debian:AffirmTrust_Commercial.pem\nAdding debian:AffirmTrust_Networking.pem\nAdding debian:AffirmTrust_Premium.pem\nAdding debian:AffirmTrust_Premium_ECC.pem\nAdding debian:Amazon_Root_CA_1.pem\nAdding debian:Amazon_Root_CA_2.pem\nAdding debian:Amazon_Root_CA_3.pem\nAdding debian:Amazon_Root_CA_4.pem\nAdding debian:Atos_TrustedRoot_2011.pem\nAdding debian:Autoridad_de_Certificacion_Firmaprofesional_CIF_A62634068.pem\nAdding debian:Baltimore_CyberTrust_Root.pem\nAdding debian:Buypass_Class_2_Root_CA.pem\nAdding debian:Buypass_Class_3_Root_CA.pem\nAdding debian:CA_Disig_Root_R2.pem\nAdding debian:CFCA_EV_ROOT.pem\nAdding debian:COMODO_Certification_Authority.pem\nAdding debian:COMODO_ECC_Certification_Authority.pem\nAdding debian:COMODO_RSA_Certification_Authority.pem\nAdding debian:Certigna.pem\nAdding debian:Certigna_Root_CA.pem\nAdding debian:Certum_Trusted_Network_CA.pem\nAdding debian:Certum_Trusted_Network_CA_2.pem\nAdding debian:Chambers_of_Commerce_Root_-_2008.pem\nAdding debian:Comodo_AAA_Services_root.pem\nAdding debian:Cybertrust_Global_Root.pem\nAdding debian:D-TRUST_Root_Class_3_CA_2_2009.pem\nAdding debian:D-TRUST_Root_Class_3_CA_2_EV_2009.pem\nAdding debian:DST_Root_CA_X3.pem\nAdding debian:DigiCert_Assured_ID_Root_CA.pem\nAdding debian:DigiCert_Assured_ID_Root_G2.pem\nAdding debian:DigiCert_Assured_ID_Root_G3.pem\nAdding debian:DigiCert_Global_Root_CA.pem\nAdding debian:DigiCert_Global_Root_G2.pem\nAdding debian:DigiCert_Global_Root_G3.pem\nAdding debian:DigiCert_High_Assurance_EV_Root_CA.pem\nAdding debian:DigiCert_Trusted_Root_G4.pem\nAdding debian:E-Tugra_Certification_Authority.pem\nAdding debian:EC-ACC.pem\nAdding debian:EE_Certification_Centre_Root_CA.pem\nAdding debian:Entrust.net_Premium_2048_Secure_Server_CA.pem\nAdding debian:Entrust_Root_Certification_Authority.pem\nAdding debian:GDCA_TrustAUTH_R5_ROOT.pem\nAdding debian:Entrust_Root_Certification_Authority_-_EC1.pem\nAdding debian:Entrust_Root_Certification_Authority_-_G2.pem\nAdding debian:Entrust_Root_Certification_Authority_-_G4.pem\nAdding debian:GTS_Root_R1.pem\nAdding debian:GTS_Root_R2.pem\nAdding debian:GTS_Root_R3.pem\nAdding debian:GTS_Root_R4.pem\nAdding debian:GeoTrust_Global_CA.pem\nAdding debian:GeoTrust_Primary_Certification_Authority.pem\nAdding debian:GeoTrust_Primary_Certification_Authority_-_G2.pem\nAdding debian:GeoTrust_Primary_Certification_Authority_-_G3.pem\nAdding debian:GeoTrust_Universal_CA.pem\nAdding debian:GeoTrust_Universal_CA_2.pem\nAdding debian:GlobalSign_ECC_Root_CA_-_R4.pem\nAdding debian:GlobalSign_ECC_Root_CA_-_R5.pem\nAdding debian:GlobalSign_Root_CA.pem\nAdding debian:GlobalSign_Root_CA_-_R2.pem\nAdding debian:GlobalSign_Root_CA_-_R3.pem\nAdding debian:GlobalSign_Root_CA_-_R6.pem\nAdding debian:Global_Chambersign_Root_-_2008.pem\nAdding debian:Go_Daddy_Class_2_CA.pem\nAdding debian:Go_Daddy_Root_Certificate_Authority_-_G2.pem\nAdding debian:Hellenic_Academic_and_Research_Institutions_ECC_RootCA_2015.pem\nAdding debian:Hellenic_Academic_and_Research_Institutions_RootCA_2011.pem\nAdding debian:Hellenic_Academic_and_Research_Institutions_RootCA_2015.pem\nAdding debian:Hongkong_Post_Root_CA_1.pem\nAdding debian:Hongkong_Post_Root_CA_3.pem\nAdding debian:ISRG_Root_X1.pem\nAdding debian:IdenTrust_Commercial_Root_CA_1.pem\nAdding debian:IdenTrust_Public_Sector_Root_CA_1.pem\nAdding debian:Izenpe.com.pem\nAdding debian:LuxTrust_Global_Root_2.pem\nAdding debian:Microsec_e-Szigno_Root_CA_2009.pem\nAdding debian:NetLock_Arany_=Class_Gold=_Főtanúsítvány.pem\nAdding debian:Network_Solutions_Certificate_Authority.pem\nAdding debian:OISTE_WISeKey_Global_Root_GA_CA.pem\nAdding debian:OISTE_WISeKey_Global_Root_GB_CA.pem\nAdding debian:OISTE_WISeKey_Global_Root_GC_CA.pem\nAdding debian:QuoVadis_Root_CA.pem\nAdding debian:QuoVadis_Root_CA_1_G3.pem\nAdding debian:QuoVadis_Root_CA_2.pem\nAdding debian:QuoVadis_Root_CA_2_G3.pem\nAdding debian:QuoVadis_Root_CA_3.pem\nAdding debian:QuoVadis_Root_CA_3_G3.pem\nAdding debian:SSL.com_EV_Root_Certification_Authority_ECC.pem\nAdding debian:SSL.com_EV_Root_Certification_Authority_RSA_R2.pem\nAdding debian:SSL.com_Root_Certification_Authority_ECC.pem\nAdding debian:SSL.com_Root_Certification_Authority_RSA.pem\nAdding debian:SZAFIR_ROOT_CA2.pem\nAdding debian:SecureSign_RootCA11.pem\nAdding debian:SecureTrust_CA.pem\nAdding debian:Secure_Global_CA.pem\nAdding debian:Security_Communication_RootCA2.pem\nAdding debian:Security_Communication_Root_CA.pem\nAdding debian:Sonera_Class_2_Root_CA.pem\nAdding debian:Staat_der_Nederlanden_EV_Root_CA.pem\nAdding debian:Staat_der_Nederlanden_Root_CA_-_G2.pem\nAdding debian:Staat_der_Nederlanden_Root_CA_-_G3.pem\nAdding debian:Starfield_Class_2_CA.pem\nAdding debian:Starfield_Root_Certificate_Authority_-_G2.pem\nAdding debian:Starfield_Services_Root_Certificate_Authority_-_G2.pem\nAdding debian:SwissSign_Gold_CA_-_G2.pem\nAdding debian:SwissSign_Silver_CA_-_G2.pem\nAdding debian:T-TeleSec_GlobalRoot_Class_2.pem\nAdding debian:T-TeleSec_GlobalRoot_Class_3.pem\nAdding debian:TUBITAK_Kamu_SM_SSL_Kok_Sertifikasi_-_Surum_1.pem\nAdding debian:TWCA_Global_Root_CA.pem\nAdding debian:TWCA_Root_Certification_Authority.pem\nAdding debian:Taiwan_GRCA.pem\nAdding debian:TeliaSonera_Root_CA_v1.pem\nAdding debian:TrustCor_ECA-1.pem\nAdding debian:TrustCor_RootCert_CA-1.pem\nAdding debian:TrustCor_RootCert_CA-2.pem\nAdding debian:Trustis_FPS_Root_CA.pem\nAdding debian:UCA_Extended_Validation_Root.pem\nAdding debian:UCA_Global_G2_Root.pem\nAdding debian:USERTrust_ECC_Certification_Authority.pem\nAdding debian:USERTrust_RSA_Certification_Authority.pem\nAdding debian:VeriSign_Class_3_Public_Primary_Certification_Authority_-_G4.pem\nAdding debian:VeriSign_Class_3_Public_Primary_Certification_Authority_-_G5.pem\nAdding debian:VeriSign_Universal_Root_Certification_Authority.pem\nAdding debian:Verisign_Class_3_Public_Primary_Certification_Authority_-_G3.pem\nAdding debian:XRamp_Global_CA_Root.pem\nAdding debian:certSIGN_ROOT_CA.pem\nAdding debian:ePKI_Root_Certification_Authority.pem\nAdding debian:emSign_ECC_Root_CA_-_C3.pem\nAdding debian:emSign_ECC_Root_CA_-_G3.pem\nAdding debian:emSign_Root_CA_-_C1.pem\nAdding debian:emSign_Root_CA_-_G1.pem\nAdding debian:thawte_Primary_Root_CA.pem\nAdding debian:thawte_Primary_Root_CA_-_G2.pem\nAdding debian:thawte_Primary_Root_CA_-_G3.pem\ndone.\nProcessing triggers for fontconfig (2.13.1-2) ...\nProcessing triggers for mime-support (3.62) ...\nProcessing triggers for hicolor-icon-theme (0.17-2) ...\nProcessing triggers for libglib2.0-0:amd64 (2.58.3-2+deb10u3) ...\nProcessing triggers for libc-bin (2.28-10+deb10u1) ...\nProcessing triggers for systemd (241-7~deb10u8) ...\nProcessing triggers for ca-certificates (20200601~deb10u2) ...\nUpdating certificates in /etc/ssl/certs...\n0 added, 0 removed; done.\nRunning hooks in /etc/ca-certificates/update.d...\n\ndone.\ndone.\nSetting up glib-networking:amd64 (2.58.0-2+deb10u2) ...\nSetting up libsoup2.4-1:amd64 (2.64.2-2) ...\nSetting up libsoup-gnome2.4-1:amd64 (2.64.2-2) ...\nSetting up librest-0.7-0:amd64 (0.8.1-1) ...\nSetting up libgtk-3-0:amd64 (3.24.5-1) ...\nSetting up libgtk-3-bin (3.24.5-1) ...\nSetting up libatk-wrapper-java-jni:amd64 (0.33.3-22+deb10u1) ...\nProcessing triggers for libc-bin (2.28-10+deb10u1) ...\n",
     "output_type": "stream"
    }
   ]
  },
  {
   "cell_type": "code",
   "metadata": {
    "cell_id": "d13689358f5d4fac8b35772ad5031a3e",
    "tags": [],
    "deepnote_to_be_reexecuted": false,
    "source_hash": "c9cb7a53",
    "execution_start": 1659792656957,
    "execution_millis": 242,
    "deepnote_cell_type": "code",
    "deepnote_cell_height": 149.1875,
    "deepnote_output_heights": [
     21.1875
    ]
   },
   "source": "import pyspark\n\npyspark.__version__",
   "execution_count": 2,
   "outputs": [
    {
     "output_type": "execute_result",
     "execution_count": 2,
     "data": {
      "text/plain": "'3.3.0'"
     },
     "metadata": {}
    }
   ]
  },
  {
   "cell_type": "code",
   "metadata": {
    "cell_id": "a77c1fc2b4264c16be4e9d5a35d8df5b",
    "tags": [],
    "deepnote_to_be_reexecuted": false,
    "source_hash": "3f12a374",
    "execution_start": 1659792662801,
    "execution_millis": 20437,
    "deepnote_cell_type": "code",
    "deepnote_cell_height": 260
   },
   "source": "from pyspark.sql import SparkSession\n\nspark = SparkSession.builder\\\n        .appName(name=\"How to Validate data/column in pyspark\")\\\n        .master(master=\"local[*]\")\\\n        .enableHiveSupport()\\\n        .getOrCreate()",
   "execution_count": 3,
   "outputs": [
    {
     "name": "stderr",
     "text": "Setting default log level to \"WARN\".\nTo adjust logging level use sc.setLogLevel(newLevel). For SparkR, use setLogLevel(newLevel).\n22/08/06 13:31:15 WARN NativeCodeLoader: Unable to load native-hadoop library for your platform... using builtin-java classes where applicable\n",
     "output_type": "stream"
    }
   ]
  },
  {
   "cell_type": "markdown",
   "source": "## How to handle Bad Records in spark and those types\n\n    - There are three types of modes available while reading and creating dataframe\n    - Dealing with bad Records,Verify correctness of data When reading CSV files with specified Schema,\n      it is possible that the data in the file does not match the schema. ",
   "metadata": {
    "cell_id": "29621b9d57144558b0400da31293884f",
    "tags": [],
    "deepnote_cell_type": "markdown",
    "deepnote_cell_height": 168.390625
   }
  },
  {
   "cell_type": "code",
   "metadata": {
    "cell_id": "31dd121d3d8e47708cb5e7f05a0a62e2",
    "tags": [],
    "deepnote_to_be_reexecuted": false,
    "source_hash": "290ecfd5",
    "execution_start": 1657975535100,
    "execution_millis": 8560,
    "deepnote_cell_type": "code",
    "deepnote_cell_height": 428
   },
   "source": "\ndf = spark.read.option(\"mode\",\"PERMISSIVE\").csv(\"/work/datahandling.csv\",sep=\",\",header=True,inferSchema=True)\ndf.show()",
   "execution_count": null,
   "outputs": [
    {
     "name": "stdout",
     "text": "+--------------------+--------+------+------+--------+\n|                  id|    name|salary|gender|     loc|\n+--------------------+--------+------+------+--------+\n|                   1|    amit|  3000|     m|   delhi|\n|                   2| chandan|  5000|     m|   delhi|\n|                   3|   sumit|  6000|     m|  mumbai|\n|                   4|abhishek|  8000|     m|jharknad|\n|                   5|    sonu|  4500|     m|banglore|\n|                   6|yashvant|  5500|     m|hydrabad|\n|7 aryan 6000 m patna|    null|  null|  null|    null|\n|8 vikask 5000 m u...|    null|  null|  null|    null|\n|9 pankaj 9000 m p...|    null|  null|  null|    null|\n|10 babita 2000 f ...|    null|  null|  null|    null|\n+--------------------+--------+------+------+--------+\n\n",
     "output_type": "stream"
    }
   ]
  },
  {
   "cell_type": "code",
   "metadata": {
    "cell_id": "2dbe1bdfbe2d4c5a8b82917916126bb2",
    "tags": [],
    "deepnote_to_be_reexecuted": false,
    "source_hash": "31c82e97",
    "execution_start": 1657962666671,
    "execution_millis": 110,
    "deepnote_cell_type": "code",
    "deepnote_cell_height": 407
   },
   "source": "spark.read.text(\"/work/datahandling.csv\").show(truncate=False)",
   "execution_count": null,
   "outputs": [
    {
     "name": "stdout",
     "text": "+----------------------------+\n|value                       |\n+----------------------------+\n|id,name,salary,gender,loc   |\n|1,amit,3000,m,delhi         |\n|2,chandan,5000,m,delhi      |\n|3,sumit,6000,m,mumbai       |\n|4,abhishek,8000,m,jharknad  |\n|5,sonu,4500,m,banglore      |\n|6,yashvant,5500,m,hydrabad  |\n|7 aryan 6000 m patna        |\n|8 vikask 5000 m uttarpradesh|\n|9 pankaj 9000 m patna       |\n|10 babita 2000 f hydrabad   |\n+----------------------------+\n\n",
     "output_type": "stream"
    }
   ]
  },
  {
   "cell_type": "markdown",
   "source": "- To include this data in a seperate column\n- As per the user case, If a user wants us to store a bad record in a seperate column \n   use option mode is PERMISSIVE\n- option(\"columnNameOfCorruptRecord\", \"_corrupt_record\")",
   "metadata": {
    "cell_id": "73cb56e00e154f578fbfc0fe75354203",
    "tags": [],
    "deepnote_cell_type": "markdown",
    "deepnote_cell_height": 142.59375
   }
  },
  {
   "cell_type": "code",
   "metadata": {
    "cell_id": "f9f5220be1f5430db04e61c72630623e",
    "tags": [],
    "deepnote_to_be_reexecuted": false,
    "source_hash": "5dd745b3",
    "execution_start": 1657964869834,
    "execution_millis": 148,
    "deepnote_cell_type": "code",
    "deepnote_cell_height": 663
   },
   "source": "from pyspark.sql.types import StructType,StructField,StringType,IntegerType\n\nschema = StructType([\n    StructField(\"id\",IntegerType(),True),\n    StructField(\"name\",StringType(),True),\n    StructField(\"salary\",IntegerType(),True),\n    StructField(\"gender\",StringType(),True),\n    StructField(\"loc\",StringType(),True),\n    StructField(\"_corrupt_record\",StringType())\n])\n\n\ndf = spark.read\\\n    .schema(schema)\\\n    .option(\"columnNameOfCorruptRecord\",\"_corrupt_record\")\\\n    .option(\"mode\",\"PERMISSIVE\")\\\n    .csv(\"/work/datahandling.csv\",sep=\",\",header=True,inferSchema=True)\n\n#df.unpersist()\n\ncorrupted_records = df.filter(\"_corrupt_record is not null\").select(\"_corrupt_record\")\n\ncorrupted_records.show(truncate=False)",
   "execution_count": null,
   "outputs": [
    {
     "name": "stdout",
     "text": "+----------------------------+\n|_corrupt_record             |\n+----------------------------+\n|7 aryan 6000 m patna        |\n|8 vikask 5000 m uttarpradesh|\n|9 pankaj 9000 m patna       |\n|10 babita 2000 f hydrabad   |\n+----------------------------+\n\n",
     "output_type": "stream"
    }
   ]
  },
  {
   "cell_type": "code",
   "metadata": {
    "cell_id": "abcc057cad284ae8ab1be0653c981cd9",
    "tags": [],
    "deepnote_to_be_reexecuted": false,
    "source_hash": "fc1ce265",
    "execution_start": 1657963346654,
    "execution_millis": 834,
    "deepnote_cell_type": "code",
    "deepnote_cell_height": 366
   },
   "source": "# DROPMALFORMED  will ignore all corrupted records\n\ndf1 = spark.read.option(\"mode\",\"DROPMALFORMED\").csv(\"/work/datahandling.csv\",sep=\",\",header=True,inferSchema=True)\ndf1.show()",
   "execution_count": null,
   "outputs": [
    {
     "name": "stdout",
     "text": "+---+--------+------+------+--------+\n| id|    name|salary|gender|     loc|\n+---+--------+------+------+--------+\n|  1|    amit|  3000|     m|   delhi|\n|  2| chandan|  5000|     m|   delhi|\n|  3|   sumit|  6000|     m|  mumbai|\n|  4|abhishek|  8000|     m|jharknad|\n|  5|    sonu|  4500|     m|banglore|\n|  6|yashvant|  5500|     m|hydrabad|\n+---+--------+------+------+--------+\n\n",
     "output_type": "stream"
    }
   ]
  },
  {
   "cell_type": "code",
   "metadata": {
    "cell_id": "8cb7a86091334055848cd0919444c345",
    "tags": [],
    "deepnote_to_be_reexecuted": false,
    "source_hash": "7e39ac80",
    "execution_start": 1657965122503,
    "execution_millis": 365,
    "deepnote_cell_type": "code",
    "deepnote_cell_height": 343
   },
   "source": "df= df.drop(\"_corrupt_record\").na.drop(\"all\")\n\ndf.show()",
   "execution_count": null,
   "outputs": [
    {
     "name": "stdout",
     "text": "+---+--------+------+------+--------+\n| id|    name|salary|gender|     loc|\n+---+--------+------+------+--------+\n|  1|    amit|  3000|     m|   delhi|\n|  2| chandan|  5000|     m|   delhi|\n|  3|   sumit|  6000|     m|  mumbai|\n|  4|abhishek|  8000|     m|jharknad|\n|  5|    sonu|  4500|     m|banglore|\n|  6|yashvant|  5500|     m|hydrabad|\n+---+--------+------+------+--------+\n\n",
     "output_type": "stream"
    }
   ]
  },
  {
   "cell_type": "markdown",
   "source": "#### In the Databricks side we can use option(\"badRecordsPath\",\"/tmp/badrecords/\") and know cause \n\ndf = spark.read.option(\"badRecordsPath\",\"/tmp/badrecords\")\\\n.csv(\"/work/datahandling.csv\",sep=\",\",header=True,inferSchema=True)\n\ndisplay(df)\n\n\ndisplay(spark.read.json(\"dbfs:/tmp/20220706T160111/bad_records/part-00000-....\"))\n\n\n",
   "metadata": {
    "cell_id": "92d99c1ce7f74638b92254d1ef1c6dd6",
    "tags": [],
    "deepnote_cell_type": "markdown",
    "deepnote_cell_height": 183.59375
   }
  },
  {
   "cell_type": "code",
   "metadata": {
    "cell_id": "94a68b54b56a4a968ed66d10251da8e6",
    "tags": [],
    "deepnote_to_be_reexecuted": false,
    "source_hash": "4a5cd132",
    "execution_start": 1657966548195,
    "execution_millis": 0,
    "deepnote_cell_type": "code",
    "deepnote_cell_height": 135
   },
   "source": "# FAILFAST  Throws an exception when it meets corruptrd records\n\n# df2 = spark.read.option(\"mode\",\"FAILFAST\").csv(\"/work/datahandling.csv\",sep=\",\",header=True,inferSchema=True)\n# df2.show()",
   "execution_count": null,
   "outputs": []
  },
  {
   "cell_type": "code",
   "metadata": {
    "cell_id": "42ae53eee7f0487b97bb2690c67ca795",
    "tags": [],
    "deepnote_to_be_reexecuted": false,
    "source_hash": "ddddf40f",
    "execution_start": 1657970468966,
    "execution_millis": 0,
    "deepnote_cell_type": "code",
    "deepnote_cell_height": 112
   },
   "source": "# globles is pedefined inbuild function it will give you list of all objects , objects means \n# methods,variables,functions,DataFrames,everything it will give you k,v pair dataset.\n#globals()",
   "execution_count": null,
   "outputs": []
  },
  {
   "cell_type": "code",
   "metadata": {
    "cell_id": "08a2132700f44673ba46b3c6db20775d",
    "tags": [],
    "deepnote_to_be_reexecuted": false,
    "source_hash": "56394984",
    "execution_start": 1657967431044,
    "execution_millis": 2,
    "deepnote_cell_type": "code",
    "deepnote_cell_height": 221.1875,
    "deepnote_output_heights": [
     21.1875
    ]
   },
   "source": "# How to get all avilable DataFrames in pyspark\n\nfrom pyspark.sql import DataFrame\n\n# Using items() will get all items sep by (k,v) and filter using DataFrame Function \n\n[k for (k,v) in globals().items() if isinstance(v,DataFrame)]",
   "execution_count": null,
   "outputs": [
    {
     "output_type": "execute_result",
     "execution_count": 48,
     "data": {
      "text/plain": "['df', '_15', 'df1', 'df2', 'corrupted_records']"
     },
     "metadata": {}
    }
   ]
  },
  {
   "cell_type": "code",
   "metadata": {
    "cell_id": "d4b4646b863b4de2a7b424a8f2901306",
    "tags": [],
    "deepnote_to_be_reexecuted": false,
    "source_hash": "c7291edb",
    "execution_start": 1657968187238,
    "execution_millis": 710,
    "owner_user_id": "5e18e023-e706-4e69-8854-7fc4f5dfc5e1",
    "deepnote_cell_type": "code",
    "deepnote_cell_height": 677
   },
   "source": "# How to track add source file name in one of the column in dataframe?\nfrom pyspark.sql.functions import input_file_name\n\ndf = spark.read.csv(\"/work/Datasets/BMW_carprices.csv\",header=True,inferSchema=True)\n\ndf.withColumn(\"filePath\",input_file_name()).show(truncate=False)",
   "execution_count": null,
   "outputs": [
    {
     "name": "stdout",
     "text": "+-------+--------+-------------+---------------------------------------+\n|Mileage|Age(yrs)|Sell Price($)|filePath                               |\n+-------+--------+-------------+---------------------------------------+\n|69000  |6       |18000        |file:///work/Datasets/BMW_carprices.csv|\n|35000  |3       |34000        |file:///work/Datasets/BMW_carprices.csv|\n|57000  |5       |26100        |file:///work/Datasets/BMW_carprices.csv|\n|22500  |2       |40000        |file:///work/Datasets/BMW_carprices.csv|\n|46000  |4       |31500        |file:///work/Datasets/BMW_carprices.csv|\n|59000  |5       |26750        |file:///work/Datasets/BMW_carprices.csv|\n|52000  |5       |32000        |file:///work/Datasets/BMW_carprices.csv|\n|72000  |6       |19300        |file:///work/Datasets/BMW_carprices.csv|\n|91000  |8       |12000        |file:///work/Datasets/BMW_carprices.csv|\n|67000  |6       |22000        |file:///work/Datasets/BMW_carprices.csv|\n|83000  |7       |18700        |file:///work/Datasets/BMW_carprices.csv|\n|79000  |7       |19500        |file:///work/Datasets/BMW_carprices.csv|\n|59000  |5       |26000        |file:///work/Datasets/BMW_carprices.csv|\n|58780  |4       |27500        |file:///work/Datasets/BMW_carprices.csv|\n|82450  |7       |19400        |file:///work/Datasets/BMW_carprices.csv|\n|25400  |3       |35000        |file:///work/Datasets/BMW_carprices.csv|\n|28000  |2       |35500        |file:///work/Datasets/BMW_carprices.csv|\n|69000  |5       |19700        |file:///work/Datasets/BMW_carprices.csv|\n|87600  |8       |12800        |file:///work/Datasets/BMW_carprices.csv|\n|52000  |5       |28200        |file:///work/Datasets/BMW_carprices.csv|\n+-------+--------+-------------+---------------------------------------+\n\n",
     "output_type": "stream"
    }
   ]
  },
  {
   "cell_type": "code",
   "metadata": {
    "cell_id": "5d02325b735e4ac2b82d6cb5823353a6",
    "tags": [],
    "deepnote_to_be_reexecuted": false,
    "source_hash": "98a6c843",
    "execution_start": 1657968515130,
    "execution_millis": 1090,
    "deepnote_cell_type": "code",
    "deepnote_cell_height": 499
   },
   "source": "# Get number of rows on each file in a DataFrame?\n\ndf = spark.read.csv(\"/work/Datasets/*.csv\",header=True,inferSchema=True)\n\ndf.withColumn(\"file_name\",input_file_name()).groupBy(\"file_name\").count().show(truncate=False)",
   "execution_count": null,
   "outputs": [
    {
     "name": "stdout",
     "text": "+-----------------------------------------------------+-----+\n|file_name                                            |count|\n+-----------------------------------------------------+-----+\n|file:///work/Datasets/salaries.csv                   |16   |\n|file:///work/Datasets/titanic.csv                    |891  |\n|file:///work/Datasets/prediction.csv                 |13   |\n|file:///work/Datasets/BMW_carprices.csv              |20   |\n|file:///work/Datasets/homeprices_categorical.csv     |13   |\n|file:///work/Datasets/insurance_data.csv             |27   |\n|file:///work/Datasets/user_detail_pipe_delimiter.csv |6    |\n|file:///work/Datasets/areas.csv                      |13   |\n|file:///work/Datasets/homeprices2.csv                |5    |\n|file:///work/Datasets/user_detail_comma_delimiter.csv|6    |\n|file:///work/Datasets/homeprices.csv                 |5    |\n|file:///work/Datasets/carprices.csv                  |10   |\n+-----------------------------------------------------+-----+\n\n",
     "output_type": "stream"
    }
   ]
  },
  {
   "cell_type": "markdown",
   "source": "## How to add partition_id in DataFrame ?",
   "metadata": {
    "cell_id": "139c53c6a7ff4996a73a13ed9b8a154d",
    "tags": [],
    "deepnote_cell_type": "markdown",
    "deepnote_cell_height": 70
   }
  },
  {
   "cell_type": "code",
   "metadata": {
    "cell_id": "1abf545074c844cbbff58b4d8593b59e",
    "tags": [],
    "deepnote_to_be_reexecuted": false,
    "source_hash": "4d361c43",
    "execution_start": 1657968956570,
    "execution_millis": 1147,
    "deepnote_cell_type": "code",
    "deepnote_cell_height": 263
   },
   "source": "from pyspark.sql.functions import spark_partition_id\n\ndf.withColumn(\"partition_id\",spark_partition_id()).select(\"partition_id\").distinct().show()",
   "execution_count": null,
   "outputs": [
    {
     "name": "stdout",
     "text": "+------------+\n|partition_id|\n+------------+\n|           0|\n|           1|\n+------------+\n\n",
     "output_type": "stream"
    }
   ]
  },
  {
   "cell_type": "markdown",
   "source": "## How to get row count by partitionid in DataFrame ?",
   "metadata": {
    "cell_id": "9abfc896d1374eb0a9a739a2eccf664f",
    "tags": [],
    "deepnote_cell_type": "markdown",
    "deepnote_cell_height": 70
   }
  },
  {
   "cell_type": "code",
   "metadata": {
    "cell_id": "6f838fd840894fbcba412699b0c14368",
    "tags": [],
    "deepnote_to_be_reexecuted": false,
    "source_hash": "6c547ec1",
    "execution_start": 1657968713924,
    "execution_millis": 692,
    "deepnote_cell_type": "code",
    "deepnote_cell_height": 263
   },
   "source": "from pyspark.sql.functions import spark_partition_id\n\ndf.withColumn(\"partition_id\",spark_partition_id()).groupBy(\"partition_id\").count().show()",
   "execution_count": null,
   "outputs": [
    {
     "name": "stdout",
     "text": "+------------+-----+\n|partition_id|count|\n+------------+-----+\n|           0|  980|\n|           1|   45|\n+------------+-----+\n\n",
     "output_type": "stream"
    }
   ]
  },
  {
   "cell_type": "markdown",
   "source": "### How to add Sequence generated surrogate key as a column in DataFrame",
   "metadata": {
    "cell_id": "e2c416b385dc46ba8f9a17c20436eedb",
    "tags": [],
    "deepnote_cell_type": "markdown",
    "deepnote_cell_height": 62
   }
  },
  {
   "cell_type": "code",
   "metadata": {
    "cell_id": "fe05d869c4bb45dbbcbf614d1a6ab1b7",
    "tags": [],
    "deepnote_to_be_reexecuted": false,
    "source_hash": "628c112b",
    "execution_start": 1657969493721,
    "execution_millis": 1233,
    "deepnote_cell_type": "code",
    "deepnote_cell_height": 679
   },
   "source": "from pyspark.sql.functions import monotonically_increasing_id\n\ndf = spark.read.csv(\"/work/Datasets/*.csv\",header=True,inferSchema=True)\n\ndf.withColumn(\"key\",monotonically_increasing_id()).show()",
   "execution_count": null,
   "outputs": [
    {
     "name": "stdout",
     "text": "+-----------+--------+------+--------------------+------+----+-----+-----+----------------+-------+-----+--------+---+\n|PassengerId|Survived|Pclass|                Name|   Sex| Age|SibSp|Parch|          Ticket|   Fare|Cabin|Embarked|key|\n+-----------+--------+------+--------------------+------+----+-----+-----+----------------+-------+-----+--------+---+\n|          1|       0|     3|Braund, Mr. Owen ...|  male|22.0|    1|    0|       A/5 21171|   7.25| null|       S|  0|\n|          2|       1|     1|Cumings, Mrs. Joh...|female|38.0|    1|    0|        PC 17599|71.2833|  C85|       C|  1|\n|          3|       1|     3|Heikkinen, Miss. ...|female|26.0|    0|    0|STON/O2. 3101282|  7.925| null|       S|  2|\n|          4|       1|     1|Futrelle, Mrs. Ja...|female|35.0|    1|    0|          113803|   53.1| C123|       S|  3|\n|          5|       0|     3|Allen, Mr. Willia...|  male|35.0|    0|    0|          373450|   8.05| null|       S|  4|\n|          6|       0|     3|    Moran, Mr. James|  male|null|    0|    0|          330877| 8.4583| null|       Q|  5|\n|          7|       0|     1|McCarthy, Mr. Tim...|  male|54.0|    0|    0|           17463|51.8625|  E46|       S|  6|\n|          8|       0|     3|Palsson, Master. ...|  male| 2.0|    3|    1|          349909| 21.075| null|       S|  7|\n|          9|       1|     3|Johnson, Mrs. Osc...|female|27.0|    0|    2|          347742|11.1333| null|       S|  8|\n|         10|       1|     2|Nasser, Mrs. Nich...|female|14.0|    1|    0|          237736|30.0708| null|       C|  9|\n|         11|       1|     3|Sandstrom, Miss. ...|female| 4.0|    1|    1|         PP 9549|   16.7|   G6|       S| 10|\n|         12|       1|     1|Bonnell, Miss. El...|female|58.0|    0|    0|          113783|  26.55| C103|       S| 11|\n|         13|       0|     3|Saundercock, Mr. ...|  male|20.0|    0|    0|       A/5. 2151|   8.05| null|       S| 12|\n|         14|       0|     3|Andersson, Mr. An...|  male|39.0|    1|    5|          347082| 31.275| null|       S| 13|\n|         15|       0|     3|Vestrom, Miss. Hu...|female|14.0|    0|    0|          350406| 7.8542| null|       S| 14|\n|         16|       1|     2|Hewlett, Mrs. (Ma...|female|55.0|    0|    0|          248706|   16.0| null|       S| 15|\n|         17|       0|     3|Rice, Master. Eugene|  male| 2.0|    4|    1|          382652| 29.125| null|       Q| 16|\n|         18|       1|     2|Williams, Mr. Cha...|  male|null|    0|    0|          244373|   13.0| null|       S| 17|\n|         19|       0|     3|Vander Planke, Mr...|female|31.0|    1|    0|          345763|   18.0| null|       S| 18|\n|         20|       1|     3|Masselmani, Mrs. ...|female|null|    0|    0|            2649|  7.225| null|       C| 19|\n+-----------+--------+------+--------------------+------+----+-----+-----+----------------+-------+-----+--------+---+\nonly showing top 20 rows\n\n",
     "output_type": "stream"
    }
   ]
  },
  {
   "cell_type": "code",
   "metadata": {
    "cell_id": "fca3c216fb374555929bd4ebcb6263b4",
    "tags": [],
    "deepnote_to_be_reexecuted": false,
    "source_hash": "f480c61f",
    "execution_start": 1657969698987,
    "execution_millis": 1066,
    "deepnote_cell_type": "code",
    "deepnote_cell_height": 683.796875
   },
   "source": "from pyspark.sql.functions import md5\n\ndf = spark.read.csv(\"/work/Datasets/*.csv\",header=True,inferSchema=True)\n\ndf.withColumn(\"key\",md5(\"PassengerId\")).show()",
   "execution_count": null,
   "outputs": [
    {
     "name": "stdout",
     "text": "+-----------+--------+------+--------------------+------+----+-----+-----+----------------+-------+-----+--------+--------------------+\n|PassengerId|Survived|Pclass|                Name|   Sex| Age|SibSp|Parch|          Ticket|   Fare|Cabin|Embarked|                 key|\n+-----------+--------+------+--------------------+------+----+-----+-----+----------------+-------+-----+--------+--------------------+\n|          1|       0|     3|Braund, Mr. Owen ...|  male|22.0|    1|    0|       A/5 21171|   7.25| null|       S|c4ca4238a0b923820...|\n|          2|       1|     1|Cumings, Mrs. Joh...|female|38.0|    1|    0|        PC 17599|71.2833|  C85|       C|c81e728d9d4c2f636...|\n|          3|       1|     3|Heikkinen, Miss. ...|female|26.0|    0|    0|STON/O2. 3101282|  7.925| null|       S|eccbc87e4b5ce2fe2...|\n|          4|       1|     1|Futrelle, Mrs. Ja...|female|35.0|    1|    0|          113803|   53.1| C123|       S|a87ff679a2f3e71d9...|\n|          5|       0|     3|Allen, Mr. Willia...|  male|35.0|    0|    0|          373450|   8.05| null|       S|e4da3b7fbbce2345d...|\n|          6|       0|     3|    Moran, Mr. James|  male|null|    0|    0|          330877| 8.4583| null|       Q|1679091c5a880faf6...|\n|          7|       0|     1|McCarthy, Mr. Tim...|  male|54.0|    0|    0|           17463|51.8625|  E46|       S|8f14e45fceea167a5...|\n|          8|       0|     3|Palsson, Master. ...|  male| 2.0|    3|    1|          349909| 21.075| null|       S|c9f0f895fb98ab915...|\n|          9|       1|     3|Johnson, Mrs. Osc...|female|27.0|    0|    2|          347742|11.1333| null|       S|45c48cce2e2d7fbde...|\n|         10|       1|     2|Nasser, Mrs. Nich...|female|14.0|    1|    0|          237736|30.0708| null|       C|d3d9446802a442597...|\n|         11|       1|     3|Sandstrom, Miss. ...|female| 4.0|    1|    1|         PP 9549|   16.7|   G6|       S|6512bd43d9caa6e02...|\n|         12|       1|     1|Bonnell, Miss. El...|female|58.0|    0|    0|          113783|  26.55| C103|       S|c20ad4d76fe97759a...|\n|         13|       0|     3|Saundercock, Mr. ...|  male|20.0|    0|    0|       A/5. 2151|   8.05| null|       S|c51ce410c124a10e0...|\n|         14|       0|     3|Andersson, Mr. An...|  male|39.0|    1|    5|          347082| 31.275| null|       S|aab3238922bcc25a6...|\n|         15|       0|     3|Vestrom, Miss. Hu...|female|14.0|    0|    0|          350406| 7.8542| null|       S|9bf31c7ff062936a9...|\n|         16|       1|     2|Hewlett, Mrs. (Ma...|female|55.0|    0|    0|          248706|   16.0| null|       S|c74d97b01eae257e4...|\n|         17|       0|     3|Rice, Master. Eugene|  male| 2.0|    4|    1|          382652| 29.125| null|       Q|70efdf2ec9b086079...|\n|         18|       1|     2|Williams, Mr. Cha...|  male|null|    0|    0|          244373|   13.0| null|       S|6f4922f45568161a8...|\n|         19|       0|     3|Vander Planke, Mr...|female|31.0|    1|    0|          345763|   18.0| null|       S|1f0e3dad99908345f...|\n|         20|       1|     3|Masselmani, Mrs. ...|female|null|    0|    0|            2649|  7.225| null|       C|98f13708210194c47...|\n+-----------+--------+------+--------------------+------+----+-----+-----+----------------+-------+-----+--------+--------------------+\nonly showing top 20 rows\n\n",
     "output_type": "stream"
    }
   ]
  },
  {
   "cell_type": "markdown",
   "source": "### How to get list of databases,tables and columns using spark.catalog",
   "metadata": {
    "cell_id": "918006ba815346bca3411db25567faa0",
    "tags": [],
    "deepnote_cell_type": "markdown",
    "deepnote_cell_height": 62
   }
  },
  {
   "cell_type": "code",
   "metadata": {
    "cell_id": "9eecab5894134251bce7503bbb91e395",
    "tags": [],
    "deepnote_to_be_reexecuted": false,
    "source_hash": "77a1445d",
    "execution_start": 1657970316933,
    "execution_millis": 747,
    "deepnote_cell_type": "code",
    "deepnote_cell_height": 163
   },
   "source": "print(spark.catalog.listDatabases())\nprint(spark.catalog.listTables(\"default\"))\n# print(spark.catalog.listColumns(\"default\",\"tblname\"))",
   "execution_count": null,
   "outputs": [
    {
     "name": "stdout",
     "text": "[Database(name='default', description='Default Hive database', locationUri='file:/work/spark-warehouse')]\n[]\n",
     "output_type": "stream"
    }
   ]
  },
  {
   "cell_type": "markdown",
   "source": "# How partitions are created in spark ?\n\n- Spark's tasks process data as partitions read from disk into memory.",
   "metadata": {
    "cell_id": "cc69e5bc2d7c4498a20d93132133752a",
    "tags": [],
    "deepnote_cell_type": "markdown",
    "deepnote_cell_height": 134.390625
   }
  },
  {
   "cell_type": "code",
   "metadata": {
    "cell_id": "aac458aed1e94712bf58fbf7cea8999d",
    "tags": [],
    "deepnote_to_be_reexecuted": false,
    "source_hash": "4f043700",
    "execution_start": 1657970742584,
    "execution_millis": 5,
    "deepnote_cell_type": "code",
    "deepnote_cell_height": 163
   },
   "source": "print(spark.conf.get(\"spark.sql.files.maxPartitionBytes\"))\n\nprint(134217728/1024/1024)",
   "execution_count": null,
   "outputs": [
    {
     "name": "stdout",
     "text": "134217728b\n128.0\n",
     "output_type": "stream"
    }
   ]
  },
  {
   "cell_type": "code",
   "metadata": {
    "cell_id": "7cef096a25c34a9abb67943057a78017",
    "tags": [],
    "deepnote_to_be_reexecuted": false,
    "source_hash": "ca8b469c",
    "execution_start": 1657971748138,
    "execution_millis": 30,
    "deepnote_cell_type": "code",
    "deepnote_cell_height": 185.1875,
    "deepnote_output_heights": [
     21.1875
    ]
   },
   "source": "spark.conf.set(\"spark.sql.files.maxPartitionBytes\",\"300MB\")\n\nrdd = spark.sparkContext.parallelize([1,2,3,4,5])\n\nrdd.getNumPartitions()",
   "execution_count": null,
   "outputs": [
    {
     "output_type": "execute_result",
     "execution_count": 78,
     "data": {
      "text/plain": "2"
     },
     "metadata": {}
    }
   ]
  },
  {
   "cell_type": "code",
   "metadata": {
    "cell_id": "f056546998324b25b15a0b2ef5649f70",
    "tags": [],
    "deepnote_to_be_reexecuted": false,
    "source_hash": "deab33ee",
    "execution_start": 1657971835997,
    "execution_millis": 8,
    "deepnote_cell_type": "code",
    "deepnote_cell_height": 113.1875,
    "deepnote_output_heights": [
     21.1875
    ]
   },
   "source": "spark.sparkContext.defaultParallelism",
   "execution_count": null,
   "outputs": [
    {
     "output_type": "execute_result",
     "execution_count": 80,
     "data": {
      "text/plain": "2"
     },
     "metadata": {}
    }
   ]
  },
  {
   "cell_type": "code",
   "metadata": {
    "cell_id": "ec8f848b1d9b418286b9514ab470a855",
    "tags": [],
    "deepnote_to_be_reexecuted": false,
    "source_hash": "454e704e",
    "execution_start": 1657971981803,
    "execution_millis": 7,
    "deepnote_cell_type": "code",
    "deepnote_cell_height": 149.1875,
    "deepnote_output_heights": [
     21.1875
    ]
   },
   "source": "# The default shuffle partition will be 200 in spark\n\nspark.conf.get(\"spark.sql.shuffle.partitions\")",
   "execution_count": null,
   "outputs": [
    {
     "output_type": "execute_result",
     "execution_count": 82,
     "data": {
      "text/plain": "'200'"
     },
     "metadata": {}
    }
   ]
  },
  {
   "cell_type": "code",
   "metadata": {
    "cell_id": "71e88911ebd94f90853b6d9ccb1eb3e3",
    "tags": [],
    "deepnote_to_be_reexecuted": false,
    "source_hash": "a15a4b18",
    "execution_start": 1657972172411,
    "execution_millis": 1,
    "deepnote_cell_type": "code",
    "deepnote_cell_height": 185.1875,
    "deepnote_output_heights": [
     21.1875
    ]
   },
   "source": "# You can control it by doing these configurations\n\nspark.conf.set(\"spark.sql.shuffle.partitions\",10)\n\nspark.conf.get(\"spark.sql.shuffle.partitions\")",
   "execution_count": null,
   "outputs": [
    {
     "output_type": "execute_result",
     "execution_count": 84,
     "data": {
      "text/plain": "'10'"
     },
     "metadata": {}
    }
   ]
  },
  {
   "cell_type": "code",
   "metadata": {
    "cell_id": "cef963a2b5924b728782b93febc0fd4c",
    "tags": [],
    "deepnote_to_be_reexecuted": false,
    "source_hash": "b4a1b598",
    "execution_start": 1657973016338,
    "execution_millis": 562,
    "deepnote_cell_type": "code",
    "deepnote_cell_height": 679
   },
   "source": "df = spark.read.option(\"pathGlobFilter\",\"*.json\")\\\n          .csv(\"/work/Datasets\")\\\n          .withColumn(\"filename\",input_file_name())\n\ndf.select(\"filename\").show(truncate=False)",
   "execution_count": null,
   "outputs": [
    {
     "name": "stdout",
     "text": "+-------------------------------------------------+\n|filename                                         |\n+-------------------------------------------------+\n|file:///work/Datasets/orders_sample_datasets.json|\n|file:///work/Datasets/orders_sample_datasets.json|\n|file:///work/Datasets/orders_sample_datasets.json|\n|file:///work/Datasets/orders_sample_datasets.json|\n|file:///work/Datasets/orders_sample_datasets.json|\n|file:///work/Datasets/orders_sample_datasets.json|\n|file:///work/Datasets/orders_sample_datasets.json|\n|file:///work/Datasets/orders_sample_datasets.json|\n|file:///work/Datasets/orders_sample_datasets.json|\n|file:///work/Datasets/orders_sample_datasets.json|\n|file:///work/Datasets/orders_sample_datasets.json|\n|file:///work/Datasets/orders_sample_datasets.json|\n|file:///work/Datasets/orders_sample_datasets.json|\n|file:///work/Datasets/orders_sample_datasets.json|\n|file:///work/Datasets/orders_sample_datasets.json|\n|file:///work/Datasets/orders_sample_datasets.json|\n|file:///work/Datasets/orders_sample_datasets.json|\n|file:///work/Datasets/orders_sample_datasets.json|\n|file:///work/Datasets/orders_sample_datasets.json|\n|file:///work/Datasets/orders_sample_datasets.json|\n+-------------------------------------------------+\nonly showing top 20 rows\n\n",
     "output_type": "stream"
    }
   ]
  },
  {
   "cell_type": "code",
   "metadata": {
    "cell_id": "ac13eb4c887d4baaaf940a910f235d51",
    "tags": [],
    "deepnote_to_be_reexecuted": false,
    "source_hash": "2b36bed2",
    "execution_start": 1657975714495,
    "execution_millis": 573,
    "deepnote_cell_type": "code",
    "deepnote_cell_height": 297
   },
   "source": "from pyspark.sql.functions import input_file_name\ndf = spark.read.option(\"recursiveFileLookup\",\"true\")\\\n    .csv(\"/work/*.csv\", header=True,inferSchema=True)\\\n    .withColumn(\"filename\",input_file_name())\n\ndf.select(\"filename\").distinct().show(truncate=False)",
   "execution_count": null,
   "outputs": [
    {
     "name": "stdout",
     "text": "+-----------------------------+\n|filename                     |\n+-----------------------------+\n|file:///work/datahandling.csv|\n+-----------------------------+\n\n",
     "output_type": "stream"
    }
   ]
  },
  {
   "cell_type": "markdown",
   "source": "#### How to create Database DDL backup from internal Metastore(spark.catalog)",
   "metadata": {
    "cell_id": "74ea3f8ce7c549eaa604eb9f67946f26",
    "tags": [],
    "deepnote_cell_type": "markdown",
    "deepnote_cell_height": 54
   }
  },
  {
   "cell_type": "code",
   "metadata": {
    "cell_id": "d71aef5c6e644f01b437fee7af9eb564",
    "tags": [],
    "deepnote_to_be_reexecuted": false,
    "source_hash": "7a352596",
    "execution_start": 1657976579078,
    "execution_millis": 2,
    "deepnote_cell_type": "code",
    "deepnote_cell_height": 346
   },
   "source": "def func_create_ddl_backup(path):\n    \"\"\" \n    this function we can use for creating delta lake or spark sql database tables backups.\n    argument: path - you can pass storage location\n    in databricks we have to give /foldername/ because python file can outside dbfs file\n    call function : func_create_ddl_backup(\"/tmp/ddls/\")\n    \"\"\"\n    dbs = spark.catalog.listDatabases()\n    for db in dbs:\n        f = open(\"{}bkp_{}.sql\".format(path,db.name), \"w\")\n        tables = spark.catalog.listTables(db.name)\n        for tbl in tables:\n            DDL =spark.sql(\"SHOW CREATED TABLE {}.{};\".format(db.name,tbl.name))\n            f.write(DDL.first()[0])\n            f.write(\"\\n\")\n        f.close()",
   "execution_count": null,
   "outputs": []
  },
  {
   "cell_type": "code",
   "metadata": {
    "cell_id": "8306994b95ed4d2a8ef669024ee5953c",
    "tags": [],
    "deepnote_cell_type": "code",
    "deepnote_cell_height": 61
   },
   "source": "#func_create_ddl_backup(\"\\tmp\\ddls\")",
   "execution_count": null,
   "outputs": []
  },
  {
   "cell_type": "markdown",
   "source": "<a style='text-decoration:none;line-height:16px;display:flex;color:#5B5B62;padding:10px;justify-content:end;' href='https://deepnote.com?utm_source=created-in-deepnote-cell&projectId=ae06d956-ba93-4d9c-ad4d-143cd9977dc8' target=\"_blank\">\n<img alt='Created in deepnote.com' style='display:inline;max-height:16px;margin:0px;margin-right:7.5px;' src='data:image/svg+xml;base64,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' > </img>\nCreated in <span style='font-weight:600;margin-left:4px;'>Deepnote</span></a>",
   "metadata": {
    "tags": [],
    "created_in_deepnote_cell": true,
    "deepnote_cell_type": "markdown"
   }
  }
 ],
 "nbformat": 4,
 "nbformat_minor": 2,
 "metadata": {
  "orig_nbformat": 2,
  "deepnote": {},
  "deepnote_notebook_id": "2e472b5f-06de-4160-b6e0-a4672b9e5f64",
  "deepnote_execution_queue": []
 }
}