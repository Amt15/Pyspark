{
  "nbformat": 4,
  "nbformat_minor": 0,
  "metadata": {
    "colab": {
      "name": "How to Variable Number of Columns in CSV.ipynb",
      "provenance": [],
      "authorship_tag": "ABX9TyNS9TxJZSJ9kdca4qkf6aqo",
      "include_colab_link": true
    },
    "kernelspec": {
      "name": "python3",
      "display_name": "Python 3"
    },
    "language_info": {
      "name": "python"
    }
  },
  "cells": [
    {
      "cell_type": "markdown",
      "metadata": {
        "id": "view-in-github",
        "colab_type": "text"
      },
      "source": [
        "<a href=\"https://colab.research.google.com/github/Amt15/Pyspark/blob/main/How_to_Variable_Number_of_Columns_in_CSV.ipynb\" target=\"_parent\"><img src=\"https://colab.research.google.com/assets/colab-badge.svg\" alt=\"Open In Colab\"/></a>"
      ]
    },
    {
      "cell_type": "code",
      "execution_count": 1,
      "metadata": {
        "colab": {
          "base_uri": "https://localhost:8080/"
        },
        "id": "CT_KHanvE75B",
        "outputId": "ef7fdeaf-c888-46b7-bc70-315d1cc44485"
      },
      "outputs": [
        {
          "output_type": "stream",
          "name": "stdout",
          "text": [
            "\u001b[K     |████████████████████████████████| 281.3 MB 38 kB/s \n",
            "\u001b[K     |████████████████████████████████| 199 kB 45.8 MB/s \n",
            "\u001b[?25h  Building wheel for pyspark (setup.py) ... \u001b[?25l\u001b[?25hdone\n"
          ]
        }
      ],
      "source": [
        "!pip install pyspark -q\n",
        "!pip install findspark -q"
      ]
    },
    {
      "cell_type": "code",
      "source": [
        "import findspark\n",
        "findspark.init()\n",
        "findspark.find()"
      ],
      "metadata": {
        "colab": {
          "base_uri": "https://localhost:8080/",
          "height": 36
        },
        "id": "AwPdYX_NFBpf",
        "outputId": "c2d86fac-d9bb-4de4-ca00-2ecd0a958e9f"
      },
      "execution_count": 2,
      "outputs": [
        {
          "output_type": "execute_result",
          "data": {
            "text/plain": [
              "'/usr/local/lib/python3.7/dist-packages/pyspark'"
            ],
            "application/vnd.google.colaboratory.intrinsic+json": {
              "type": "string"
            }
          },
          "metadata": {},
          "execution_count": 2
        }
      ]
    },
    {
      "cell_type": "code",
      "source": [
        "from pyspark.sql import SparkSession\n",
        "\n",
        "spark = SparkSession.builder\\\n",
        "        .appName(\"Variable Number of Columns in CSV\")\\\n",
        "        .master(\"local[*]\")\\\n",
        "        .enableHiveSupport()\\\n",
        "        .getOrCreate()"
      ],
      "metadata": {
        "id": "XI5i8BFJFThT"
      },
      "execution_count": 3,
      "outputs": []
    },
    {
      "cell_type": "code",
      "source": [
        "df = spark.read.csv(\"/content/dynamic_columns_with_schema.csv\",header=True)\n",
        "df.show()"
      ],
      "metadata": {
        "colab": {
          "base_uri": "https://localhost:8080/"
        },
        "id": "02pmH99jFo41",
        "outputId": "adbbe847-8d6c-4c1e-e5e5-67102c484bf1"
      },
      "execution_count": 5,
      "outputs": [
        {
          "output_type": "stream",
          "name": "stdout",
          "text": [
            "+---+------+---------+----------------+----------+\n",
            "| id|  name|      loc|         emailid|     phone|\n",
            "+---+------+---------+----------------+----------+\n",
            "|  1|  ravi|     null|            null|      null|\n",
            "|  2|   ram|bangalore|            null|      null|\n",
            "|  3|prasad|  chennai|sample@gmail.com|9283923456|\n",
            "|  4|   sam|     pune|            null|      null|\n",
            "|  5| shyam|    delhi| sample@yahoo.in|      null|\n",
            "+---+------+---------+----------------+----------+\n",
            "\n"
          ]
        }
      ]
    },
    {
      "cell_type": "code",
      "source": [
        "df1 = spark.read.text(\"/content/dynamic_columns_without_schema.csv\")\n",
        "df1.show(truncate=False)"
      ],
      "metadata": {
        "colab": {
          "base_uri": "https://localhost:8080/"
        },
        "id": "cbrV5F4wF9w6",
        "outputId": "dd7e7c62-4efb-4a6e-da1a-722753dab4f9"
      },
      "execution_count": 7,
      "outputs": [
        {
          "output_type": "stream",
          "name": "stdout",
          "text": [
            "+--------------------------------------------+\n",
            "|value                                       |\n",
            "+--------------------------------------------+\n",
            "|1,ravi                                      |\n",
            "|2,ram,bangalore                             |\n",
            "|3,prasad,chennai,sample@gmail.com,9283923456|\n",
            "|4,sam,pune                                  |\n",
            "|5,shyam,delhi,sample@yahoo.in               |\n",
            "+--------------------------------------------+\n",
            "\n"
          ]
        }
      ]
    },
    {
      "cell_type": "code",
      "source": [
        "from pyspark.sql.functions import split\n",
        "\n",
        "df1 = df1.withColumn(\"splittable_col\",split(\"value\",\",\")).drop(\"value\")\n",
        "df1.show(truncate=False)"
      ],
      "metadata": {
        "colab": {
          "base_uri": "https://localhost:8080/"
        },
        "id": "cupXnsV0GeZL",
        "outputId": "fa9ca3f5-1157-4eb4-d0db-4a61c25e2ee3"
      },
      "execution_count": 9,
      "outputs": [
        {
          "output_type": "stream",
          "name": "stdout",
          "text": [
            "+--------------------------------------------------+\n",
            "|splittable_col                                    |\n",
            "+--------------------------------------------------+\n",
            "|[1, ravi]                                         |\n",
            "|[2, ram, bangalore]                               |\n",
            "|[3, prasad, chennai, sample@gmail.com, 9283923456]|\n",
            "|[4, sam, pune]                                    |\n",
            "|[5, shyam, delhi, sample@yahoo.in]                |\n",
            "+--------------------------------------------------+\n",
            "\n"
          ]
        }
      ]
    },
    {
      "cell_type": "code",
      "source": [
        "# dynamically create a columns,for that you need to know the length of the columns\n",
        "\n",
        "from pyspark.sql.functions import size,max\n",
        "\n",
        "df1.select(\"splittable_col\",size(\"splittable_col\")).show(truncate=False) # it will give you size of each column"
      ],
      "metadata": {
        "colab": {
          "base_uri": "https://localhost:8080/"
        },
        "id": "Jwh94lTkHQnp",
        "outputId": "99975ee8-eb5b-48b5-c922-0c228c50c8c7"
      },
      "execution_count": 12,
      "outputs": [
        {
          "output_type": "stream",
          "name": "stdout",
          "text": [
            "+--------------------------------------------------+--------------------+\n",
            "|splittable_col                                    |size(splittable_col)|\n",
            "+--------------------------------------------------+--------------------+\n",
            "|[1, ravi]                                         |2                   |\n",
            "|[2, ram, bangalore]                               |3                   |\n",
            "|[3, prasad, chennai, sample@gmail.com, 9283923456]|5                   |\n",
            "|[4, sam, pune]                                    |3                   |\n",
            "|[5, shyam, delhi, sample@yahoo.in]                |4                   |\n",
            "+--------------------------------------------------+--------------------+\n",
            "\n"
          ]
        }
      ]
    },
    {
      "cell_type": "code",
      "source": [
        "# you can take max value \n",
        "\n",
        "df1.select(max(size(\"splittable_col\"))).collect()[0][0]\n"
      ],
      "metadata": {
        "colab": {
          "base_uri": "https://localhost:8080/"
        },
        "id": "beFjpTRZICJH",
        "outputId": "a4a4c0a8-0cea-4efa-c5e5-80a156ef9b8b"
      },
      "execution_count": 16,
      "outputs": [
        {
          "output_type": "execute_result",
          "data": {
            "text/plain": [
              "5"
            ]
          },
          "metadata": {},
          "execution_count": 16
        }
      ]
    },
    {
      "cell_type": "code",
      "source": [
        "# it will generate 0 to 4 index,i.e 5\n",
        "\n",
        "for i in range(df1.select(max(size(\"splittable_col\"))).collect()[0][0]):\n",
        "  df1= df1.withColumn(\"col\"+str(i),df1[\"splittable_col\"][i])\n",
        "\n",
        "df1.show()"
      ],
      "metadata": {
        "colab": {
          "base_uri": "https://localhost:8080/"
        },
        "id": "xZ5CP_2gIx6a",
        "outputId": "54cff115-8dd7-46de-88ff-1a7cfd9a736f"
      },
      "execution_count": 17,
      "outputs": [
        {
          "output_type": "stream",
          "name": "stdout",
          "text": [
            "+--------------------+----+------+---------+----------------+----------+\n",
            "|      splittable_col|col0|  col1|     col2|            col3|      col4|\n",
            "+--------------------+----+------+---------+----------------+----------+\n",
            "|           [1, ravi]|   1|  ravi|     null|            null|      null|\n",
            "| [2, ram, bangalore]|   2|   ram|bangalore|            null|      null|\n",
            "|[3, prasad, chenn...|   3|prasad|  chennai|sample@gmail.com|9283923456|\n",
            "|      [4, sam, pune]|   4|   sam|     pune|            null|      null|\n",
            "|[5, shyam, delhi,...|   5| shyam|    delhi| sample@yahoo.in|      null|\n",
            "+--------------------+----+------+---------+----------------+----------+\n",
            "\n"
          ]
        }
      ]
    },
    {
      "cell_type": "code",
      "source": [
        "final_df = df1.drop(\"splittable_col\")\n",
        "\n",
        "final_df.show(truncate=False)"
      ],
      "metadata": {
        "colab": {
          "base_uri": "https://localhost:8080/"
        },
        "id": "ehO3tVupKEkS",
        "outputId": "9e5e39e2-b916-44a9-df25-17293b4c6ebe"
      },
      "execution_count": 18,
      "outputs": [
        {
          "output_type": "stream",
          "name": "stdout",
          "text": [
            "+----+------+---------+----------------+----------+\n",
            "|col0|col1  |col2     |col3            |col4      |\n",
            "+----+------+---------+----------------+----------+\n",
            "|1   |ravi  |null     |null            |null      |\n",
            "|2   |ram   |bangalore|null            |null      |\n",
            "|3   |prasad|chennai  |sample@gmail.com|9283923456|\n",
            "|4   |sam   |pune     |null            |null      |\n",
            "|5   |shyam |delhi    |sample@yahoo.in |null      |\n",
            "+----+------+---------+----------------+----------+\n",
            "\n"
          ]
        }
      ]
    },
    {
      "cell_type": "code",
      "source": [
        ""
      ],
      "metadata": {
        "id": "54puYxRdKo2j"
      },
      "execution_count": null,
      "outputs": []
    }
  ]
}