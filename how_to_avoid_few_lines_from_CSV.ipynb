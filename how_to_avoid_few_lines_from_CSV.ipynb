{
  "nbformat": 4,
  "nbformat_minor": 0,
  "metadata": {
    "colab": {
      "name": "how to avoid few lines from CSV.ipynb",
      "provenance": [],
      "authorship_tag": "ABX9TyO7JlIT9qhq1lLR5YiDQxlT",
      "include_colab_link": true
    },
    "kernelspec": {
      "name": "python3",
      "display_name": "Python 3"
    },
    "language_info": {
      "name": "python"
    }
  },
  "cells": [
    {
      "cell_type": "markdown",
      "metadata": {
        "id": "view-in-github",
        "colab_type": "text"
      },
      "source": [
        "<a href=\"https://colab.research.google.com/github/Amt15/Pyspark/blob/main/how_to_avoid_few_lines_from_CSV.ipynb\" target=\"_parent\"><img src=\"https://colab.research.google.com/assets/colab-badge.svg\" alt=\"Open In Colab\"/></a>"
      ]
    },
    {
      "cell_type": "code",
      "execution_count": 1,
      "metadata": {
        "colab": {
          "base_uri": "https://localhost:8080/"
        },
        "id": "m0HIxTZPLdtG",
        "outputId": "8a5737f4-bde0-4b5c-cb0d-5a2caace8f9f"
      },
      "outputs": [
        {
          "output_type": "stream",
          "name": "stdout",
          "text": [
            "\u001b[K     |████████████████████████████████| 281.3 MB 42 kB/s \n",
            "\u001b[K     |████████████████████████████████| 199 kB 67.8 MB/s \n",
            "\u001b[?25h  Building wheel for pyspark (setup.py) ... \u001b[?25l\u001b[?25hdone\n"
          ]
        }
      ],
      "source": [
        "!pip install pyspark -q\n",
        "!pip install findspark -q"
      ]
    },
    {
      "cell_type": "code",
      "source": [
        "import findspark\n",
        "findspark.init()\n",
        "findspark.find()"
      ],
      "metadata": {
        "colab": {
          "base_uri": "https://localhost:8080/",
          "height": 36
        },
        "id": "f7GmYhaZLqSN",
        "outputId": "b04d410e-04e9-46bb-d6ed-15687d59dbf9"
      },
      "execution_count": 2,
      "outputs": [
        {
          "output_type": "execute_result",
          "data": {
            "text/plain": [
              "'/usr/local/lib/python3.7/dist-packages/pyspark'"
            ],
            "application/vnd.google.colaboratory.intrinsic+json": {
              "type": "string"
            }
          },
          "metadata": {},
          "execution_count": 2
        }
      ]
    },
    {
      "cell_type": "code",
      "source": [
        "from pyspark.sql import SparkSession\n",
        "\n",
        "spark = SparkSession.builder\\\n",
        "        .appName(\"Avoiding few lines from CSV\")\\\n",
        "        .master(\"local[*]\")\\\n",
        "        .enableHiveSupport()\\\n",
        "        .getOrCreate()"
      ],
      "metadata": {
        "id": "UIx4fFcnMiuP"
      },
      "execution_count": 3,
      "outputs": []
    },
    {
      "cell_type": "code",
      "source": [
        "df = spark.read.csv(\"/content/avoiding_few_lines_from.csv\",header=True)\n",
        "df.show(truncate=False)"
      ],
      "metadata": {
        "colab": {
          "base_uri": "https://localhost:8080/"
        },
        "id": "gnvOKi0CMsKU",
        "outputId": "d384334e-4d39-427f-d06d-c4a0e74ab55b"
      },
      "execution_count": 24,
      "outputs": [
        {
          "output_type": "stream",
          "name": "stdout",
          "text": [
            "+-----+\n",
            "|line1|\n",
            "+-----+\n",
            "|line2|\n",
            "|line3|\n",
            "|line4|\n",
            "|id   |\n",
            "|1    |\n",
            "|2    |\n",
            "|3    |\n",
            "|4    |\n",
            "|5    |\n",
            "+-----+\n",
            "\n"
          ]
        }
      ]
    },
    {
      "cell_type": "code",
      "source": [
        "rdd = spark.sparkContext.textFile(\"/content/avoiding_few_lines_from.csv\")\n",
        "#rdd.collect()\n",
        "rdd.zipWithIndex().collect()"
      ],
      "metadata": {
        "colab": {
          "base_uri": "https://localhost:8080/"
        },
        "id": "kRWTVrhlNGKF",
        "outputId": "82044476-d503-4671-c765-09f184b1b560"
      },
      "execution_count": 25,
      "outputs": [
        {
          "output_type": "execute_result",
          "data": {
            "text/plain": [
              "[('line1', 0),\n",
              " ('line2', 1),\n",
              " ('line3', 2),\n",
              " ('line4', 3),\n",
              " ('id,name,loc', 4),\n",
              " ('1,ravi,patna', 5),\n",
              " ('2,ram,bangalore', 6),\n",
              " ('3,prasad,chennai', 7),\n",
              " ('4,sam,pune', 8),\n",
              " ('5,shyam,delhi', 9)]"
            ]
          },
          "metadata": {},
          "execution_count": 25
        }
      ]
    },
    {
      "cell_type": "code",
      "source": [
        "rdd.zipWithIndex().filter(lambda x: x[1]>3).collect()"
      ],
      "metadata": {
        "colab": {
          "base_uri": "https://localhost:8080/"
        },
        "id": "KcDvxAnENv81",
        "outputId": "fab99f1a-fce0-4a00-baa6-1e74bbacb289"
      },
      "execution_count": 26,
      "outputs": [
        {
          "output_type": "execute_result",
          "data": {
            "text/plain": [
              "[('id,name,loc', 4),\n",
              " ('1,ravi,patna', 5),\n",
              " ('2,ram,bangalore', 6),\n",
              " ('3,prasad,chennai', 7),\n",
              " ('4,sam,pune', 8),\n",
              " ('5,shyam,delhi', 9)]"
            ]
          },
          "metadata": {},
          "execution_count": 26
        }
      ]
    },
    {
      "cell_type": "code",
      "source": [
        "rdd.zipWithIndex().filter(lambda x: x[1]>3).map(lambda x: x[0]).collect()"
      ],
      "metadata": {
        "colab": {
          "base_uri": "https://localhost:8080/"
        },
        "id": "uW8ecc57O9g9",
        "outputId": "d95613d3-d745-43be-fc3f-da547b6d83d2"
      },
      "execution_count": 27,
      "outputs": [
        {
          "output_type": "execute_result",
          "data": {
            "text/plain": [
              "['id,name,loc',\n",
              " '1,ravi,patna',\n",
              " '2,ram,bangalore',\n",
              " '3,prasad,chennai',\n",
              " '4,sam,pune',\n",
              " '5,shyam,delhi']"
            ]
          },
          "metadata": {},
          "execution_count": 27
        }
      ]
    },
    {
      "cell_type": "code",
      "source": [
        "rdd.zipWithIndex().filter(lambda x: x[1]>3).map(lambda x: x[0].split(\",\")).collect()"
      ],
      "metadata": {
        "colab": {
          "base_uri": "https://localhost:8080/"
        },
        "id": "HH_oE9GQPVxS",
        "outputId": "c67fd153-87f3-4164-a4fa-755a2c348adc"
      },
      "execution_count": 28,
      "outputs": [
        {
          "output_type": "execute_result",
          "data": {
            "text/plain": [
              "[['id', 'name', 'loc'],\n",
              " ['1', 'ravi', 'patna'],\n",
              " ['2', 'ram', 'bangalore'],\n",
              " ['3', 'prasad', 'chennai'],\n",
              " ['4', 'sam', 'pune'],\n",
              " ['5', 'shyam', 'delhi']]"
            ]
          },
          "metadata": {},
          "execution_count": 28
        }
      ]
    },
    {
      "cell_type": "code",
      "source": [
        "rdd_final = rdd.zipWithIndex().filter(lambda x: x[1]>3).map(lambda x: x[0].split(\",\"))\n",
        "\n",
        "columns = rdd_final.collect()[0]\n",
        "columns"
      ],
      "metadata": {
        "colab": {
          "base_uri": "https://localhost:8080/"
        },
        "id": "U2QLqwsfPruI",
        "outputId": "3c10727d-c8ec-4f5b-b8f1-7d32118b4569"
      },
      "execution_count": 29,
      "outputs": [
        {
          "output_type": "execute_result",
          "data": {
            "text/plain": [
              "['id', 'name', 'loc']"
            ]
          },
          "metadata": {},
          "execution_count": 29
        }
      ]
    },
    {
      "cell_type": "code",
      "source": [
        "skipline = rdd_final.first()\n",
        "#rdd_final.toDF().show()\n",
        "df= rdd_final.filter(lambda x : x != skipline).toDF(columns)\n",
        "df.show()"
      ],
      "metadata": {
        "colab": {
          "base_uri": "https://localhost:8080/"
        },
        "id": "nPvoArqKQM23",
        "outputId": "5eeb290b-dc34-42cc-e033-d05b78e915c1"
      },
      "execution_count": 32,
      "outputs": [
        {
          "output_type": "stream",
          "name": "stdout",
          "text": [
            "+---+------+---------+\n",
            "| id|  name|      loc|\n",
            "+---+------+---------+\n",
            "|  1|  ravi|    patna|\n",
            "|  2|   ram|bangalore|\n",
            "|  3|prasad|  chennai|\n",
            "|  4|   sam|     pune|\n",
            "|  5| shyam|    delhi|\n",
            "+---+------+---------+\n",
            "\n"
          ]
        }
      ]
    },
    {
      "cell_type": "code",
      "source": [
        ""
      ],
      "metadata": {
        "id": "T8RwoqvtRSyT"
      },
      "execution_count": null,
      "outputs": []
    }
  ]
}