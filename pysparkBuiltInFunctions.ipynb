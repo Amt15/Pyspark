{
  "nbformat": 4,
  "nbformat_minor": 0,
  "metadata": {
    "colab": {
      "name": "pysparkBuiltInFunctions.ipynb",
      "provenance": [],
      "collapsed_sections": [],
      "authorship_tag": "ABX9TyPsLXP3UykucGHfIESYpkRC",
      "include_colab_link": true
    },
    "kernelspec": {
      "name": "python3",
      "display_name": "Python 3"
    },
    "language_info": {
      "name": "python"
    }
  },
  "cells": [
    {
      "cell_type": "markdown",
      "metadata": {
        "id": "view-in-github",
        "colab_type": "text"
      },
      "source": [
        "<a href=\"https://colab.research.google.com/github/Amt15/Pyspark/blob/main/pysparkBuiltInFunctions.ipynb\" target=\"_parent\"><img src=\"https://colab.research.google.com/assets/colab-badge.svg\" alt=\"Open In Colab\"/></a>"
      ]
    },
    {
      "cell_type": "code",
      "execution_count": 1,
      "metadata": {
        "colab": {
          "base_uri": "https://localhost:8080/"
        },
        "id": "jRMVYlAcBcyi",
        "outputId": "4b75870c-d222-4c73-cb71-03356e786825"
      },
      "outputs": [
        {
          "output_type": "stream",
          "name": "stdout",
          "text": [
            "\u001b[K     |████████████████████████████████| 281.3 MB 55 kB/s \n",
            "\u001b[K     |████████████████████████████████| 199 kB 87.6 MB/s \n",
            "\u001b[?25h  Building wheel for pyspark (setup.py) ... \u001b[?25l\u001b[?25hdone\n"
          ]
        }
      ],
      "source": [
        "!pip install pyspark -q\n",
        "!pip install findspark -q\n"
      ]
    },
    {
      "cell_type": "code",
      "source": [
        "import findspark\n",
        "findspark.init()\n",
        "findspark.find()"
      ],
      "metadata": {
        "colab": {
          "base_uri": "https://localhost:8080/",
          "height": 36
        },
        "id": "RpcTFS0OC8zR",
        "outputId": "46d00e06-89c2-4b60-b06c-c620722c8b05"
      },
      "execution_count": 2,
      "outputs": [
        {
          "output_type": "execute_result",
          "data": {
            "text/plain": [
              "'/usr/local/lib/python3.7/dist-packages/pyspark'"
            ],
            "application/vnd.google.colaboratory.intrinsic+json": {
              "type": "string"
            }
          },
          "metadata": {},
          "execution_count": 2
        }
      ]
    },
    {
      "cell_type": "code",
      "source": [
        "from pyspark.sql import SparkSession\n",
        "\n",
        "spark = SparkSession.builder\\\n",
        "        .appName(\"Built in function pract\")\\\n",
        "        .master(\"local[*]\")\\\n",
        "        .enableHiveSupport()\\\n",
        "        .getOrCreate()"
      ],
      "metadata": {
        "id": "uyTW2CAYDVti"
      },
      "execution_count": 3,
      "outputs": []
    },
    {
      "cell_type": "code",
      "source": [
        "data = [(\"James\",\"M\",60000),(\"Michael\",\"M\",70000),\n",
        "        (\"Robert\",None,400000),(\"Maria\",\"F\",500000),\n",
        "        (\"Jen\",\"\",None)]\n",
        "\n",
        "columns = [\"name\",\"gender\",\"salary\"]\n",
        "df = spark.createDataFrame(data = data, schema = columns)\n",
        "df.show()"
      ],
      "metadata": {
        "colab": {
          "base_uri": "https://localhost:8080/"
        },
        "id": "MuU_ZIl0F67P",
        "outputId": "351707e3-cd5b-4faa-fb77-a3f3a5232ddb"
      },
      "execution_count": 4,
      "outputs": [
        {
          "output_type": "stream",
          "name": "stdout",
          "text": [
            "+-------+------+------+\n",
            "|   name|gender|salary|\n",
            "+-------+------+------+\n",
            "|  James|     M| 60000|\n",
            "|Michael|     M| 70000|\n",
            "| Robert|  null|400000|\n",
            "|  Maria|     F|500000|\n",
            "|    Jen|      |  null|\n",
            "+-------+------+------+\n",
            "\n"
          ]
        }
      ]
    },
    {
      "cell_type": "code",
      "source": [
        "from pyspark.sql.functions import when,lit,col\n",
        "df2 = df.withColumn(\"new_gender\", when(df.gender == \"M\",\"Male\")\n",
        "                                 .when(df.gender == \"F\",\"Female\")\n",
        "                                 .when(df.gender.isNull() ,\"\")\n",
        "                                 .otherwise(df.gender))\n",
        "\n",
        "df2.show()"
      ],
      "metadata": {
        "colab": {
          "base_uri": "https://localhost:8080/"
        },
        "id": "_PwDPhLTH46r",
        "outputId": "b4c5435d-2c9c-41a7-b8f8-369c2fc8427a"
      },
      "execution_count": 5,
      "outputs": [
        {
          "output_type": "stream",
          "name": "stdout",
          "text": [
            "+-------+------+------+----------+\n",
            "|   name|gender|salary|new_gender|\n",
            "+-------+------+------+----------+\n",
            "|  James|     M| 60000|      Male|\n",
            "|Michael|     M| 70000|      Male|\n",
            "| Robert|  null|400000|          |\n",
            "|  Maria|     F|500000|    Female|\n",
            "|    Jen|      |  null|          |\n",
            "+-------+------+------+----------+\n",
            "\n"
          ]
        }
      ]
    },
    {
      "cell_type": "code",
      "source": [
        "df2.drop(df.gender).show()"
      ],
      "metadata": {
        "colab": {
          "base_uri": "https://localhost:8080/"
        },
        "id": "21hIDeffIW5F",
        "outputId": "711c5413-0b1b-40e1-eea6-ce5c06d56ea2"
      },
      "execution_count": 6,
      "outputs": [
        {
          "output_type": "stream",
          "name": "stdout",
          "text": [
            "+-------+------+----------+\n",
            "|   name|salary|new_gender|\n",
            "+-------+------+----------+\n",
            "|  James| 60000|      Male|\n",
            "|Michael| 70000|      Male|\n",
            "| Robert|400000|          |\n",
            "|  Maria|500000|    Female|\n",
            "|    Jen|  null|          |\n",
            "+-------+------+----------+\n",
            "\n"
          ]
        }
      ]
    },
    {
      "cell_type": "code",
      "source": [
        "df2.withColumn(\"chandan\", lit(\"married\")).show()"
      ],
      "metadata": {
        "colab": {
          "base_uri": "https://localhost:8080/"
        },
        "id": "TEs57wlcJev1",
        "outputId": "81925ed4-a916-489e-881c-339d61f70e30"
      },
      "execution_count": 7,
      "outputs": [
        {
          "output_type": "stream",
          "name": "stdout",
          "text": [
            "+-------+------+------+----------+-------+\n",
            "|   name|gender|salary|new_gender|chandan|\n",
            "+-------+------+------+----------+-------+\n",
            "|  James|     M| 60000|      Male|married|\n",
            "|Michael|     M| 70000|      Male|married|\n",
            "| Robert|  null|400000|          |married|\n",
            "|  Maria|     F|500000|    Female|married|\n",
            "|    Jen|      |  null|          |married|\n",
            "+-------+------+------+----------+-------+\n",
            "\n"
          ]
        }
      ]
    },
    {
      "cell_type": "code",
      "source": [
        "df.select(col(\"*\"),when(df.gender == \"M\",\"Male\")\n",
        "                  .when(df.gender == \"F\",\"Female\")\n",
        "                  .when(df.gender.isNull() ,\"\")\n",
        "                  .otherwise(df.gender).alias(\"new_gender\")).show()"
      ],
      "metadata": {
        "colab": {
          "base_uri": "https://localhost:8080/"
        },
        "id": "_8e-nGKQLhz0",
        "outputId": "2054273b-92c5-445e-87dc-c68ef5fb44ec"
      },
      "execution_count": 8,
      "outputs": [
        {
          "output_type": "stream",
          "name": "stdout",
          "text": [
            "+-------+------+------+----------+\n",
            "|   name|gender|salary|new_gender|\n",
            "+-------+------+------+----------+\n",
            "|  James|     M| 60000|      Male|\n",
            "|Michael|     M| 70000|      Male|\n",
            "| Robert|  null|400000|          |\n",
            "|  Maria|     F|500000|    Female|\n",
            "|    Jen|      |  null|          |\n",
            "+-------+------+------+----------+\n",
            "\n"
          ]
        }
      ]
    },
    {
      "cell_type": "code",
      "source": [
        ""
      ],
      "metadata": {
        "id": "98Wkw8HPLyca"
      },
      "execution_count": 8,
      "outputs": []
    },
    {
      "cell_type": "code",
      "source": [
        "from pyspark.sql import functions as f\n",
        "df3 = df.withColumn(\"new_gender\", f.expr(\"CASE WHEN gender = 'M' THEN 'Male' \" + \n",
        "               \"WHEN gender = 'F' THEN 'Female' WHEN gender IS NULL THEN ''\" +\n",
        "               \"ELSE gender END\"))\n",
        "df3.show(truncate=False)\n"
      ],
      "metadata": {
        "colab": {
          "base_uri": "https://localhost:8080/"
        },
        "id": "hE-nI8MyMD4E",
        "outputId": "c757ac31-b67b-45f0-b82b-e8e4717f654e"
      },
      "execution_count": 9,
      "outputs": [
        {
          "output_type": "stream",
          "name": "stdout",
          "text": [
            "+-------+------+------+----------+\n",
            "|name   |gender|salary|new_gender|\n",
            "+-------+------+------+----------+\n",
            "|James  |M     |60000 |Male      |\n",
            "|Michael|M     |70000 |Male      |\n",
            "|Robert |null  |400000|          |\n",
            "|Maria  |F     |500000|Female    |\n",
            "|Jen    |      |null  |          |\n",
            "+-------+------+------+----------+\n",
            "\n"
          ]
        }
      ]
    },
    {
      "cell_type": "code",
      "source": [
        "df.select(col(\"*\"), f.expr(\"CASE WHEN gender = 'M' THEN 'Male' \" +\n",
        "           \"WHEN gender = 'F' THEN 'Female' WHEN gender IS NULL THEN ''\" +\n",
        "           \"ELSE gender END\").alias(\"new_gender\")).show()"
      ],
      "metadata": {
        "colab": {
          "base_uri": "https://localhost:8080/"
        },
        "id": "v2AClgHqMyOX",
        "outputId": "fa72f5bb-ca2c-48cb-eaf5-4a07de538f30"
      },
      "execution_count": 10,
      "outputs": [
        {
          "output_type": "stream",
          "name": "stdout",
          "text": [
            "+-------+------+------+----------+\n",
            "|   name|gender|salary|new_gender|\n",
            "+-------+------+------+----------+\n",
            "|  James|     M| 60000|      Male|\n",
            "|Michael|     M| 70000|      Male|\n",
            "| Robert|  null|400000|          |\n",
            "|  Maria|     F|500000|    Female|\n",
            "|    Jen|      |  null|          |\n",
            "+-------+------+------+----------+\n",
            "\n"
          ]
        }
      ]
    },
    {
      "cell_type": "code",
      "source": [
        "df2.drop(df.gender).withColumnRenamed(\"new_gender\",\"Gender\").show()"
      ],
      "metadata": {
        "colab": {
          "base_uri": "https://localhost:8080/"
        },
        "id": "4X7zg7ahNMvu",
        "outputId": "ca51c9f1-b1b3-4ba4-f579-a0733ffe63c7"
      },
      "execution_count": 11,
      "outputs": [
        {
          "output_type": "stream",
          "name": "stdout",
          "text": [
            "+-------+------+------+\n",
            "|   name|salary|Gender|\n",
            "+-------+------+------+\n",
            "|  James| 60000|  Male|\n",
            "|Michael| 70000|  Male|\n",
            "| Robert|400000|      |\n",
            "|  Maria|500000|Female|\n",
            "|    Jen|  null|      |\n",
            "+-------+------+------+\n",
            "\n"
          ]
        }
      ]
    },
    {
      "cell_type": "code",
      "source": [
        "df2.createOrReplaceTempView(\"EMP\")"
      ],
      "metadata": {
        "id": "xnXqjZnVOvdz"
      },
      "execution_count": 12,
      "outputs": []
    },
    {
      "cell_type": "code",
      "source": [
        "spark.sql(\"select * from EMP\").show()"
      ],
      "metadata": {
        "colab": {
          "base_uri": "https://localhost:8080/"
        },
        "id": "dlUB4IbAPQvE",
        "outputId": "8da34959-edd3-4366-89bd-22b4193f4e42"
      },
      "execution_count": 13,
      "outputs": [
        {
          "output_type": "stream",
          "name": "stdout",
          "text": [
            "+-------+------+------+----------+\n",
            "|   name|gender|salary|new_gender|\n",
            "+-------+------+------+----------+\n",
            "|  James|     M| 60000|      Male|\n",
            "|Michael|     M| 70000|      Male|\n",
            "| Robert|  null|400000|          |\n",
            "|  Maria|     F|500000|    Female|\n",
            "|    Jen|      |  null|          |\n",
            "+-------+------+------+----------+\n",
            "\n"
          ]
        }
      ]
    },
    {
      "cell_type": "code",
      "source": [
        "data = [(1,\"20200828\"),(2,\"20180525\")]\n",
        "columns=[\"id\",\"date\"]\n",
        "df=spark.createDataFrame(data,columns)\n",
        "df.withColumn('year', f.substring('date', 1,4))\\\n",
        "    .withColumn('month', f.substring('date', 5,2))\\\n",
        "    .withColumn('day', f.substring('date', 7,2)).show()\n",
        "    \n",
        "df.printSchema()\n",
        "df.show(truncate=False)"
      ],
      "metadata": {
        "colab": {
          "base_uri": "https://localhost:8080/"
        },
        "id": "rCpwnWDhPgRx",
        "outputId": "49dbf5d9-e7a3-4912-b3ba-9b6b0e10d914"
      },
      "execution_count": 14,
      "outputs": [
        {
          "output_type": "stream",
          "name": "stdout",
          "text": [
            "+---+--------+----+-----+---+\n",
            "| id|    date|year|month|day|\n",
            "+---+--------+----+-----+---+\n",
            "|  1|20200828|2020|   08| 28|\n",
            "|  2|20180525|2018|   05| 25|\n",
            "+---+--------+----+-----+---+\n",
            "\n",
            "root\n",
            " |-- id: long (nullable = true)\n",
            " |-- date: string (nullable = true)\n",
            "\n",
            "+---+--------+\n",
            "|id |date    |\n",
            "+---+--------+\n",
            "|1  |20200828|\n",
            "|2  |20180525|\n",
            "+---+--------+\n",
            "\n"
          ]
        }
      ]
    },
    {
      "cell_type": "code",
      "source": [
        "df.selectExpr('date', 'substring(date, 1,4) as year', \\\n",
        "                  'substring(date, 5,2) as month', \\\n",
        "                 'substring(date, 7,2) as day').show()"
      ],
      "metadata": {
        "colab": {
          "base_uri": "https://localhost:8080/"
        },
        "id": "ELYcKxygSUNJ",
        "outputId": "99b93067-618d-4a03-dc5d-c932f9b02bce"
      },
      "execution_count": 15,
      "outputs": [
        {
          "output_type": "stream",
          "name": "stdout",
          "text": [
            "+--------+----+-----+---+\n",
            "|    date|year|month|day|\n",
            "+--------+----+-----+---+\n",
            "|20200828|2020|   08| 28|\n",
            "|20180525|2018|   05| 25|\n",
            "+--------+----+-----+---+\n",
            "\n"
          ]
        }
      ]
    },
    {
      "cell_type": "code",
      "source": [
        "df.withColumn('year', col('date').substr(1, 4))\\\n",
        "  .withColumn('month',col('date').substr(5, 2))\\\n",
        "  .withColumn('day', col('date').substr(7, 2)).show()"
      ],
      "metadata": {
        "colab": {
          "base_uri": "https://localhost:8080/"
        },
        "id": "9P0Ta3hQTJBK",
        "outputId": "ba4d3c5f-bd67-4a0e-9f51-50972e066577"
      },
      "execution_count": 16,
      "outputs": [
        {
          "output_type": "stream",
          "name": "stdout",
          "text": [
            "+---+--------+----+-----+---+\n",
            "| id|    date|year|month|day|\n",
            "+---+--------+----+-----+---+\n",
            "|  1|20200828|2020|   08| 28|\n",
            "|  2|20180525|2018|   05| 25|\n",
            "+---+--------+----+-----+---+\n",
            "\n"
          ]
        }
      ]
    },
    {
      "cell_type": "code",
      "source": [
        "\n",
        "df2.show()"
      ],
      "metadata": {
        "colab": {
          "base_uri": "https://localhost:8080/"
        },
        "id": "P8bFXPW9VBfO",
        "outputId": "7dc07ce9-1325-4dfe-b136-690b0ccf6cbf"
      },
      "execution_count": 18,
      "outputs": [
        {
          "output_type": "stream",
          "name": "stdout",
          "text": [
            "+-------+------+------+----------+\n",
            "|   name|gender|salary|new_gender|\n",
            "+-------+------+------+----------+\n",
            "|  James|     M| 60000|      Male|\n",
            "|Michael|     M| 70000|      Male|\n",
            "| Robert|  null|400000|          |\n",
            "|  Maria|     F|500000|    Female|\n",
            "|    Jen|      |  null|          |\n",
            "+-------+------+------+----------+\n",
            "\n"
          ]
        }
      ]
    },
    {
      "cell_type": "code",
      "source": [
        "\n",
        "address = [(1,\"14851 Jeffrey Rd\",\"DE\"),\n",
        "    (2,\"43421 Margarita St\",\"NY\"),\n",
        "    (3,\"13111 Siemon Ave\",\"CA\")]\n",
        "df =spark.createDataFrame(address,[\"id\",\"address\",\"state\"])\n",
        "df.show()"
      ],
      "metadata": {
        "colab": {
          "base_uri": "https://localhost:8080/"
        },
        "id": "GllxtWOvZRd9",
        "outputId": "e035acbe-c2bd-4108-aa35-13717effb171"
      },
      "execution_count": 19,
      "outputs": [
        {
          "output_type": "stream",
          "name": "stdout",
          "text": [
            "+---+------------------+-----+\n",
            "| id|           address|state|\n",
            "+---+------------------+-----+\n",
            "|  1|  14851 Jeffrey Rd|   DE|\n",
            "|  2|43421 Margarita St|   NY|\n",
            "|  3|  13111 Siemon Ave|   CA|\n",
            "+---+------------------+-----+\n",
            "\n"
          ]
        }
      ]
    },
    {
      "cell_type": "code",
      "source": [
        "df.withColumn('address', f.regexp_replace('address', 'Rd', 'Road'))\\\n",
        "  .withColumn('address',f.regexp_replace('address', 'St', 'Street'))\\\n",
        "  .withColumn('address',f.regexp_replace('address','Ave','Avenue'))\\\n",
        "  .show(truncate=False)"
      ],
      "metadata": {
        "colab": {
          "base_uri": "https://localhost:8080/"
        },
        "id": "2eIF1ylgbUVP",
        "outputId": "f0dc7e76-16c6-4eae-8846-7a05b397b15d"
      },
      "execution_count": 20,
      "outputs": [
        {
          "output_type": "stream",
          "name": "stdout",
          "text": [
            "+---+----------------------+-----+\n",
            "|id |address               |state|\n",
            "+---+----------------------+-----+\n",
            "|1  |14851 Jeffrey Road    |DE   |\n",
            "|2  |43421 Margarita Street|NY   |\n",
            "|3  |13111 Siemon Avenue   |CA   |\n",
            "+---+----------------------+-----+\n",
            "\n"
          ]
        }
      ]
    },
    {
      "cell_type": "code",
      "source": [
        "df.withColumn('address', \n",
        "    when(df.address.endswith('Rd'),f.regexp_replace(df.address,'Rd','Road')) \\\n",
        "   .when(df.address.endswith('St'),f.regexp_replace(df.address,'St','Street')) \\\n",
        "   .when(df.address.endswith('Ave'),f.regexp_replace(df.address,'Ave','Avenue')) \\\n",
        "   .otherwise(df.address)) \\\n",
        "   .show(truncate=False)"
      ],
      "metadata": {
        "colab": {
          "base_uri": "https://localhost:8080/"
        },
        "id": "Wf_9l_IibsTG",
        "outputId": "ab408c99-4b48-4e54-ef87-1ce53290bc2c"
      },
      "execution_count": 21,
      "outputs": [
        {
          "output_type": "stream",
          "name": "stdout",
          "text": [
            "+---+----------------------+-----+\n",
            "|id |address               |state|\n",
            "+---+----------------------+-----+\n",
            "|1  |14851 Jeffrey Road    |DE   |\n",
            "|2  |43421 Margarita Street|NY   |\n",
            "|3  |13111 Siemon Avenue   |CA   |\n",
            "+---+----------------------+-----+\n",
            "\n"
          ]
        }
      ]
    },
    {
      "cell_type": "code",
      "source": [
        "# pyspark.sql.functions.split(str, pattern, limit=-1)\n",
        "\n",
        "data = [(\"James, A, Smith\",\"2018\",\"M\",3000),\n",
        "            (\"Michael, Rose, Jones\",\"2010\",\"M\",4000),\n",
        "            (\"Robert,K,Williams\",\"2010\",\"M\",4000),\n",
        "            (\"Maria,Anne,Jones\",\"2005\",\"F\",4000),\n",
        "            (\"Jen,Mary,Brown\",\"2010\",\"\",-1)\n",
        "            ]\n",
        "\n",
        "columns=[\"name\",\"dob_year\",\"gender\",\"salary\"]\n",
        "df=spark.createDataFrame(data,columns)\n",
        "df.printSchema()\n"
      ],
      "metadata": {
        "colab": {
          "base_uri": "https://localhost:8080/"
        },
        "id": "EMsHh5PQegAF",
        "outputId": "32b556fa-5caa-455d-969c-5d99deb6a6ad"
      },
      "execution_count": 22,
      "outputs": [
        {
          "output_type": "stream",
          "name": "stdout",
          "text": [
            "root\n",
            " |-- name: string (nullable = true)\n",
            " |-- dob_year: string (nullable = true)\n",
            " |-- gender: string (nullable = true)\n",
            " |-- salary: long (nullable = true)\n",
            "\n"
          ]
        }
      ]
    },
    {
      "cell_type": "code",
      "source": [
        "df2 = df.select(f.split(col(\"name\"),\",\").alias(\"NameArray\")) \\\n",
        "    .drop(\"name\")\n",
        "df2.printSchema()\n",
        "df2.show()"
      ],
      "metadata": {
        "colab": {
          "base_uri": "https://localhost:8080/"
        },
        "id": "gTI4qgqdx2v8",
        "outputId": "7f5cce12-adf7-4f6c-b1bd-1fea0824811f"
      },
      "execution_count": 23,
      "outputs": [
        {
          "output_type": "stream",
          "name": "stdout",
          "text": [
            "root\n",
            " |-- NameArray: array (nullable = true)\n",
            " |    |-- element: string (containsNull = false)\n",
            "\n",
            "+--------------------+\n",
            "|           NameArray|\n",
            "+--------------------+\n",
            "| [James,  A,  Smith]|\n",
            "|[Michael,  Rose, ...|\n",
            "|[Robert, K, Willi...|\n",
            "|[Maria, Anne, Jones]|\n",
            "|  [Jen, Mary, Brown]|\n",
            "+--------------------+\n",
            "\n"
          ]
        }
      ]
    },
    {
      "cell_type": "code",
      "source": [
        "df.createOrReplaceTempView(\"PERSON\")\n",
        "spark.sql(\"select SPLIT(name,',') as NameArray from PERSON\") \\\n",
        "    .show()"
      ],
      "metadata": {
        "colab": {
          "base_uri": "https://localhost:8080/"
        },
        "id": "W8Z0Bu-myCt7",
        "outputId": "2d7aa350-eadc-4e0a-db26-0683e536b163"
      },
      "execution_count": 24,
      "outputs": [
        {
          "output_type": "stream",
          "name": "stdout",
          "text": [
            "+--------------------+\n",
            "|           NameArray|\n",
            "+--------------------+\n",
            "| [James,  A,  Smith]|\n",
            "|[Michael,  Rose, ...|\n",
            "|[Robert, K, Willi...|\n",
            "|[Maria, Anne, Jones]|\n",
            "|  [Jen, Mary, Brown]|\n",
            "+--------------------+\n",
            "\n"
          ]
        }
      ]
    },
    {
      "cell_type": "markdown",
      "source": [
        "Use \" to_timestamp() \" function to convert String to Timestamp (TimestampType) in PySpark. The converted time would be in a default format of MM-dd-yyyy HH:mm:ss.SSS\n",
        "\n",
        "- Syntax: to_timestamp(timestampString:Column) \n",
        "- Syntax: to_timestamp(timestampString:Column,format:String) \n",
        " "
      ],
      "metadata": {
        "id": "HC4NWdLdy-Id"
      }
    },
    {
      "cell_type": "code",
      "source": [
        "df=spark.createDataFrame(\n",
        "        data = [ (\"1\",\"2019-06-24 12:01:19.000\")],\n",
        "        schema=[\"id\",\"input_timestamp\"])\n",
        "df.printSchema()\n",
        "\n",
        "#Timestamp String to DateType\n",
        "df2=df.withColumn(\"timestamp\",f.to_timestamp(\"input_timestamp\"))\n",
        "df2.show(truncate=False)  "
      ],
      "metadata": {
        "colab": {
          "base_uri": "https://localhost:8080/"
        },
        "id": "q29K7s-2yfGI",
        "outputId": "f0aaba9c-c4fc-494e-e553-cd6bed4c834e"
      },
      "execution_count": 28,
      "outputs": [
        {
          "output_type": "stream",
          "name": "stdout",
          "text": [
            "root\n",
            " |-- id: string (nullable = true)\n",
            " |-- input_timestamp: string (nullable = true)\n",
            "\n",
            "+---+-----------------------+-------------------+\n",
            "|id |input_timestamp        |timestamp          |\n",
            "+---+-----------------------+-------------------+\n",
            "|1  |2019-06-24 12:01:19.000|2019-06-24 12:01:19|\n",
            "+---+-----------------------+-------------------+\n",
            "\n"
          ]
        }
      ]
    },
    {
      "cell_type": "code",
      "source": [
        "# Using Cast to convert TimestampType to DateType\n",
        "df2.withColumn('timestamp_string', \\\n",
        "         f.to_timestamp('timestamp').cast('string')) \\\n",
        "  .show(truncate=False)"
      ],
      "metadata": {
        "colab": {
          "base_uri": "https://localhost:8080/"
        },
        "id": "1MNhxlBwzrCd",
        "outputId": "21238086-293b-496e-b901-f90192e24137"
      },
      "execution_count": 29,
      "outputs": [
        {
          "output_type": "stream",
          "name": "stdout",
          "text": [
            "+---+-----------------------+-------------------+-------------------+\n",
            "|id |input_timestamp        |timestamp          |timestamp_string   |\n",
            "+---+-----------------------+-------------------+-------------------+\n",
            "|1  |2019-06-24 12:01:19.000|2019-06-24 12:01:19|2019-06-24 12:01:19|\n",
            "+---+-----------------------+-------------------+-------------------+\n",
            "\n"
          ]
        }
      ]
    },
    {
      "cell_type": "code",
      "source": [
        "df.select(f.to_timestamp(lit('06-24-2019 12:01:19.000'),'MM-dd-yyyy HH:mm:ss.SSSS')) \\\n",
        "  .show(truncate=False)"
      ],
      "metadata": {
        "colab": {
          "base_uri": "https://localhost:8080/"
        },
        "id": "QUGC5CRHz6Pd",
        "outputId": "53d7380c-a904-4fa6-e7f9-f86d5fd5ce2e"
      },
      "execution_count": 32,
      "outputs": [
        {
          "output_type": "stream",
          "name": "stdout",
          "text": [
            "+---------------------------------------------------------------+\n",
            "|to_timestamp(06-24-2019 12:01:19.000, MM-dd-yyyy HH:mm:ss.SSSS)|\n",
            "+---------------------------------------------------------------+\n",
            "|2019-06-24 12:01:19                                            |\n",
            "+---------------------------------------------------------------+\n",
            "\n"
          ]
        }
      ]
    },
    {
      "cell_type": "code",
      "source": [
        "#SQL string to TimestampType\n",
        "spark.sql(\"select to_timestamp('2019-06-24 12:01:19.000') as timestamp\").show()\n",
        "#SQL CAST timestamp string to TimestampType\n",
        "spark.sql(\"select timestamp('2019-06-24 12:01:19.000') as timestamp\").show()\n",
        "#SQL Custom string to TimestampType\n",
        "spark.sql(\"select to_timestamp('06-24-2019 12:01:19.000','MM-dd-yyyy HH:mm:ss.SSSS') as timestamp\").show()"
      ],
      "metadata": {
        "colab": {
          "base_uri": "https://localhost:8080/"
        },
        "id": "3djRh6DE0ixO",
        "outputId": "60c7313a-e840-4c28-ba64-2437fc2fa34b"
      },
      "execution_count": 36,
      "outputs": [
        {
          "output_type": "stream",
          "name": "stdout",
          "text": [
            "+-------------------+\n",
            "|          timestamp|\n",
            "+-------------------+\n",
            "|2019-06-24 12:01:19|\n",
            "+-------------------+\n",
            "\n",
            "+-------------------+\n",
            "|          timestamp|\n",
            "+-------------------+\n",
            "|2019-06-24 12:01:19|\n",
            "+-------------------+\n",
            "\n",
            "+-------------------+\n",
            "|          timestamp|\n",
            "+-------------------+\n",
            "|2019-06-24 12:01:19|\n",
            "+-------------------+\n",
            "\n"
          ]
        }
      ]
    },
    {
      "cell_type": "markdown",
      "source": [
        "# PySpark functions provide to_date() function to convert timestamp to date (DateType), this ideally achieved by just truncating the time part from the Timestamp column.\n",
        "\n",
        "\n",
        "- Syntax: to_date(timestamp_column)\n",
        "- Syntax: to_date(timestamp_column,format)"
      ],
      "metadata": {
        "id": "BthVfqbZ19jK"
      }
    },
    {
      "cell_type": "code",
      "source": [
        "#Timestamp String to DateType\n",
        "df.withColumn(\"date_type\",f.to_date(\"input_timestamp\")) \\\n",
        "  .show(truncate=False)\n",
        "\n",
        "#Timestamp Type to DateType\n",
        "df.withColumn(\"date_type\",f.to_date(f.current_timestamp())) \\\n",
        "  .show(truncate=False) "
      ],
      "metadata": {
        "colab": {
          "base_uri": "https://localhost:8080/"
        },
        "id": "vq_sMeK51Xqu",
        "outputId": "c529ca1a-aed3-4cb8-a4e7-97f331e0554a"
      },
      "execution_count": 39,
      "outputs": [
        {
          "output_type": "stream",
          "name": "stdout",
          "text": [
            "+---+-----------------------+----------+\n",
            "|id |input_timestamp        |date_type |\n",
            "+---+-----------------------+----------+\n",
            "|1  |2019-06-24 12:01:19.000|2019-06-24|\n",
            "+---+-----------------------+----------+\n",
            "\n",
            "+---+-----------------------+----------+\n",
            "|id |input_timestamp        |date_type |\n",
            "+---+-----------------------+----------+\n",
            "|1  |2019-06-24 12:01:19.000|2022-07-10|\n",
            "+---+-----------------------+----------+\n",
            "\n"
          ]
        }
      ]
    },
    {
      "cell_type": "code",
      "source": [
        "#Custom Timestamp format to DateType\n",
        "df.select(f.to_date(f.lit('06-24-2019 12:01:19.000'),'MM-dd-yyyy HH:mm:ss.SSSS')) \\\n",
        "  .show()"
      ],
      "metadata": {
        "colab": {
          "base_uri": "https://localhost:8080/"
        },
        "id": "dTW2ot3r2hkK",
        "outputId": "c3f89366-47e8-403e-c6a3-d7b736581b18"
      },
      "execution_count": 41,
      "outputs": [
        {
          "output_type": "stream",
          "name": "stdout",
          "text": [
            "+----------------------------------------------------------+\n",
            "|to_date(06-24-2019 12:01:19.000, MM-dd-yyyy HH:mm:ss.SSSS)|\n",
            "+----------------------------------------------------------+\n",
            "|                                                2019-06-24|\n",
            "+----------------------------------------------------------+\n",
            "\n"
          ]
        }
      ]
    },
    {
      "cell_type": "code",
      "source": [
        "#Timestamp type to DateType\n",
        "df.withColumn(\"ts\",f.to_timestamp(f.col(\"input_timestamp\"))) \\\n",
        "  .withColumn(\"datetype\",f.to_date(f.col(\"ts\"))) \\\n",
        "  .show(truncate=False)"
      ],
      "metadata": {
        "colab": {
          "base_uri": "https://localhost:8080/"
        },
        "id": "gfmip75W2xrU",
        "outputId": "72ff69f5-5f67-4bbe-b55a-b21153e581c7"
      },
      "execution_count": 43,
      "outputs": [
        {
          "output_type": "stream",
          "name": "stdout",
          "text": [
            "+---+-----------------------+-------------------+----------+\n",
            "|id |input_timestamp        |ts                 |datetype  |\n",
            "+---+-----------------------+-------------------+----------+\n",
            "|1  |2019-06-24 12:01:19.000|2019-06-24 12:01:19|2019-06-24|\n",
            "+---+-----------------------+-------------------+----------+\n",
            "\n"
          ]
        }
      ]
    },
    {
      "cell_type": "code",
      "source": [
        "# Using Cast to convert Timestamp String to DateType\n",
        "df.withColumn('date_type', f.col('input_timestamp').cast('date')) \\\n",
        "       .show(truncate=False)\n",
        "\n",
        "# Using Cast to convert TimestampType to DateType\n",
        "df.withColumn('date_type', f.to_timestamp('input_timestamp').cast('date')) \\\n",
        "  .show(truncate=False)"
      ],
      "metadata": {
        "colab": {
          "base_uri": "https://localhost:8080/"
        },
        "id": "G3Ybux_j3BRh",
        "outputId": "13171637-37a9-445b-8d80-c8fa3fff53d4"
      },
      "execution_count": 45,
      "outputs": [
        {
          "output_type": "stream",
          "name": "stdout",
          "text": [
            "+---+-----------------------+----------+\n",
            "|id |input_timestamp        |date_type |\n",
            "+---+-----------------------+----------+\n",
            "|1  |2019-06-24 12:01:19.000|2019-06-24|\n",
            "+---+-----------------------+----------+\n",
            "\n",
            "+---+-----------------------+----------+\n",
            "|id |input_timestamp        |date_type |\n",
            "+---+-----------------------+----------+\n",
            "|1  |2019-06-24 12:01:19.000|2019-06-24|\n",
            "+---+-----------------------+----------+\n",
            "\n"
          ]
        }
      ]
    },
    {
      "cell_type": "code",
      "source": [
        "df=spark.createDataFrame([[\"1\"]],[\"id\"])\n",
        "df.select(f.current_date().alias(\"current_date\"), \\\n",
        "      f.date_format(f.current_timestamp(),\"yyyy MM dd\").alias(\"yyyy MM dd\"), \\\n",
        "      f.date_format(f.current_timestamp(),\"MM/dd/yyyy hh:mm\").alias(\"MM/dd/yyyy\"), \\\n",
        "      f.date_format(f.current_timestamp(),\"yyyy MMM dd\").alias(\"yyyy MMMM dd\"), \\\n",
        "      f.date_format(f.current_timestamp(),\"yyyy MMMM dd E\").alias(\"yyyy MMMM dd E\") \\\n",
        "   ).show()"
      ],
      "metadata": {
        "colab": {
          "base_uri": "https://localhost:8080/"
        },
        "id": "27gosKvc3WJ0",
        "outputId": "9727a4a9-0358-47a3-ca12-1efa24005bd4"
      },
      "execution_count": 46,
      "outputs": [
        {
          "output_type": "stream",
          "name": "stdout",
          "text": [
            "+------------+----------+----------------+------------+----------------+\n",
            "|current_date|yyyy MM dd|      MM/dd/yyyy|yyyy MMMM dd|  yyyy MMMM dd E|\n",
            "+------------+----------+----------------+------------+----------------+\n",
            "|  2022-07-10|2022 07 10|07/10/2022 11:31| 2022 Jul 10|2022 July 10 Sun|\n",
            "+------------+----------+----------------+------------+----------------+\n",
            "\n"
          ]
        }
      ]
    },
    {
      "cell_type": "code",
      "source": [
        ""
      ],
      "metadata": {
        "colab": {
          "base_uri": "https://localhost:8080/"
        },
        "id": "T1sw3bSg4P-2",
        "outputId": "11660573-35a0-4bf2-c365-bb17145ba5b4"
      },
      "execution_count": 50,
      "outputs": [
        {
          "output_type": "stream",
          "name": "stdout",
          "text": [
            "+------------+----------+----------------+------------+-------------------+\n",
            "|current_date|yyyy_MM_dd|      MM_dd_yyyy|yyyy_MMMM_dd|     yyyy_MMMM_dd_E|\n",
            "+------------+----------+----------------+------------+-------------------+\n",
            "|  2022-07-10|2022 07 10|07/10/2022 11:32| 2022 Jul 10|2022 July 10 Sunday|\n",
            "+------------+----------+----------------+------------+-------------------+\n",
            "\n"
          ]
        }
      ]
    },
    {
      "cell_type": "code",
      "source": [
        "\n",
        "#SQL\n",
        "spark.sql(\"select current_date() as current_date, \"+\n",
        "      \"date_format(current_timestamp(),'yyyy MM dd') as yyyy_MM_dd, \"+\n",
        "      \"date_format(current_timestamp(),'MM/dd/yyyy hh:mm') as MM_dd_yyyy, \"+\n",
        "      \"date_format(current_timestamp(),'yyyy MMM dd') as yyyy_MMMM_dd, \"+\n",
        "      \"date_format(current_timestamp(),'yyyy MMMM dd E') as yyyy_MMMM_dd_E,\"+\n",
        "      \"date_format(current_timestamp(),'yyyy MMMM dd EEEE') as yyyy_MMMM_dd_E\").show()\n"
      ],
      "metadata": {
        "colab": {
          "base_uri": "https://localhost:8080/"
        },
        "id": "-zN-x18b4V8o",
        "outputId": "12b27ffd-975b-4a0b-af40-1a3a96176aa0"
      },
      "execution_count": 52,
      "outputs": [
        {
          "output_type": "stream",
          "name": "stdout",
          "text": [
            "+------------+----------+----------------+------------+----------------+-------------------+\n",
            "|current_date|yyyy_MM_dd|      MM_dd_yyyy|yyyy_MMMM_dd|  yyyy_MMMM_dd_E|     yyyy_MMMM_dd_E|\n",
            "+------------+----------+----------------+------------+----------------+-------------------+\n",
            "|  2022-07-10|2022 07 10|07/10/2022 11:35| 2022 Jul 10|2022 July 10 Sun|2022 July 10 Sunday|\n",
            "+------------+----------+----------------+------------+----------------+-------------------+\n",
            "\n"
          ]
        }
      ]
    },
    {
      "cell_type": "code",
      "source": [
        "data = [(\"1\",\"2019-07-01\"),(\"2\",\"2019-06-24\"),(\"3\",\"2019-08-24\")]\n",
        "df=spark.createDataFrame(data=data,schema=[\"id\",\"date\"])\n",
        "\n",
        "df.select(\n",
        "      col(\"date\"),\n",
        "      f.current_date().alias(\"current_date\"),\n",
        "      f.datediff(f.current_date(),col(\"date\")).alias(\"datediff\")\n",
        "    ).show()"
      ],
      "metadata": {
        "colab": {
          "base_uri": "https://localhost:8080/"
        },
        "id": "0GOzIl5U48Zc",
        "outputId": "390b9cc2-25da-4d50-a4c9-0808f430761a"
      },
      "execution_count": 54,
      "outputs": [
        {
          "output_type": "stream",
          "name": "stdout",
          "text": [
            "+----------+------------+--------+\n",
            "|      date|current_date|datediff|\n",
            "+----------+------------+--------+\n",
            "|2019-07-01|  2022-07-10|    1105|\n",
            "|2019-06-24|  2022-07-10|    1112|\n",
            "|2019-08-24|  2022-07-10|    1051|\n",
            "+----------+------------+--------+\n",
            "\n"
          ]
        }
      ]
    },
    {
      "cell_type": "code",
      "source": [
        "df.withColumn(\"datesDiff\", f.datediff(f.current_date(),col(\"date\"))) \\\n",
        "  .withColumn(\"montsDiff\", f.months_between(f.current_date(),col(\"date\"))) \\\n",
        "  .withColumn(\"montsDiff_round\",f.round(f.months_between(f.current_date(),col(\"date\")),2)) \\\n",
        "  .withColumn(\"yearsDiff\",f.months_between(f.current_date(),col(\"date\"))/lit(12)) \\\n",
        "  .withColumn(\"yearsDiff_round\",f.round(f.months_between(f.current_date(),col(\"date\"))/lit(12),2)) \\\n",
        "  .show()"
      ],
      "metadata": {
        "colab": {
          "base_uri": "https://localhost:8080/"
        },
        "id": "36vpd7zd5X0a",
        "outputId": "6d3746c8-3a89-4b14-e53b-e03294625d54"
      },
      "execution_count": 55,
      "outputs": [
        {
          "output_type": "stream",
          "name": "stdout",
          "text": [
            "+---+----------+---------+-----------+---------------+------------------+---------------+\n",
            "| id|      date|datesDiff|  montsDiff|montsDiff_round|         yearsDiff|yearsDiff_round|\n",
            "+---+----------+---------+-----------+---------------+------------------+---------------+\n",
            "|  1|2019-07-01|     1105|36.29032258|          36.29|3.0241935483333333|           3.02|\n",
            "|  2|2019-06-24|     1112| 36.5483871|          36.55|       3.045698925|           3.05|\n",
            "|  3|2019-08-24|     1051| 34.5483871|          34.55|2.8790322583333334|           2.88|\n",
            "+---+----------+---------+-----------+---------------+------------------+---------------+\n",
            "\n"
          ]
        }
      ]
    },
    {
      "cell_type": "code",
      "source": [
        "data2 = [(\"1\",\"07-01-2019\"),(\"2\",\"06-24-2019\"),(\"3\",\"08-24-2019\")]  \n",
        "df2=spark.createDataFrame(data=data2,schema=[\"id\",\"date\"])\n",
        "df2.select(\n",
        "    f.to_date(col(\"date\"),\"MM-dd-yyyy\").alias(\"date\"),\n",
        "    f.current_date().alias(\"endDate\")\n",
        "    ).show()"
      ],
      "metadata": {
        "colab": {
          "base_uri": "https://localhost:8080/"
        },
        "id": "IMbQd48J6Oc9",
        "outputId": "ef499ed0-9637-43c9-9a33-0079c76623cf"
      },
      "execution_count": 57,
      "outputs": [
        {
          "output_type": "stream",
          "name": "stdout",
          "text": [
            "+----------+----------+\n",
            "|      date|   endDate|\n",
            "+----------+----------+\n",
            "|2019-07-01|2022-07-10|\n",
            "|2019-06-24|2022-07-10|\n",
            "|2019-08-24|2022-07-10|\n",
            "+----------+----------+\n",
            "\n"
          ]
        }
      ]
    },
    {
      "cell_type": "markdown",
      "source": [
        "# explode() and flatten()"
      ],
      "metadata": {
        "id": "0ltDzZ-p9Ip7"
      }
    },
    {
      "cell_type": "code",
      "source": [
        "arrayArrayData = [\n",
        "  (\"James\",[[\"Java\",\"Scala\",\"C++\"],[\"Spark\",\"Java\"]]),\n",
        "  (\"Michael\",[[\"Spark\",\"Java\",\"C++\"],[\"Spark\",\"Java\"]]),\n",
        "  (\"Robert\",[[\"CSharp\",\"VB\"],[\"Spark\",\"Python\"]])\n",
        "]\n",
        "\n",
        "df = spark.createDataFrame(data=arrayArrayData, schema = ['name','subjects'])\n",
        "df.printSchema()\n",
        "df.show(truncate=False)"
      ],
      "metadata": {
        "colab": {
          "base_uri": "https://localhost:8080/"
        },
        "id": "JMbrv2zM6ufg",
        "outputId": "5dc2a855-3410-4061-a8b4-0c13f26c40ac"
      },
      "execution_count": 61,
      "outputs": [
        {
          "output_type": "stream",
          "name": "stdout",
          "text": [
            "root\n",
            " |-- name: string (nullable = true)\n",
            " |-- subjects: array (nullable = true)\n",
            " |    |-- element: array (containsNull = true)\n",
            " |    |    |-- element: string (containsNull = true)\n",
            "\n",
            "+-------+-----------------------------------+\n",
            "|name   |subjects                           |\n",
            "+-------+-----------------------------------+\n",
            "|James  |[[Java, Scala, C++], [Spark, Java]]|\n",
            "|Michael|[[Spark, Java, C++], [Spark, Java]]|\n",
            "|Robert |[[CSharp, VB], [Spark, Python]]    |\n",
            "+-------+-----------------------------------+\n",
            "\n"
          ]
        }
      ]
    },
    {
      "cell_type": "code",
      "source": [
        "df.select(df.name,f.explode(df.subjects)).show(truncate=False)"
      ],
      "metadata": {
        "colab": {
          "base_uri": "https://localhost:8080/"
        },
        "id": "BEzp9aNo9Mhd",
        "outputId": "6c3f22a5-ff6c-42f2-e979-0a74d58bc0c2"
      },
      "execution_count": 62,
      "outputs": [
        {
          "output_type": "stream",
          "name": "stdout",
          "text": [
            "+-------+------------------+\n",
            "|name   |col               |\n",
            "+-------+------------------+\n",
            "|James  |[Java, Scala, C++]|\n",
            "|James  |[Spark, Java]     |\n",
            "|Michael|[Spark, Java, C++]|\n",
            "|Michael|[Spark, Java]     |\n",
            "|Robert |[CSharp, VB]      |\n",
            "|Robert |[Spark, Python]   |\n",
            "+-------+------------------+\n",
            "\n"
          ]
        }
      ]
    },
    {
      "cell_type": "code",
      "source": [
        "df.select(df.name,f.flatten(df.subjects)).show(truncate=False)"
      ],
      "metadata": {
        "colab": {
          "base_uri": "https://localhost:8080/"
        },
        "id": "NJMtgAWR9ZEV",
        "outputId": "10e20cb1-835f-4afa-8e8d-af09151bc3c2"
      },
      "execution_count": 65,
      "outputs": [
        {
          "output_type": "stream",
          "name": "stdout",
          "text": [
            "+-------+-------------------------------+\n",
            "|name   |flatten(subjects)              |\n",
            "+-------+-------------------------------+\n",
            "|James  |[Java, Scala, C++, Spark, Java]|\n",
            "|Michael|[Spark, Java, C++, Spark, Java]|\n",
            "|Robert |[CSharp, VB, Spark, Python]    |\n",
            "+-------+-------------------------------+\n",
            "\n"
          ]
        }
      ]
    },
    {
      "cell_type": "code",
      "source": [
        ""
      ],
      "metadata": {
        "id": "tzqS2luR-ZP5"
      },
      "execution_count": null,
      "outputs": []
    }
  ]
}