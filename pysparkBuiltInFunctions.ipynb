{
  "nbformat": 4,
  "nbformat_minor": 0,
  "metadata": {
    "colab": {
      "name": "pysparkBuiltInFunctions.ipynb",
      "provenance": [],
      "authorship_tag": "ABX9TyP2j8wnnmRTJORYURZxRGC1",
      "include_colab_link": true
    },
    "kernelspec": {
      "name": "python3",
      "display_name": "Python 3"
    },
    "language_info": {
      "name": "python"
    }
  },
  "cells": [
    {
      "cell_type": "markdown",
      "metadata": {
        "id": "view-in-github",
        "colab_type": "text"
      },
      "source": [
        "<a href=\"https://colab.research.google.com/github/Amt15/Pyspark/blob/main/pysparkBuiltInFunctions.ipynb\" target=\"_parent\"><img src=\"https://colab.research.google.com/assets/colab-badge.svg\" alt=\"Open In Colab\"/></a>"
      ]
    },
    {
      "cell_type": "code",
      "execution_count": 1,
      "metadata": {
        "colab": {
          "base_uri": "https://localhost:8080/"
        },
        "id": "jRMVYlAcBcyi",
        "outputId": "64eacf59-45fb-4dd0-c178-e68ec98e8b72"
      },
      "outputs": [
        {
          "output_type": "stream",
          "name": "stdout",
          "text": [
            "\u001b[K     |████████████████████████████████| 281.3 MB 43 kB/s \n",
            "\u001b[K     |████████████████████████████████| 199 kB 52.5 MB/s \n",
            "\u001b[?25h  Building wheel for pyspark (setup.py) ... \u001b[?25l\u001b[?25hdone\n"
          ]
        }
      ],
      "source": [
        "!pip install pyspark -q\n",
        "!pip install findspark -q\n"
      ]
    },
    {
      "cell_type": "code",
      "source": [
        "import findspark\n",
        "findspark.init()\n",
        "findspark.find()"
      ],
      "metadata": {
        "colab": {
          "base_uri": "https://localhost:8080/",
          "height": 36
        },
        "id": "RpcTFS0OC8zR",
        "outputId": "fbe40c73-4c92-45dc-cdf6-dd38367c7ac4"
      },
      "execution_count": 2,
      "outputs": [
        {
          "output_type": "execute_result",
          "data": {
            "text/plain": [
              "'/usr/local/lib/python3.7/dist-packages/pyspark'"
            ],
            "application/vnd.google.colaboratory.intrinsic+json": {
              "type": "string"
            }
          },
          "metadata": {},
          "execution_count": 2
        }
      ]
    },
    {
      "cell_type": "code",
      "source": [
        "from pyspark.sql import SparkSession\n",
        "\n",
        "spark = SparkSession.builder\\\n",
        "        .appName(\"Built in function pract\")\\\n",
        "        .master(\"local[*]\")\\\n",
        "        .enableHiveSupport()\\\n",
        "        .getOrCreate()"
      ],
      "metadata": {
        "id": "uyTW2CAYDVti"
      },
      "execution_count": 3,
      "outputs": []
    },
    {
      "cell_type": "code",
      "source": [
        "data = [(\"James\",\"M\",60000),(\"Michael\",\"M\",70000),\n",
        "        (\"Robert\",None,400000),(\"Maria\",\"F\",500000),\n",
        "        (\"Jen\",\"\",None)]\n",
        "\n",
        "columns = [\"name\",\"gender\",\"salary\"]\n",
        "df = spark.createDataFrame(data = data, schema = columns)\n",
        "df.show()"
      ],
      "metadata": {
        "colab": {
          "base_uri": "https://localhost:8080/"
        },
        "id": "MuU_ZIl0F67P",
        "outputId": "7d722dca-c368-4685-a781-15e291b57557"
      },
      "execution_count": 4,
      "outputs": [
        {
          "output_type": "stream",
          "name": "stdout",
          "text": [
            "+-------+------+------+\n",
            "|   name|gender|salary|\n",
            "+-------+------+------+\n",
            "|  James|     M| 60000|\n",
            "|Michael|     M| 70000|\n",
            "| Robert|  null|400000|\n",
            "|  Maria|     F|500000|\n",
            "|    Jen|      |  null|\n",
            "+-------+------+------+\n",
            "\n"
          ]
        }
      ]
    },
    {
      "cell_type": "code",
      "source": [
        "from pyspark.sql.functions import when,lit,col\n",
        "df2 = df.withColumn(\"new_gender\", when(df.gender == \"M\",\"Male\")\n",
        "                                 .when(df.gender == \"F\",\"Female\")\n",
        "                                 .when(df.gender.isNull() ,\"\")\n",
        "                                 .otherwise(df.gender))\n",
        "\n",
        "df2.show()"
      ],
      "metadata": {
        "colab": {
          "base_uri": "https://localhost:8080/"
        },
        "id": "_PwDPhLTH46r",
        "outputId": "178b1f39-6c34-49d8-821e-8e20d9c78f13"
      },
      "execution_count": 13,
      "outputs": [
        {
          "output_type": "stream",
          "name": "stdout",
          "text": [
            "+-------+------+------+----------+\n",
            "|   name|gender|salary|new_gender|\n",
            "+-------+------+------+----------+\n",
            "|  James|     M| 60000|      Male|\n",
            "|Michael|     M| 70000|      Male|\n",
            "| Robert|  null|400000|          |\n",
            "|  Maria|     F|500000|    Female|\n",
            "|    Jen|      |  null|          |\n",
            "+-------+------+------+----------+\n",
            "\n"
          ]
        }
      ]
    },
    {
      "cell_type": "code",
      "source": [
        "df2.drop(df.gender).show()"
      ],
      "metadata": {
        "colab": {
          "base_uri": "https://localhost:8080/"
        },
        "id": "21hIDeffIW5F",
        "outputId": "bae1c230-d8df-47e9-c260-b1557651162a"
      },
      "execution_count": 14,
      "outputs": [
        {
          "output_type": "stream",
          "name": "stdout",
          "text": [
            "+-------+------+----------+\n",
            "|   name|salary|new_gender|\n",
            "+-------+------+----------+\n",
            "|  James| 60000|      Male|\n",
            "|Michael| 70000|      Male|\n",
            "| Robert|400000|          |\n",
            "|  Maria|500000|    Female|\n",
            "|    Jen|  null|          |\n",
            "+-------+------+----------+\n",
            "\n"
          ]
        }
      ]
    },
    {
      "cell_type": "code",
      "source": [
        "df2.withColumn(\"chandan\", lit(\"married\")).show()"
      ],
      "metadata": {
        "colab": {
          "base_uri": "https://localhost:8080/"
        },
        "id": "TEs57wlcJev1",
        "outputId": "8eeb1d65-5c73-49c8-aa0d-645990c7ff06"
      },
      "execution_count": 15,
      "outputs": [
        {
          "output_type": "stream",
          "name": "stdout",
          "text": [
            "+-------+------+------+----------+-------+\n",
            "|   name|gender|salary|new_gender|chandan|\n",
            "+-------+------+------+----------+-------+\n",
            "|  James|     M| 60000|      Male|married|\n",
            "|Michael|     M| 70000|      Male|married|\n",
            "| Robert|  null|400000|          |married|\n",
            "|  Maria|     F|500000|    Female|married|\n",
            "|    Jen|      |  null|          |married|\n",
            "+-------+------+------+----------+-------+\n",
            "\n"
          ]
        }
      ]
    },
    {
      "cell_type": "code",
      "source": [
        "df.select(col(\"*\"),when(df.gender == \"M\",\"Male\")\n",
        "                  .when(df.gender == \"F\",\"Female\")\n",
        "                  .when(df.gender.isNull() ,\"\")\n",
        "                  .otherwise(df.gender).alias(\"new_gender\")).show()"
      ],
      "metadata": {
        "colab": {
          "base_uri": "https://localhost:8080/"
        },
        "id": "_8e-nGKQLhz0",
        "outputId": "e3342cd1-dc94-4af3-a510-f739f21c9949"
      },
      "execution_count": 16,
      "outputs": [
        {
          "output_type": "stream",
          "name": "stdout",
          "text": [
            "+-------+------+------+----------+\n",
            "|   name|gender|salary|new_gender|\n",
            "+-------+------+------+----------+\n",
            "|  James|     M| 60000|      Male|\n",
            "|Michael|     M| 70000|      Male|\n",
            "| Robert|  null|400000|          |\n",
            "|  Maria|     F|500000|    Female|\n",
            "|    Jen|      |  null|          |\n",
            "+-------+------+------+----------+\n",
            "\n"
          ]
        }
      ]
    },
    {
      "cell_type": "code",
      "source": [
        ""
      ],
      "metadata": {
        "colab": {
          "base_uri": "https://localhost:8080/"
        },
        "id": "98Wkw8HPLyca",
        "outputId": "05368157-c0ca-453f-afdd-131f1dbc51a2"
      },
      "execution_count": 21,
      "outputs": [
        {
          "output_type": "stream",
          "name": "stdout",
          "text": [
            "+-------+\n",
            "|   name|\n",
            "+-------+\n",
            "|  James|\n",
            "|Michael|\n",
            "| Robert|\n",
            "|  Maria|\n",
            "|    Jen|\n",
            "+-------+\n",
            "\n"
          ]
        }
      ]
    },
    {
      "cell_type": "code",
      "source": [
        "from pyspark.sql import functions as f\n",
        "df3 = df.withColumn(\"new_gender\", f.expr(\"CASE WHEN gender = 'M' THEN 'Male' \" + \n",
        "               \"WHEN gender = 'F' THEN 'Female' WHEN gender IS NULL THEN ''\" +\n",
        "               \"ELSE gender END\"))\n",
        "df3.show(truncate=False)\n"
      ],
      "metadata": {
        "colab": {
          "base_uri": "https://localhost:8080/"
        },
        "id": "hE-nI8MyMD4E",
        "outputId": "70f6d2b2-c339-434c-af43-26d206c7cd6f"
      },
      "execution_count": 23,
      "outputs": [
        {
          "output_type": "stream",
          "name": "stdout",
          "text": [
            "+-------+------+------+----------+\n",
            "|name   |gender|salary|new_gender|\n",
            "+-------+------+------+----------+\n",
            "|James  |M     |60000 |Male      |\n",
            "|Michael|M     |70000 |Male      |\n",
            "|Robert |null  |400000|          |\n",
            "|Maria  |F     |500000|Female    |\n",
            "|Jen    |      |null  |          |\n",
            "+-------+------+------+----------+\n",
            "\n"
          ]
        }
      ]
    },
    {
      "cell_type": "code",
      "source": [
        "df.select(col(\"*\"), f.expr(\"CASE WHEN gender = 'M' THEN 'Male' \" +\n",
        "           \"WHEN gender = 'F' THEN 'Female' WHEN gender IS NULL THEN ''\" +\n",
        "           \"ELSE gender END\").alias(\"new_gender\")).show()"
      ],
      "metadata": {
        "colab": {
          "base_uri": "https://localhost:8080/"
        },
        "id": "v2AClgHqMyOX",
        "outputId": "02b428a9-52a5-4fe5-d088-baa241716180"
      },
      "execution_count": 26,
      "outputs": [
        {
          "output_type": "stream",
          "name": "stdout",
          "text": [
            "+-------+------+------+----------+\n",
            "|   name|gender|salary|new_gender|\n",
            "+-------+------+------+----------+\n",
            "|  James|     M| 60000|      Male|\n",
            "|Michael|     M| 70000|      Male|\n",
            "| Robert|  null|400000|          |\n",
            "|  Maria|     F|500000|    Female|\n",
            "|    Jen|      |  null|          |\n",
            "+-------+------+------+----------+\n",
            "\n"
          ]
        }
      ]
    },
    {
      "cell_type": "code",
      "source": [
        "df2.drop(df.gender).withColumnRenamed(\"new_gender\",\"Gender\").show()"
      ],
      "metadata": {
        "colab": {
          "base_uri": "https://localhost:8080/"
        },
        "id": "4X7zg7ahNMvu",
        "outputId": "480839a3-e21b-4078-fe7e-f39b28191fae"
      },
      "execution_count": 30,
      "outputs": [
        {
          "output_type": "stream",
          "name": "stdout",
          "text": [
            "+-------+------+------+\n",
            "|   name|salary|Gender|\n",
            "+-------+------+------+\n",
            "|  James| 60000|  Male|\n",
            "|Michael| 70000|  Male|\n",
            "| Robert|400000|      |\n",
            "|  Maria|500000|Female|\n",
            "|    Jen|  null|      |\n",
            "+-------+------+------+\n",
            "\n"
          ]
        }
      ]
    },
    {
      "cell_type": "code",
      "source": [
        "df2.createOrReplaceTempView(\"EMP\")"
      ],
      "metadata": {
        "id": "xnXqjZnVOvdz"
      },
      "execution_count": 33,
      "outputs": []
    },
    {
      "cell_type": "code",
      "source": [
        "spark.sql(\"select * from EMP\").show()"
      ],
      "metadata": {
        "colab": {
          "base_uri": "https://localhost:8080/"
        },
        "id": "dlUB4IbAPQvE",
        "outputId": "49d6879c-aeeb-4747-cea4-056acc3ad3bd"
      },
      "execution_count": 34,
      "outputs": [
        {
          "output_type": "stream",
          "name": "stdout",
          "text": [
            "+-------+------+------+----------+\n",
            "|   name|gender|salary|new_gender|\n",
            "+-------+------+------+----------+\n",
            "|  James|     M| 60000|      Male|\n",
            "|Michael|     M| 70000|      Male|\n",
            "| Robert|  null|400000|          |\n",
            "|  Maria|     F|500000|    Female|\n",
            "|    Jen|      |  null|          |\n",
            "+-------+------+------+----------+\n",
            "\n"
          ]
        }
      ]
    },
    {
      "cell_type": "code",
      "source": [
        "data = [(1,\"20200828\"),(2,\"20180525\")]\n",
        "columns=[\"id\",\"date\"]\n",
        "df=spark.createDataFrame(data,columns)\n",
        "df.withColumn('year', f.substring('date', 1,4))\\\n",
        "    .withColumn('month', f.substring('date', 5,2))\\\n",
        "    .withColumn('day', f.substring('date', 7,2)).show()\n",
        "    \n",
        "df.printSchema()\n",
        "df.show(truncate=False)"
      ],
      "metadata": {
        "colab": {
          "base_uri": "https://localhost:8080/"
        },
        "id": "rCpwnWDhPgRx",
        "outputId": "f4ff07b1-5361-46cc-d097-0df31e0d04ff"
      },
      "execution_count": 40,
      "outputs": [
        {
          "output_type": "stream",
          "name": "stdout",
          "text": [
            "+---+--------+----+-----+---+\n",
            "| id|    date|year|month|day|\n",
            "+---+--------+----+-----+---+\n",
            "|  1|20200828|2020|   08| 28|\n",
            "|  2|20180525|2018|   05| 25|\n",
            "+---+--------+----+-----+---+\n",
            "\n",
            "root\n",
            " |-- id: long (nullable = true)\n",
            " |-- date: string (nullable = true)\n",
            "\n",
            "+---+--------+\n",
            "|id |date    |\n",
            "+---+--------+\n",
            "|1  |20200828|\n",
            "|2  |20180525|\n",
            "+---+--------+\n",
            "\n"
          ]
        }
      ]
    },
    {
      "cell_type": "code",
      "source": [
        "df.selectExpr('date', 'substring(date, 1,4) as year', \\\n",
        "                  'substring(date, 5,2) as month', \\\n",
        "                 'substring(date, 7,2) as day').show()"
      ],
      "metadata": {
        "colab": {
          "base_uri": "https://localhost:8080/"
        },
        "id": "ELYcKxygSUNJ",
        "outputId": "54fd31e6-86b8-437f-cfd5-25f132df5028"
      },
      "execution_count": 45,
      "outputs": [
        {
          "output_type": "stream",
          "name": "stdout",
          "text": [
            "+--------+----+-----+---+\n",
            "|    date|year|month|day|\n",
            "+--------+----+-----+---+\n",
            "|20200828|2020|   08| 28|\n",
            "|20180525|2018|   05| 25|\n",
            "+--------+----+-----+---+\n",
            "\n"
          ]
        }
      ]
    },
    {
      "cell_type": "code",
      "source": [
        "df.withColumn('year', col('date').substr(1, 4))\\\n",
        "  .withColumn('month',col('date').substr(5, 2))\\\n",
        "  .withColumn('day', col('date').substr(7, 2)).show()"
      ],
      "metadata": {
        "colab": {
          "base_uri": "https://localhost:8080/"
        },
        "id": "9P0Ta3hQTJBK",
        "outputId": "c9f3cceb-932a-4c62-bfd0-cdde2c0e0261"
      },
      "execution_count": 46,
      "outputs": [
        {
          "output_type": "stream",
          "name": "stdout",
          "text": [
            "+---+--------+----+-----+---+\n",
            "| id|    date|year|month|day|\n",
            "+---+--------+----+-----+---+\n",
            "|  1|20200828|2020|   08| 28|\n",
            "|  2|20180525|2018|   05| 25|\n",
            "+---+--------+----+-----+---+\n",
            "\n"
          ]
        }
      ]
    },
    {
      "cell_type": "code",
      "source": [
        "df.selectExpr('substr(\"date\",1,4) as year').show()"
      ],
      "metadata": {
        "colab": {
          "base_uri": "https://localhost:8080/"
        },
        "id": "uuijT3MQTScF",
        "outputId": "8a38132b-41aa-4453-b398-c98ca4bf575e"
      },
      "execution_count": 59,
      "outputs": [
        {
          "output_type": "stream",
          "name": "stdout",
          "text": [
            "+----+\n",
            "|year|\n",
            "+----+\n",
            "|date|\n",
            "|date|\n",
            "+----+\n",
            "\n"
          ]
        }
      ]
    },
    {
      "cell_type": "code",
      "source": [
        "\n",
        "df2.show()"
      ],
      "metadata": {
        "colab": {
          "base_uri": "https://localhost:8080/"
        },
        "id": "P8bFXPW9VBfO",
        "outputId": "633df2ca-63c8-4605-b4ee-f566f34e2767"
      },
      "execution_count": 63,
      "outputs": [
        {
          "output_type": "stream",
          "name": "stdout",
          "text": [
            "+-------+------+------+----------+\n",
            "|   name|gender|salary|new_gender|\n",
            "+-------+------+------+----------+\n",
            "|  James|     M| 60000|      Male|\n",
            "|Michael|     M| 70000|      Male|\n",
            "| Robert|  null|400000|          |\n",
            "|  Maria|     F|500000|    Female|\n",
            "|    Jen|      |  null|          |\n",
            "+-------+------+------+----------+\n",
            "\n"
          ]
        }
      ]
    },
    {
      "cell_type": "code",
      "source": [
        "\n",
        "address = [(1,\"14851 Jeffrey Rd\",\"DE\"),\n",
        "    (2,\"43421 Margarita St\",\"NY\"),\n",
        "    (3,\"13111 Siemon Ave\",\"CA\")]\n",
        "df =spark.createDataFrame(address,[\"id\",\"address\",\"state\"])\n",
        "df.show()"
      ],
      "metadata": {
        "colab": {
          "base_uri": "https://localhost:8080/"
        },
        "id": "GllxtWOvZRd9",
        "outputId": "b0aa4821-313e-4155-9669-fda8730f3b61"
      },
      "execution_count": 72,
      "outputs": [
        {
          "output_type": "stream",
          "name": "stdout",
          "text": [
            "+---+------------------+-----+\n",
            "| id|           address|state|\n",
            "+---+------------------+-----+\n",
            "|  1|  14851 Jeffrey Rd|   DE|\n",
            "|  2|43421 Margarita St|   NY|\n",
            "|  3|  13111 Siemon Ave|   CA|\n",
            "+---+------------------+-----+\n",
            "\n"
          ]
        }
      ]
    },
    {
      "cell_type": "code",
      "source": [
        "df.withColumn('address', f.regexp_replace('address', 'Rd', 'Road'))\\\n",
        "  .withColumn('address',f.regexp_replace('address', 'St', 'Street'))\\\n",
        "  .withColumn('address',f.regexp_replace('address','Ave','Avenue'))\\\n",
        "  .show(truncate=False)"
      ],
      "metadata": {
        "colab": {
          "base_uri": "https://localhost:8080/"
        },
        "id": "2eIF1ylgbUVP",
        "outputId": "1956a273-3ba2-4542-94d6-261446b1bcb4"
      },
      "execution_count": 85,
      "outputs": [
        {
          "output_type": "stream",
          "name": "stdout",
          "text": [
            "+---+----------------------+-----+\n",
            "|id |address               |state|\n",
            "+---+----------------------+-----+\n",
            "|1  |14851 Jeffrey Road    |DE   |\n",
            "|2  |43421 Margarita Street|NY   |\n",
            "|3  |13111 Siemon Avenue   |CA   |\n",
            "+---+----------------------+-----+\n",
            "\n"
          ]
        }
      ]
    },
    {
      "cell_type": "code",
      "source": [
        "df.withColumn('address', \n",
        "    when(df.address.endswith('Rd'),f.regexp_replace(df.address,'Rd','Road')) \\\n",
        "   .when(df.address.endswith('St'),f.regexp_replace(df.address,'St','Street')) \\\n",
        "   .when(df.address.endswith('Ave'),f.regexp_replace(df.address,'Ave','Avenue')) \\\n",
        "   .otherwise(df.address)) \\\n",
        "   .show(truncate=False)"
      ],
      "metadata": {
        "colab": {
          "base_uri": "https://localhost:8080/"
        },
        "id": "Wf_9l_IibsTG",
        "outputId": "6af0f3d1-dcf0-448d-851b-cbf81b03ffe0"
      },
      "execution_count": 86,
      "outputs": [
        {
          "output_type": "stream",
          "name": "stdout",
          "text": [
            "+---+----------------------+-----+\n",
            "|id |address               |state|\n",
            "+---+----------------------+-----+\n",
            "|1  |14851 Jeffrey Road    |DE   |\n",
            "|2  |43421 Margarita Street|NY   |\n",
            "|3  |13111 Siemon Avenue   |CA   |\n",
            "+---+----------------------+-----+\n",
            "\n"
          ]
        }
      ]
    },
    {
      "cell_type": "code",
      "source": [
        ""
      ],
      "metadata": {
        "id": "EMsHh5PQegAF"
      },
      "execution_count": null,
      "outputs": []
    }
  ]
}