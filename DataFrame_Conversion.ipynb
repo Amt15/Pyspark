{
  "nbformat": 4,
  "nbformat_minor": 0,
  "metadata": {
    "colab": {
      "provenance": [],
      "authorship_tag": "ABX9TyNy+aLXskxWbbSYiGDd1usZ",
      "include_colab_link": true
    },
    "kernelspec": {
      "name": "python3",
      "display_name": "Python 3"
    },
    "language_info": {
      "name": "python"
    }
  },
  "cells": [
    {
      "cell_type": "markdown",
      "metadata": {
        "id": "view-in-github",
        "colab_type": "text"
      },
      "source": [
        "<a href=\"https://colab.research.google.com/github/Amt15/Pyspark/blob/main/DataFrame_Conversion.ipynb\" target=\"_parent\"><img src=\"https://colab.research.google.com/assets/colab-badge.svg\" alt=\"Open In Colab\"/></a>"
      ]
    },
    {
      "cell_type": "code",
      "execution_count": 2,
      "metadata": {
        "colab": {
          "base_uri": "https://localhost:8080/"
        },
        "id": "AaPmosulTxud",
        "outputId": "ffbe9adf-b2d8-4f0b-b064-e0d786ea615f"
      },
      "outputs": [
        {
          "output_type": "stream",
          "name": "stdout",
          "text": [
            "\u001b[K     |████████████████████████████████| 281.3 MB 47 kB/s \n",
            "\u001b[K     |████████████████████████████████| 199 kB 54.0 MB/s \n",
            "\u001b[?25h  Building wheel for pyspark (setup.py) ... \u001b[?25l\u001b[?25hdone\n"
          ]
        }
      ],
      "source": [
        "!pip install pyspark -q\n",
        "!pip install findspark -q"
      ]
    },
    {
      "cell_type": "markdown",
      "source": [
        "## Converting spark dataframe into pandas and vice versa"
      ],
      "metadata": {
        "id": "LJGEcw5MUQKx"
      }
    },
    {
      "cell_type": "code",
      "source": [
        "from pyspark.sql import SparkSession\n",
        "\n",
        "spark = SparkSession.Builder()\\\n",
        "  .appName(\"conversion of dataframe\")\\\n",
        "  .master(\"local[*]\")\\\n",
        "  .enableHiveSupport()\\\n",
        "  .getOrCreate()"
      ],
      "metadata": {
        "id": "V0Hh206XUOti"
      },
      "execution_count": 3,
      "outputs": []
    },
    {
      "cell_type": "code",
      "source": [
        "data = [(\"1\",\"ankit\",\"Delhi-Delhi East\"),\\\n",
        "        (\"2\",\"aryan\",\"Bihar-Patna\"),\\\n",
        "        (\"3\",\"mohit\",\"Hyderabad-AmirPeth\"),\\\n",
        "        (\"4\",\"alagumuthu\",\"Maharashtra-Pune\")]\n",
        "\n",
        "sparkdf = spark.createDataFrame(data=data,schema=['id','name','location'])\n",
        "sparkdf.show()"
      ],
      "metadata": {
        "colab": {
          "base_uri": "https://localhost:8080/"
        },
        "id": "QuiPbXE1T49h",
        "outputId": "c2f2ca63-8616-4348-a494-8c8c59dbb261"
      },
      "execution_count": 4,
      "outputs": [
        {
          "output_type": "stream",
          "name": "stdout",
          "text": [
            "+---+----------+------------------+\n",
            "| id|      name|          location|\n",
            "+---+----------+------------------+\n",
            "|  1|     ankit|  Delhi-Delhi East|\n",
            "|  2|     aryan|       Bihar-Patna|\n",
            "|  3|     mohit|Hyderabad-AmirPeth|\n",
            "|  4|alagumuthu|  Maharashtra-Pune|\n",
            "+---+----------+------------------+\n",
            "\n"
          ]
        }
      ]
    },
    {
      "cell_type": "code",
      "source": [
        "sparkdf.printSchema()"
      ],
      "metadata": {
        "colab": {
          "base_uri": "https://localhost:8080/"
        },
        "id": "6OuyNcU8YivQ",
        "outputId": "e379644d-c3de-4fd7-fe19-50b4045dd0ea"
      },
      "execution_count": 5,
      "outputs": [
        {
          "output_type": "stream",
          "name": "stdout",
          "text": [
            "root\n",
            " |-- id: string (nullable = true)\n",
            " |-- name: string (nullable = true)\n",
            " |-- location: string (nullable = true)\n",
            "\n"
          ]
        }
      ]
    },
    {
      "cell_type": "code",
      "source": [
        "import pandas\n",
        "\n",
        "pandadf = sparkdf.toPandas()\n",
        "print(type(pandadf))"
      ],
      "metadata": {
        "colab": {
          "base_uri": "https://localhost:8080/"
        },
        "id": "1eP1yBZAYrJn",
        "outputId": "cfecf8d8-b266-4bfe-b9b8-583bc24e6dd8"
      },
      "execution_count": 6,
      "outputs": [
        {
          "output_type": "stream",
          "name": "stdout",
          "text": [
            "<class 'pandas.core.frame.DataFrame'>\n"
          ]
        }
      ]
    },
    {
      "cell_type": "code",
      "source": [
        "pandadf.dtypes"
      ],
      "metadata": {
        "colab": {
          "base_uri": "https://localhost:8080/"
        },
        "id": "UrwcIyZyY5Yi",
        "outputId": "8beb81b9-2faa-40d3-d2bd-7f6e61267dee"
      },
      "execution_count": 7,
      "outputs": [
        {
          "output_type": "execute_result",
          "data": {
            "text/plain": [
              "id          object\n",
              "name        object\n",
              "location    object\n",
              "dtype: object"
            ]
          },
          "metadata": {},
          "execution_count": 7
        }
      ]
    },
    {
      "cell_type": "code",
      "source": [
        "pandadf['state'] = pandadf['location'].apply(lambda x: x.split(\"-\")[0])\n",
        "pandadf['city'] = pandadf['location'].apply(lambda x: x.split(\"-\")[1])\n",
        "pandadf"
      ],
      "metadata": {
        "colab": {
          "base_uri": "https://localhost:8080/",
          "height": 175
        },
        "id": "gB2kCY00fj04",
        "outputId": "faab393b-d41c-4b8f-de9f-a24c8583f5c2"
      },
      "execution_count": 8,
      "outputs": [
        {
          "output_type": "execute_result",
          "data": {
            "text/plain": [
              "  id        name            location        state        city\n",
              "0  1       ankit    Delhi-Delhi East        Delhi  Delhi East\n",
              "1  2       aryan         Bihar-Patna        Bihar       Patna\n",
              "2  3       mohit  Hyderabad-AmirPeth    Hyderabad    AmirPeth\n",
              "3  4  alagumuthu    Maharashtra-Pune  Maharashtra        Pune"
            ],
            "text/html": [
              "\n",
              "  <div id=\"df-a3fe3dc6-2e78-4681-ac88-ba1f7b63aebf\">\n",
              "    <div class=\"colab-df-container\">\n",
              "      <div>\n",
              "<style scoped>\n",
              "    .dataframe tbody tr th:only-of-type {\n",
              "        vertical-align: middle;\n",
              "    }\n",
              "\n",
              "    .dataframe tbody tr th {\n",
              "        vertical-align: top;\n",
              "    }\n",
              "\n",
              "    .dataframe thead th {\n",
              "        text-align: right;\n",
              "    }\n",
              "</style>\n",
              "<table border=\"1\" class=\"dataframe\">\n",
              "  <thead>\n",
              "    <tr style=\"text-align: right;\">\n",
              "      <th></th>\n",
              "      <th>id</th>\n",
              "      <th>name</th>\n",
              "      <th>location</th>\n",
              "      <th>state</th>\n",
              "      <th>city</th>\n",
              "    </tr>\n",
              "  </thead>\n",
              "  <tbody>\n",
              "    <tr>\n",
              "      <th>0</th>\n",
              "      <td>1</td>\n",
              "      <td>ankit</td>\n",
              "      <td>Delhi-Delhi East</td>\n",
              "      <td>Delhi</td>\n",
              "      <td>Delhi East</td>\n",
              "    </tr>\n",
              "    <tr>\n",
              "      <th>1</th>\n",
              "      <td>2</td>\n",
              "      <td>aryan</td>\n",
              "      <td>Bihar-Patna</td>\n",
              "      <td>Bihar</td>\n",
              "      <td>Patna</td>\n",
              "    </tr>\n",
              "    <tr>\n",
              "      <th>2</th>\n",
              "      <td>3</td>\n",
              "      <td>mohit</td>\n",
              "      <td>Hyderabad-AmirPeth</td>\n",
              "      <td>Hyderabad</td>\n",
              "      <td>AmirPeth</td>\n",
              "    </tr>\n",
              "    <tr>\n",
              "      <th>3</th>\n",
              "      <td>4</td>\n",
              "      <td>alagumuthu</td>\n",
              "      <td>Maharashtra-Pune</td>\n",
              "      <td>Maharashtra</td>\n",
              "      <td>Pune</td>\n",
              "    </tr>\n",
              "  </tbody>\n",
              "</table>\n",
              "</div>\n",
              "      <button class=\"colab-df-convert\" onclick=\"convertToInteractive('df-a3fe3dc6-2e78-4681-ac88-ba1f7b63aebf')\"\n",
              "              title=\"Convert this dataframe to an interactive table.\"\n",
              "              style=\"display:none;\">\n",
              "        \n",
              "  <svg xmlns=\"http://www.w3.org/2000/svg\" height=\"24px\"viewBox=\"0 0 24 24\"\n",
              "       width=\"24px\">\n",
              "    <path d=\"M0 0h24v24H0V0z\" fill=\"none\"/>\n",
              "    <path d=\"M18.56 5.44l.94 2.06.94-2.06 2.06-.94-2.06-.94-.94-2.06-.94 2.06-2.06.94zm-11 1L8.5 8.5l.94-2.06 2.06-.94-2.06-.94L8.5 2.5l-.94 2.06-2.06.94zm10 10l.94 2.06.94-2.06 2.06-.94-2.06-.94-.94-2.06-.94 2.06-2.06.94z\"/><path d=\"M17.41 7.96l-1.37-1.37c-.4-.4-.92-.59-1.43-.59-.52 0-1.04.2-1.43.59L10.3 9.45l-7.72 7.72c-.78.78-.78 2.05 0 2.83L4 21.41c.39.39.9.59 1.41.59.51 0 1.02-.2 1.41-.59l7.78-7.78 2.81-2.81c.8-.78.8-2.07 0-2.86zM5.41 20L4 18.59l7.72-7.72 1.47 1.35L5.41 20z\"/>\n",
              "  </svg>\n",
              "      </button>\n",
              "      \n",
              "  <style>\n",
              "    .colab-df-container {\n",
              "      display:flex;\n",
              "      flex-wrap:wrap;\n",
              "      gap: 12px;\n",
              "    }\n",
              "\n",
              "    .colab-df-convert {\n",
              "      background-color: #E8F0FE;\n",
              "      border: none;\n",
              "      border-radius: 50%;\n",
              "      cursor: pointer;\n",
              "      display: none;\n",
              "      fill: #1967D2;\n",
              "      height: 32px;\n",
              "      padding: 0 0 0 0;\n",
              "      width: 32px;\n",
              "    }\n",
              "\n",
              "    .colab-df-convert:hover {\n",
              "      background-color: #E2EBFA;\n",
              "      box-shadow: 0px 1px 2px rgba(60, 64, 67, 0.3), 0px 1px 3px 1px rgba(60, 64, 67, 0.15);\n",
              "      fill: #174EA6;\n",
              "    }\n",
              "\n",
              "    [theme=dark] .colab-df-convert {\n",
              "      background-color: #3B4455;\n",
              "      fill: #D2E3FC;\n",
              "    }\n",
              "\n",
              "    [theme=dark] .colab-df-convert:hover {\n",
              "      background-color: #434B5C;\n",
              "      box-shadow: 0px 1px 3px 1px rgba(0, 0, 0, 0.15);\n",
              "      filter: drop-shadow(0px 1px 2px rgba(0, 0, 0, 0.3));\n",
              "      fill: #FFFFFF;\n",
              "    }\n",
              "  </style>\n",
              "\n",
              "      <script>\n",
              "        const buttonEl =\n",
              "          document.querySelector('#df-a3fe3dc6-2e78-4681-ac88-ba1f7b63aebf button.colab-df-convert');\n",
              "        buttonEl.style.display =\n",
              "          google.colab.kernel.accessAllowed ? 'block' : 'none';\n",
              "\n",
              "        async function convertToInteractive(key) {\n",
              "          const element = document.querySelector('#df-a3fe3dc6-2e78-4681-ac88-ba1f7b63aebf');\n",
              "          const dataTable =\n",
              "            await google.colab.kernel.invokeFunction('convertToInteractive',\n",
              "                                                     [key], {});\n",
              "          if (!dataTable) return;\n",
              "\n",
              "          const docLinkHtml = 'Like what you see? Visit the ' +\n",
              "            '<a target=\"_blank\" href=https://colab.research.google.com/notebooks/data_table.ipynb>data table notebook</a>'\n",
              "            + ' to learn more about interactive tables.';\n",
              "          element.innerHTML = '';\n",
              "          dataTable['output_type'] = 'display_data';\n",
              "          await google.colab.output.renderOutput(dataTable, element);\n",
              "          const docLink = document.createElement('div');\n",
              "          docLink.innerHTML = docLinkHtml;\n",
              "          element.appendChild(docLink);\n",
              "        }\n",
              "      </script>\n",
              "    </div>\n",
              "  </div>\n",
              "  "
            ]
          },
          "metadata": {},
          "execution_count": 8
        }
      ]
    },
    {
      "cell_type": "markdown",
      "source": [
        "## converting back into spark dataframe"
      ],
      "metadata": {
        "id": "nQpJnaKQaMJA"
      }
    },
    {
      "cell_type": "code",
      "source": [
        "sparkDF=spark.createDataFrame(pandadf)\n",
        "sparkDF.printSchema()"
      ],
      "metadata": {
        "colab": {
          "base_uri": "https://localhost:8080/"
        },
        "id": "JFl5PktEaGEP",
        "outputId": "cb49ccfe-fa25-4371-cd0c-08430a801e81"
      },
      "execution_count": 9,
      "outputs": [
        {
          "output_type": "stream",
          "name": "stdout",
          "text": [
            "root\n",
            " |-- id: string (nullable = true)\n",
            " |-- name: string (nullable = true)\n",
            " |-- location: string (nullable = true)\n",
            " |-- state: string (nullable = true)\n",
            " |-- city: string (nullable = true)\n",
            "\n"
          ]
        }
      ]
    },
    {
      "cell_type": "code",
      "source": [
        "from pyspark.sql.functions import col,split\n",
        "sparkDF.withColumn(\"state\",split(col(\"location\"),\"-\")[0])\\\n",
        "       .withColumn(\"city\",split(col(\"location\"),\"-\")[1]).show()\n"
      ],
      "metadata": {
        "colab": {
          "base_uri": "https://localhost:8080/"
        },
        "id": "YmPmDyGwaezW",
        "outputId": "f156dd08-b884-4041-bd0b-82627b4d2961"
      },
      "execution_count": 10,
      "outputs": [
        {
          "output_type": "stream",
          "name": "stdout",
          "text": [
            "+---+----------+------------------+-----------+----------+\n",
            "| id|      name|          location|      state|      city|\n",
            "+---+----------+------------------+-----------+----------+\n",
            "|  1|     ankit|  Delhi-Delhi East|      Delhi|Delhi East|\n",
            "|  2|     aryan|       Bihar-Patna|      Bihar|     Patna|\n",
            "|  3|     mohit|Hyderabad-AmirPeth|  Hyderabad|  AmirPeth|\n",
            "|  4|alagumuthu|  Maharashtra-Pune|Maharashtra|      Pune|\n",
            "+---+----------+------------------+-----------+----------+\n",
            "\n"
          ]
        }
      ]
    },
    {
      "cell_type": "code",
      "source": [
        "from pyspark.sql.functions import initcap\n",
        "\n",
        "sparkDF.withColumn(\"name\",initcap(col(\"name\"))).show()"
      ],
      "metadata": {
        "colab": {
          "base_uri": "https://localhost:8080/"
        },
        "id": "GBDc_6SffXae",
        "outputId": "1e96265e-8358-4400-b058-731301c87548"
      },
      "execution_count": 12,
      "outputs": [
        {
          "output_type": "stream",
          "name": "stdout",
          "text": [
            "+---+----------+------------------+-----------+----------+\n",
            "| id|      name|          location|      state|      city|\n",
            "+---+----------+------------------+-----------+----------+\n",
            "|  1|     Ankit|  Delhi-Delhi East|      Delhi|Delhi East|\n",
            "|  2|     Aryan|       Bihar-Patna|      Bihar|     Patna|\n",
            "|  3|     Mohit|Hyderabad-AmirPeth|  Hyderabad|  AmirPeth|\n",
            "|  4|Alagumuthu|  Maharashtra-Pune|Maharashtra|      Pune|\n",
            "+---+----------+------------------+-----------+----------+\n",
            "\n"
          ]
        }
      ]
    },
    {
      "cell_type": "code",
      "source": [
        "from pyspark.sql.functions import concat,expr,substring,lower,upper\n",
        "sparkDF.withColumn(\"nameNew\",concat(upper(expr(\"substring(name,1,1)\")),lower(expr(\"substring(name,2)\")))).show()"
      ],
      "metadata": {
        "colab": {
          "base_uri": "https://localhost:8080/"
        },
        "id": "sQLfWTZ6GycE",
        "outputId": "bdab9d75-8767-43a9-8996-6a99044e2141"
      },
      "execution_count": 15,
      "outputs": [
        {
          "output_type": "stream",
          "name": "stdout",
          "text": [
            "+---+----------+------------------+-----------+----------+----------+\n",
            "| id|      name|          location|      state|      city|   nameNew|\n",
            "+---+----------+------------------+-----------+----------+----------+\n",
            "|  1|     ankit|  Delhi-Delhi East|      Delhi|Delhi East|     Ankit|\n",
            "|  2|     aryan|       Bihar-Patna|      Bihar|     Patna|     Aryan|\n",
            "|  3|     mohit|Hyderabad-AmirPeth|  Hyderabad|  AmirPeth|     Mohit|\n",
            "|  4|alagumuthu|  Maharashtra-Pune|Maharashtra|      Pune|Alagumuthu|\n",
            "+---+----------+------------------+-----------+----------+----------+\n",
            "\n"
          ]
        }
      ]
    },
    {
      "cell_type": "code",
      "source": [
        "from pyspark.sql.types import  StringType\n",
        "from pyspark.sql.functions import udf\n",
        "\n",
        "udf_capitalize = udf(lambda x: str(x).capitalize(),StringType())\n",
        "\n",
        "sparkDF.withColumn(\"NewName\",udf_capitalize('name')).show()\n"
      ],
      "metadata": {
        "colab": {
          "base_uri": "https://localhost:8080/"
        },
        "id": "kfEHVVJpJCUW",
        "outputId": "74dd68e7-685f-4fc9-d00d-b14aa41d557c"
      },
      "execution_count": 18,
      "outputs": [
        {
          "output_type": "stream",
          "name": "stdout",
          "text": [
            "+---+----------+------------------+-----------+----------+----------+\n",
            "| id|      name|          location|      state|      city|   NewName|\n",
            "+---+----------+------------------+-----------+----------+----------+\n",
            "|  1|     ankit|  Delhi-Delhi East|      Delhi|Delhi East|     Ankit|\n",
            "|  2|     aryan|       Bihar-Patna|      Bihar|     Patna|     Aryan|\n",
            "|  3|     mohit|Hyderabad-AmirPeth|  Hyderabad|  AmirPeth|     Mohit|\n",
            "|  4|alagumuthu|  Maharashtra-Pune|Maharashtra|      Pune|Alagumuthu|\n",
            "+---+----------+------------------+-----------+----------+----------+\n",
            "\n"
          ]
        }
      ]
    },
    {
      "cell_type": "code",
      "source": [
        "udf_capitalize = udf(lambda x: x.capitalize())\n",
        "\n",
        "sparkDF.withColumn(\"NewName\",udf_capitalize('name')).show()\n"
      ],
      "metadata": {
        "colab": {
          "base_uri": "https://localhost:8080/"
        },
        "id": "9zXXjGJcKuX0",
        "outputId": "4b6f7c0e-6406-448a-ece6-65414139ad76"
      },
      "execution_count": 20,
      "outputs": [
        {
          "output_type": "stream",
          "name": "stdout",
          "text": [
            "+---+----------+------------------+-----------+----------+----------+\n",
            "| id|      name|          location|      state|      city|   NewName|\n",
            "+---+----------+------------------+-----------+----------+----------+\n",
            "|  1|     ankit|  Delhi-Delhi East|      Delhi|Delhi East|     Ankit|\n",
            "|  2|     aryan|       Bihar-Patna|      Bihar|     Patna|     Aryan|\n",
            "|  3|     mohit|Hyderabad-AmirPeth|  Hyderabad|  AmirPeth|     Mohit|\n",
            "|  4|alagumuthu|  Maharashtra-Pune|Maharashtra|      Pune|Alagumuthu|\n",
            "+---+----------+------------------+-----------+----------+----------+\n",
            "\n"
          ]
        }
      ]
    },
    {
      "cell_type": "code",
      "source": [
        "s = \"it is not easy to capitalize each word first alphabet of word is cap\"\n",
        "s.title()"
      ],
      "metadata": {
        "colab": {
          "base_uri": "https://localhost:8080/",
          "height": 35
        },
        "id": "VZmBAqq0K2iz",
        "outputId": "2b1fd740-744e-41ae-a6dd-99a4fd8b1dfd"
      },
      "execution_count": 30,
      "outputs": [
        {
          "output_type": "execute_result",
          "data": {
            "text/plain": [
              "'It Is Not Easy To Capitalize Each Word First Alphabet Of Word Is Cap'"
            ],
            "application/vnd.google.colaboratory.intrinsic+json": {
              "type": "string"
            }
          },
          "metadata": {},
          "execution_count": 30
        }
      ]
    },
    {
      "cell_type": "code",
      "source": [
        "import string\n",
        "string.capwords(\"sachine\")"
      ],
      "metadata": {
        "colab": {
          "base_uri": "https://localhost:8080/",
          "height": 35
        },
        "id": "X2ECuebcLLp7",
        "outputId": "a1e21256-53c3-42de-c963-dc2f5f45084f"
      },
      "execution_count": 34,
      "outputs": [
        {
          "output_type": "execute_result",
          "data": {
            "text/plain": [
              "'Sachine'"
            ],
            "application/vnd.google.colaboratory.intrinsic+json": {
              "type": "string"
            }
          },
          "metadata": {},
          "execution_count": 34
        }
      ]
    },
    {
      "cell_type": "code",
      "source": [
        "l = \"hi hello how are you !!!\"\n",
        "lst = l.split()\n",
        "[w[::-1] for w in lst]"
      ],
      "metadata": {
        "colab": {
          "base_uri": "https://localhost:8080/"
        },
        "id": "kuAzRs4ALp2v",
        "outputId": "27dcd5c1-1eb7-400e-eb7c-51bb01630bd8"
      },
      "execution_count": 55,
      "outputs": [
        {
          "output_type": "execute_result",
          "data": {
            "text/plain": [
              "['ih', 'olleh', 'woh', 'era', 'uoy', '!!!']"
            ]
          },
          "metadata": {},
          "execution_count": 55
        }
      ]
    },
    {
      "cell_type": "code",
      "source": [
        "l = [(\"X\", )]\n",
        "df = spark.createDataFrame(l).toDF(\"dummy\")\n",
        "df.show()"
      ],
      "metadata": {
        "colab": {
          "base_uri": "https://localhost:8080/"
        },
        "id": "5H5K_0nHP-E6",
        "outputId": "3bd1121d-9189-4cab-d613-84f841aec9f9"
      },
      "execution_count": 56,
      "outputs": [
        {
          "output_type": "stream",
          "name": "stdout",
          "text": [
            "+-----+\n",
            "|dummy|\n",
            "+-----+\n",
            "|    X|\n",
            "+-----+\n",
            "\n"
          ]
        }
      ]
    },
    {
      "cell_type": "code",
      "source": [
        "from pyspark.sql.functions import current_date, current_timestamp\n",
        "df.withColumn(\"current_date\",current_date()).show()"
      ],
      "metadata": {
        "colab": {
          "base_uri": "https://localhost:8080/"
        },
        "id": "hgW0EBOgQpPt",
        "outputId": "4a8110c4-df21-4087-b266-1244014c44b2"
      },
      "execution_count": 57,
      "outputs": [
        {
          "output_type": "stream",
          "name": "stdout",
          "text": [
            "+-----+------------+\n",
            "|dummy|current_date|\n",
            "+-----+------------+\n",
            "|    X|  2022-10-03|\n",
            "+-----+------------+\n",
            "\n"
          ]
        }
      ]
    },
    {
      "cell_type": "code",
      "source": [
        "df.select(current_date().alias(\"current_date\")).show()"
      ],
      "metadata": {
        "colab": {
          "base_uri": "https://localhost:8080/"
        },
        "id": "183ls47SQ4rx",
        "outputId": "c53837db-d49e-4a23-9aaa-8c7dca1063d5"
      },
      "execution_count": 58,
      "outputs": [
        {
          "output_type": "stream",
          "name": "stdout",
          "text": [
            "+------------+\n",
            "|current_date|\n",
            "+------------+\n",
            "|  2022-10-03|\n",
            "+------------+\n",
            "\n"
          ]
        }
      ]
    },
    {
      "cell_type": "code",
      "source": [
        "df.select(current_timestamp().alias(\"current_date_time\")).show(truncate=False)"
      ],
      "metadata": {
        "colab": {
          "base_uri": "https://localhost:8080/"
        },
        "id": "we_W5BfweCmP",
        "outputId": "04622f0b-3d7a-4554-ba2f-8070d7ef7087"
      },
      "execution_count": 60,
      "outputs": [
        {
          "output_type": "stream",
          "name": "stdout",
          "text": [
            "+--------------------------+\n",
            "|current_date_time         |\n",
            "+--------------------------+\n",
            "|2022-10-03 10:46:17.156636|\n",
            "+--------------------------+\n",
            "\n"
          ]
        }
      ]
    },
    {
      "cell_type": "markdown",
      "source": [
        "### We can convert a string which contain date or timestamp in non-standard format to standard date or time using to_date or to_timestamp function respectively."
      ],
      "metadata": {
        "id": "dqTzttsgehVR"
      }
    },
    {
      "cell_type": "code",
      "source": [
        "from pyspark.sql.functions import lit, to_date, to_timestamp\n",
        "df.select(to_date(lit('20210228'), 'yyyyMMdd').alias('to_date')).show()"
      ],
      "metadata": {
        "colab": {
          "base_uri": "https://localhost:8080/"
        },
        "id": "f7Cq7-4feRKG",
        "outputId": "005fbbad-1b76-42bf-eabf-f654883d803f"
      },
      "execution_count": 61,
      "outputs": [
        {
          "output_type": "stream",
          "name": "stdout",
          "text": [
            "+----------+\n",
            "|   to_date|\n",
            "+----------+\n",
            "|2021-02-28|\n",
            "+----------+\n",
            "\n"
          ]
        }
      ]
    },
    {
      "cell_type": "code",
      "source": [
        "df.select(to_timestamp(lit('20210228 1725'), 'yyyyMMdd HHmm').alias('to_timestamp')).show()"
      ],
      "metadata": {
        "colab": {
          "base_uri": "https://localhost:8080/"
        },
        "id": "sIpqIHRQeqcG",
        "outputId": "718a9a96-b933-4a86-9eb8-53044024be73"
      },
      "execution_count": 62,
      "outputs": [
        {
          "output_type": "stream",
          "name": "stdout",
          "text": [
            "+-------------------+\n",
            "|       to_timestamp|\n",
            "+-------------------+\n",
            "|2021-02-28 17:25:00|\n",
            "+-------------------+\n",
            "\n"
          ]
        }
      ]
    },
    {
      "cell_type": "code",
      "source": [
        "datetimes = [(\"2014-02-28\", \"2014-02-28 10:00:00.123\"),\n",
        "                     (\"2016-02-29\", \"2016-02-29 08:08:08.999\"),\n",
        "                     (\"2017-10-31\", \"2017-12-31 11:59:59.123\"),\n",
        "                     (\"2019-11-30\", \"2019-08-31 00:00:00.000\")\n",
        "                ]"
      ],
      "metadata": {
        "id": "KuRZTboXezdd"
      },
      "execution_count": 63,
      "outputs": []
    },
    {
      "cell_type": "code",
      "source": [
        "datetimesDF = spark.createDataFrame(datetimes, schema=\"date STRING, time STRING\")\n",
        "datetimesDF.show(truncate=False)"
      ],
      "metadata": {
        "colab": {
          "base_uri": "https://localhost:8080/"
        },
        "id": "c3zbHmyvfmpH",
        "outputId": "c2ff5911-f8c1-4578-959d-7ecf7bd9a2da"
      },
      "execution_count": 66,
      "outputs": [
        {
          "output_type": "stream",
          "name": "stdout",
          "text": [
            "+----------+-----------------------+\n",
            "|date      |time                   |\n",
            "+----------+-----------------------+\n",
            "|2014-02-28|2014-02-28 10:00:00.123|\n",
            "|2016-02-29|2016-02-29 08:08:08.999|\n",
            "|2017-10-31|2017-12-31 11:59:59.123|\n",
            "|2019-11-30|2019-08-31 00:00:00.000|\n",
            "+----------+-----------------------+\n",
            "\n"
          ]
        }
      ]
    },
    {
      "cell_type": "code",
      "source": [
        "from pyspark.sql.functions import date_add, date_sub\n",
        "\n",
        "datetimesDF. \\\n",
        "    withColumn(\"date_add_date\", date_add(\"date\", 10)). \\\n",
        "    withColumn(\"date_add_time\", date_add(\"time\", 10)). \\\n",
        "    withColumn(\"date_sub_date\", date_sub(\"date\", 10)). \\\n",
        "    withColumn(\"date_sub_time\", date_sub(\"time\", 10)). \\\n",
        "    show(truncate=False)"
      ],
      "metadata": {
        "colab": {
          "base_uri": "https://localhost:8080/"
        },
        "id": "nNVamQgDftmm",
        "outputId": "240e59bc-878b-4887-a2dc-3d3813b94558"
      },
      "execution_count": 68,
      "outputs": [
        {
          "output_type": "stream",
          "name": "stdout",
          "text": [
            "+----------+-----------------------+-------------+-------------+-------------+-------------+\n",
            "|date      |time                   |date_add_date|date_add_time|date_sub_date|date_sub_time|\n",
            "+----------+-----------------------+-------------+-------------+-------------+-------------+\n",
            "|2014-02-28|2014-02-28 10:00:00.123|2014-03-10   |2014-03-10   |2014-02-18   |2014-02-18   |\n",
            "|2016-02-29|2016-02-29 08:08:08.999|2016-03-10   |2016-03-10   |2016-02-19   |2016-02-19   |\n",
            "|2017-10-31|2017-12-31 11:59:59.123|2017-11-10   |2018-01-10   |2017-10-21   |2017-12-21   |\n",
            "|2019-11-30|2019-08-31 00:00:00.000|2019-12-10   |2019-09-10   |2019-11-20   |2019-08-21   |\n",
            "+----------+-----------------------+-------------+-------------+-------------+-------------+\n",
            "\n"
          ]
        }
      ]
    },
    {
      "cell_type": "code",
      "source": [
        "from pyspark.sql.functions import spark_partition_id,input_file_name\n",
        "\n",
        "# To find out number of elements in each partition\n",
        " \n",
        "datetimesDF.withColumn(\"pid\",spark_partition_id()).groupBy(\"pid\").count().show()"
      ],
      "metadata": {
        "colab": {
          "base_uri": "https://localhost:8080/"
        },
        "id": "kS52C_pHgFgd",
        "outputId": "6aacf2e8-800a-46d4-daf0-cfb3fc3d7ff6"
      },
      "execution_count": 70,
      "outputs": [
        {
          "output_type": "stream",
          "name": "stdout",
          "text": [
            "+---+-----+\n",
            "|pid|count|\n",
            "+---+-----+\n",
            "|  0|    2|\n",
            "|  1|    2|\n",
            "+---+-----+\n",
            "\n"
          ]
        }
      ]
    },
    {
      "cell_type": "code",
      "source": [
        "datetimesDF.printSchema()"
      ],
      "metadata": {
        "colab": {
          "base_uri": "https://localhost:8080/"
        },
        "id": "R_-xivvnlKum",
        "outputId": "c0083899-1ad9-495c-b66d-ba26387903c6"
      },
      "execution_count": 71,
      "outputs": [
        {
          "output_type": "stream",
          "name": "stdout",
          "text": [
            "root\n",
            " |-- date: string (nullable = true)\n",
            " |-- time: string (nullable = true)\n",
            "\n"
          ]
        }
      ]
    },
    {
      "cell_type": "code",
      "source": [
        "dd = df.select(current_date().alias(\"current_date\"))"
      ],
      "metadata": {
        "id": "gFBRKl77pgyh"
      },
      "execution_count": 72,
      "outputs": []
    },
    {
      "cell_type": "code",
      "source": [
        "dd.printSchema()\n",
        "print(type(dd))"
      ],
      "metadata": {
        "colab": {
          "base_uri": "https://localhost:8080/"
        },
        "id": "RlJ7InlTpssB",
        "outputId": "e50cb471-09a2-4f92-c35c-de65b2b6a043"
      },
      "execution_count": 79,
      "outputs": [
        {
          "output_type": "stream",
          "name": "stdout",
          "text": [
            "root\n",
            " |-- current_date: date (nullable = false)\n",
            "\n",
            "<class 'pyspark.sql.dataframe.DataFrame'>\n"
          ]
        }
      ]
    },
    {
      "cell_type": "code",
      "source": [
        "from pyspark.sql.functions import to_timestamp,date_format\n",
        "\n",
        "dd.withColumn(\"current_date\",to_timestamp(col(\"current_date\"))).withColumn(\"year\",date_format(col(\"current_date\"),\"Y\")).show()"
      ],
      "metadata": {
        "colab": {
          "base_uri": "https://localhost:8080/",
          "height": 200
        },
        "id": "FrHR47vspvd4",
        "outputId": "310428be-f0e0-4af3-aa58-0dcd292adb00"
      },
      "execution_count": 78,
      "outputs": [
        {
          "output_type": "error",
          "ename": "TypeError",
          "evalue": "ignored",
          "traceback": [
            "\u001b[0;31m---------------------------------------------------------------------------\u001b[0m",
            "\u001b[0;31mTypeError\u001b[0m                                 Traceback (most recent call last)",
            "\u001b[0;32m<ipython-input-78-b96fa36ea2bf>\u001b[0m in \u001b[0;36m<module>\u001b[0;34m\u001b[0m\n\u001b[1;32m      1\u001b[0m \u001b[0;32mfrom\u001b[0m \u001b[0mpyspark\u001b[0m\u001b[0;34m.\u001b[0m\u001b[0msql\u001b[0m\u001b[0;34m.\u001b[0m\u001b[0mfunctions\u001b[0m \u001b[0;32mimport\u001b[0m \u001b[0mto_timestamp\u001b[0m\u001b[0;34m,\u001b[0m\u001b[0mdate_format\u001b[0m\u001b[0;34m\u001b[0m\u001b[0;34m\u001b[0m\u001b[0m\n\u001b[1;32m      2\u001b[0m \u001b[0;34m\u001b[0m\u001b[0m\n\u001b[0;32m----> 3\u001b[0;31m \u001b[0mdd\u001b[0m\u001b[0;34m.\u001b[0m\u001b[0mwithColumn\u001b[0m\u001b[0;34m(\u001b[0m\u001b[0;34m\"current_date\"\u001b[0m\u001b[0;34m,\u001b[0m\u001b[0mto_timestamp\u001b[0m\u001b[0;34m(\u001b[0m\u001b[0mcol\u001b[0m\u001b[0;34m(\u001b[0m\u001b[0;34m\"current_date\"\u001b[0m\u001b[0;34m)\u001b[0m\u001b[0;34m)\u001b[0m\u001b[0;34m)\u001b[0m\u001b[0;34m.\u001b[0m\u001b[0mwithColumn\u001b[0m\u001b[0;34m(\u001b[0m\u001b[0;34m\"year\"\u001b[0m\u001b[0;34m,\u001b[0m\u001b[0mdate_format\u001b[0m\u001b[0;34m(\u001b[0m\u001b[0mcol\u001b[0m\u001b[0;34m(\u001b[0m\u001b[0;34m\"current_date\"\u001b[0m\u001b[0;34m)\u001b[0m\u001b[0;34m,\u001b[0m\u001b[0;34m\"Y\"\u001b[0m\u001b[0;34m)\u001b[0m\u001b[0;34m)\u001b[0m\u001b[0;34m.\u001b[0m\u001b[0mshow\u001b[0m\u001b[0;34m(\u001b[0m\u001b[0;34m)\u001b[0m\u001b[0;34m\u001b[0m\u001b[0;34m\u001b[0m\u001b[0m\n\u001b[0m",
            "\u001b[0;31mTypeError\u001b[0m: 'str' object is not callable"
          ]
        }
      ]
    },
    {
      "cell_type": "code",
      "source": [],
      "metadata": {
        "id": "YqRU2QKtqW7Z"
      },
      "execution_count": null,
      "outputs": []
    }
  ]
}