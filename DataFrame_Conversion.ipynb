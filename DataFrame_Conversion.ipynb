{
  "nbformat": 4,
  "nbformat_minor": 0,
  "metadata": {
    "colab": {
      "provenance": [],
      "authorship_tag": "ABX9TyPZ50yZCl/N0gI7gz1BdURZ",
      "include_colab_link": true
    },
    "kernelspec": {
      "name": "python3",
      "display_name": "Python 3"
    },
    "language_info": {
      "name": "python"
    }
  },
  "cells": [
    {
      "cell_type": "markdown",
      "metadata": {
        "id": "view-in-github",
        "colab_type": "text"
      },
      "source": [
        "<a href=\"https://colab.research.google.com/github/Amt15/Pyspark/blob/main/DataFrame_Conversion.ipynb\" target=\"_parent\"><img src=\"https://colab.research.google.com/assets/colab-badge.svg\" alt=\"Open In Colab\"/></a>"
      ]
    },
    {
      "cell_type": "code",
      "execution_count": 35,
      "metadata": {
        "id": "AaPmosulTxud"
      },
      "outputs": [],
      "source": [
        "!pip install pyspark -q\n",
        "!pip install findspark -q"
      ]
    },
    {
      "cell_type": "markdown",
      "source": [
        "## Converting spark dataframe into pandas and vice versa"
      ],
      "metadata": {
        "id": "LJGEcw5MUQKx"
      }
    },
    {
      "cell_type": "code",
      "source": [
        "from pyspark.sql import SparkSession\n",
        "\n",
        "spark = SparkSession.Builder()\\\n",
        "  .appName(\"conversion of dataframe\")\\\n",
        "  .master(\"local[*]\")\\\n",
        "  .enableHiveSupport()\\\n",
        "  .getOrCreate()"
      ],
      "metadata": {
        "id": "V0Hh206XUOti"
      },
      "execution_count": 36,
      "outputs": []
    },
    {
      "cell_type": "code",
      "source": [
        "data = [(\"1\",\"ankit\",\"Delhi-Delhi East\"),\\\n",
        "        (\"2\",\"aryan\",\"Bihar-Patna\"),\\\n",
        "        (\"3\",\"mohit\",\"Hyderabad-AmirPeth\"),\\\n",
        "        (\"4\",\"alagumuthu\",\"Maharashtra-Pune\")]\n",
        "\n",
        "sparkdf = spark.createDataFrame(data=data,schema=['id','name','location'])\n",
        "sparkdf.show()"
      ],
      "metadata": {
        "colab": {
          "base_uri": "https://localhost:8080/"
        },
        "id": "QuiPbXE1T49h",
        "outputId": "baa8000c-1845-4cf3-950c-088060fb4f99"
      },
      "execution_count": 37,
      "outputs": [
        {
          "output_type": "stream",
          "name": "stdout",
          "text": [
            "+---+----------+------------------+\n",
            "| id|      name|          location|\n",
            "+---+----------+------------------+\n",
            "|  1|     ankit|  Delhi-Delhi East|\n",
            "|  2|     aryan|       Bihar-Patna|\n",
            "|  3|     mohit|Hyderabad-AmirPeth|\n",
            "|  4|alagumuthu|  Maharashtra-Pune|\n",
            "+---+----------+------------------+\n",
            "\n"
          ]
        }
      ]
    },
    {
      "cell_type": "code",
      "source": [
        "sparkdf.printSchema()"
      ],
      "metadata": {
        "colab": {
          "base_uri": "https://localhost:8080/"
        },
        "id": "6OuyNcU8YivQ",
        "outputId": "d3e4828f-ca81-472a-e443-7b1b76a5ba00"
      },
      "execution_count": 38,
      "outputs": [
        {
          "output_type": "stream",
          "name": "stdout",
          "text": [
            "root\n",
            " |-- id: string (nullable = true)\n",
            " |-- name: string (nullable = true)\n",
            " |-- location: string (nullable = true)\n",
            "\n"
          ]
        }
      ]
    },
    {
      "cell_type": "code",
      "source": [
        "import pandas\n",
        "\n",
        "pandadf = sparkdf.toPandas()\n",
        "print(type(pandadf))"
      ],
      "metadata": {
        "colab": {
          "base_uri": "https://localhost:8080/"
        },
        "id": "1eP1yBZAYrJn",
        "outputId": "7687db4e-7967-4030-9365-8bd302b5c41a"
      },
      "execution_count": 39,
      "outputs": [
        {
          "output_type": "stream",
          "name": "stdout",
          "text": [
            "<class 'pandas.core.frame.DataFrame'>\n"
          ]
        }
      ]
    },
    {
      "cell_type": "code",
      "source": [
        "pandadf.dtypes"
      ],
      "metadata": {
        "colab": {
          "base_uri": "https://localhost:8080/"
        },
        "id": "UrwcIyZyY5Yi",
        "outputId": "ad494e70-c694-4827-a007-24b05555b1d7"
      },
      "execution_count": 40,
      "outputs": [
        {
          "output_type": "execute_result",
          "data": {
            "text/plain": [
              "id          object\n",
              "name        object\n",
              "location    object\n",
              "dtype: object"
            ]
          },
          "metadata": {},
          "execution_count": 40
        }
      ]
    },
    {
      "cell_type": "code",
      "source": [
        "pandadf['state'] = pandadf['location'].apply(lambda x: x.split(\"-\")[0])\n",
        "pandadf['city'] = pandadf['location'].apply(lambda x: x.split(\"-\")[1])\n",
        "pandadf"
      ],
      "metadata": {
        "colab": {
          "base_uri": "https://localhost:8080/",
          "height": 175
        },
        "id": "gB2kCY00fj04",
        "outputId": "a457bb4b-71cc-481a-e553-cf78ad593ef8"
      },
      "execution_count": 41,
      "outputs": [
        {
          "output_type": "execute_result",
          "data": {
            "text/plain": [
              "  id        name            location        state        city\n",
              "0  1       ankit    Delhi-Delhi East        Delhi  Delhi East\n",
              "1  2       aryan         Bihar-Patna        Bihar       Patna\n",
              "2  3       mohit  Hyderabad-AmirPeth    Hyderabad    AmirPeth\n",
              "3  4  alagumuthu    Maharashtra-Pune  Maharashtra        Pune"
            ],
            "text/html": [
              "\n",
              "  <div id=\"df-1bb9c6fc-9073-4570-b9da-80f1ff226391\">\n",
              "    <div class=\"colab-df-container\">\n",
              "      <div>\n",
              "<style scoped>\n",
              "    .dataframe tbody tr th:only-of-type {\n",
              "        vertical-align: middle;\n",
              "    }\n",
              "\n",
              "    .dataframe tbody tr th {\n",
              "        vertical-align: top;\n",
              "    }\n",
              "\n",
              "    .dataframe thead th {\n",
              "        text-align: right;\n",
              "    }\n",
              "</style>\n",
              "<table border=\"1\" class=\"dataframe\">\n",
              "  <thead>\n",
              "    <tr style=\"text-align: right;\">\n",
              "      <th></th>\n",
              "      <th>id</th>\n",
              "      <th>name</th>\n",
              "      <th>location</th>\n",
              "      <th>state</th>\n",
              "      <th>city</th>\n",
              "    </tr>\n",
              "  </thead>\n",
              "  <tbody>\n",
              "    <tr>\n",
              "      <th>0</th>\n",
              "      <td>1</td>\n",
              "      <td>ankit</td>\n",
              "      <td>Delhi-Delhi East</td>\n",
              "      <td>Delhi</td>\n",
              "      <td>Delhi East</td>\n",
              "    </tr>\n",
              "    <tr>\n",
              "      <th>1</th>\n",
              "      <td>2</td>\n",
              "      <td>aryan</td>\n",
              "      <td>Bihar-Patna</td>\n",
              "      <td>Bihar</td>\n",
              "      <td>Patna</td>\n",
              "    </tr>\n",
              "    <tr>\n",
              "      <th>2</th>\n",
              "      <td>3</td>\n",
              "      <td>mohit</td>\n",
              "      <td>Hyderabad-AmirPeth</td>\n",
              "      <td>Hyderabad</td>\n",
              "      <td>AmirPeth</td>\n",
              "    </tr>\n",
              "    <tr>\n",
              "      <th>3</th>\n",
              "      <td>4</td>\n",
              "      <td>alagumuthu</td>\n",
              "      <td>Maharashtra-Pune</td>\n",
              "      <td>Maharashtra</td>\n",
              "      <td>Pune</td>\n",
              "    </tr>\n",
              "  </tbody>\n",
              "</table>\n",
              "</div>\n",
              "      <button class=\"colab-df-convert\" onclick=\"convertToInteractive('df-1bb9c6fc-9073-4570-b9da-80f1ff226391')\"\n",
              "              title=\"Convert this dataframe to an interactive table.\"\n",
              "              style=\"display:none;\">\n",
              "        \n",
              "  <svg xmlns=\"http://www.w3.org/2000/svg\" height=\"24px\"viewBox=\"0 0 24 24\"\n",
              "       width=\"24px\">\n",
              "    <path d=\"M0 0h24v24H0V0z\" fill=\"none\"/>\n",
              "    <path d=\"M18.56 5.44l.94 2.06.94-2.06 2.06-.94-2.06-.94-.94-2.06-.94 2.06-2.06.94zm-11 1L8.5 8.5l.94-2.06 2.06-.94-2.06-.94L8.5 2.5l-.94 2.06-2.06.94zm10 10l.94 2.06.94-2.06 2.06-.94-2.06-.94-.94-2.06-.94 2.06-2.06.94z\"/><path d=\"M17.41 7.96l-1.37-1.37c-.4-.4-.92-.59-1.43-.59-.52 0-1.04.2-1.43.59L10.3 9.45l-7.72 7.72c-.78.78-.78 2.05 0 2.83L4 21.41c.39.39.9.59 1.41.59.51 0 1.02-.2 1.41-.59l7.78-7.78 2.81-2.81c.8-.78.8-2.07 0-2.86zM5.41 20L4 18.59l7.72-7.72 1.47 1.35L5.41 20z\"/>\n",
              "  </svg>\n",
              "      </button>\n",
              "      \n",
              "  <style>\n",
              "    .colab-df-container {\n",
              "      display:flex;\n",
              "      flex-wrap:wrap;\n",
              "      gap: 12px;\n",
              "    }\n",
              "\n",
              "    .colab-df-convert {\n",
              "      background-color: #E8F0FE;\n",
              "      border: none;\n",
              "      border-radius: 50%;\n",
              "      cursor: pointer;\n",
              "      display: none;\n",
              "      fill: #1967D2;\n",
              "      height: 32px;\n",
              "      padding: 0 0 0 0;\n",
              "      width: 32px;\n",
              "    }\n",
              "\n",
              "    .colab-df-convert:hover {\n",
              "      background-color: #E2EBFA;\n",
              "      box-shadow: 0px 1px 2px rgba(60, 64, 67, 0.3), 0px 1px 3px 1px rgba(60, 64, 67, 0.15);\n",
              "      fill: #174EA6;\n",
              "    }\n",
              "\n",
              "    [theme=dark] .colab-df-convert {\n",
              "      background-color: #3B4455;\n",
              "      fill: #D2E3FC;\n",
              "    }\n",
              "\n",
              "    [theme=dark] .colab-df-convert:hover {\n",
              "      background-color: #434B5C;\n",
              "      box-shadow: 0px 1px 3px 1px rgba(0, 0, 0, 0.15);\n",
              "      filter: drop-shadow(0px 1px 2px rgba(0, 0, 0, 0.3));\n",
              "      fill: #FFFFFF;\n",
              "    }\n",
              "  </style>\n",
              "\n",
              "      <script>\n",
              "        const buttonEl =\n",
              "          document.querySelector('#df-1bb9c6fc-9073-4570-b9da-80f1ff226391 button.colab-df-convert');\n",
              "        buttonEl.style.display =\n",
              "          google.colab.kernel.accessAllowed ? 'block' : 'none';\n",
              "\n",
              "        async function convertToInteractive(key) {\n",
              "          const element = document.querySelector('#df-1bb9c6fc-9073-4570-b9da-80f1ff226391');\n",
              "          const dataTable =\n",
              "            await google.colab.kernel.invokeFunction('convertToInteractive',\n",
              "                                                     [key], {});\n",
              "          if (!dataTable) return;\n",
              "\n",
              "          const docLinkHtml = 'Like what you see? Visit the ' +\n",
              "            '<a target=\"_blank\" href=https://colab.research.google.com/notebooks/data_table.ipynb>data table notebook</a>'\n",
              "            + ' to learn more about interactive tables.';\n",
              "          element.innerHTML = '';\n",
              "          dataTable['output_type'] = 'display_data';\n",
              "          await google.colab.output.renderOutput(dataTable, element);\n",
              "          const docLink = document.createElement('div');\n",
              "          docLink.innerHTML = docLinkHtml;\n",
              "          element.appendChild(docLink);\n",
              "        }\n",
              "      </script>\n",
              "    </div>\n",
              "  </div>\n",
              "  "
            ]
          },
          "metadata": {},
          "execution_count": 41
        }
      ]
    },
    {
      "cell_type": "markdown",
      "source": [
        "## converting back into spark dataframe"
      ],
      "metadata": {
        "id": "nQpJnaKQaMJA"
      }
    },
    {
      "cell_type": "code",
      "source": [
        "sparkDF=spark.createDataFrame(pandadf)\n",
        "sparkDF.printSchema()"
      ],
      "metadata": {
        "colab": {
          "base_uri": "https://localhost:8080/"
        },
        "id": "JFl5PktEaGEP",
        "outputId": "3f90f27a-d210-46b9-8b90-5de53f16875d"
      },
      "execution_count": 42,
      "outputs": [
        {
          "output_type": "stream",
          "name": "stdout",
          "text": [
            "root\n",
            " |-- id: string (nullable = true)\n",
            " |-- name: string (nullable = true)\n",
            " |-- location: string (nullable = true)\n",
            " |-- state: string (nullable = true)\n",
            " |-- city: string (nullable = true)\n",
            "\n"
          ]
        }
      ]
    },
    {
      "cell_type": "code",
      "source": [
        "from pyspark.sql.functions import col,split\n",
        "sparkDF.withColumn(\"state\",split(col(\"location\"),\"-\")[0])\\\n",
        "       .withColumn(\"city\",split(col(\"location\"),\"-\")[1]).show()\n"
      ],
      "metadata": {
        "colab": {
          "base_uri": "https://localhost:8080/"
        },
        "id": "YmPmDyGwaezW",
        "outputId": "6f66dcee-6a85-4149-c64d-9d0346c476ae"
      },
      "execution_count": 43,
      "outputs": [
        {
          "output_type": "stream",
          "name": "stdout",
          "text": [
            "+---+----------+------------------+-----------+----------+\n",
            "| id|      name|          location|      state|      city|\n",
            "+---+----------+------------------+-----------+----------+\n",
            "|  1|     ankit|  Delhi-Delhi East|      Delhi|Delhi East|\n",
            "|  2|     aryan|       Bihar-Patna|      Bihar|     Patna|\n",
            "|  3|     mohit|Hyderabad-AmirPeth|  Hyderabad|  AmirPeth|\n",
            "|  4|alagumuthu|  Maharashtra-Pune|Maharashtra|      Pune|\n",
            "+---+----------+------------------+-----------+----------+\n",
            "\n"
          ]
        }
      ]
    },
    {
      "cell_type": "code",
      "source": [
        "from pyspark.sql.functions import initcap\n",
        "\n",
        "sparkDF.withColumn(\"name\",initcap(col(\"name\"))).show()"
      ],
      "metadata": {
        "colab": {
          "base_uri": "https://localhost:8080/"
        },
        "id": "GBDc_6SffXae",
        "outputId": "482890f4-32f1-4837-99ca-65e6301afb1c"
      },
      "execution_count": 44,
      "outputs": [
        {
          "output_type": "stream",
          "name": "stdout",
          "text": [
            "+---+----------+------------------+-----------+----------+\n",
            "| id|      name|          location|      state|      city|\n",
            "+---+----------+------------------+-----------+----------+\n",
            "|  1|     Ankit|  Delhi-Delhi East|      Delhi|Delhi East|\n",
            "|  2|     Aryan|       Bihar-Patna|      Bihar|     Patna|\n",
            "|  3|     Mohit|Hyderabad-AmirPeth|  Hyderabad|  AmirPeth|\n",
            "|  4|Alagumuthu|  Maharashtra-Pune|Maharashtra|      Pune|\n",
            "+---+----------+------------------+-----------+----------+\n",
            "\n"
          ]
        }
      ]
    },
    {
      "cell_type": "code",
      "source": [
        "from pyspark.sql.functions import concat,expr,substring,lower,upper\n",
        "sparkDF.withColumn(\"nameNew\",concat(upper(expr(\"substring(name,1,1)\")),lower(expr(\"substring(name,2)\")))).show()"
      ],
      "metadata": {
        "colab": {
          "base_uri": "https://localhost:8080/"
        },
        "id": "sQLfWTZ6GycE",
        "outputId": "facb357d-b997-4b22-f04d-0c430ed01d1c"
      },
      "execution_count": 45,
      "outputs": [
        {
          "output_type": "stream",
          "name": "stdout",
          "text": [
            "+---+----------+------------------+-----------+----------+----------+\n",
            "| id|      name|          location|      state|      city|   nameNew|\n",
            "+---+----------+------------------+-----------+----------+----------+\n",
            "|  1|     ankit|  Delhi-Delhi East|      Delhi|Delhi East|     Ankit|\n",
            "|  2|     aryan|       Bihar-Patna|      Bihar|     Patna|     Aryan|\n",
            "|  3|     mohit|Hyderabad-AmirPeth|  Hyderabad|  AmirPeth|     Mohit|\n",
            "|  4|alagumuthu|  Maharashtra-Pune|Maharashtra|      Pune|Alagumuthu|\n",
            "+---+----------+------------------+-----------+----------+----------+\n",
            "\n"
          ]
        }
      ]
    },
    {
      "cell_type": "code",
      "source": [
        "from pyspark.sql.types import  StringType\n",
        "from pyspark.sql.functions import udf\n",
        "\n",
        "udf_capitalize = udf(lambda x: str(x).capitalize(),StringType())\n",
        "\n",
        "sparkDF.withColumn(\"NewName\",udf_capitalize('name')).show()\n"
      ],
      "metadata": {
        "colab": {
          "base_uri": "https://localhost:8080/"
        },
        "id": "kfEHVVJpJCUW",
        "outputId": "1f69b7e2-4ac2-41f8-d244-06f670893cf1"
      },
      "execution_count": 46,
      "outputs": [
        {
          "output_type": "stream",
          "name": "stdout",
          "text": [
            "+---+----------+------------------+-----------+----------+----------+\n",
            "| id|      name|          location|      state|      city|   NewName|\n",
            "+---+----------+------------------+-----------+----------+----------+\n",
            "|  1|     ankit|  Delhi-Delhi East|      Delhi|Delhi East|     Ankit|\n",
            "|  2|     aryan|       Bihar-Patna|      Bihar|     Patna|     Aryan|\n",
            "|  3|     mohit|Hyderabad-AmirPeth|  Hyderabad|  AmirPeth|     Mohit|\n",
            "|  4|alagumuthu|  Maharashtra-Pune|Maharashtra|      Pune|Alagumuthu|\n",
            "+---+----------+------------------+-----------+----------+----------+\n",
            "\n"
          ]
        }
      ]
    },
    {
      "cell_type": "code",
      "source": [
        "udf_capitalize = udf(lambda x: x.capitalize())\n",
        "\n",
        "sparkDF.withColumn(\"NewName\",udf_capitalize('name')).show()\n"
      ],
      "metadata": {
        "colab": {
          "base_uri": "https://localhost:8080/"
        },
        "id": "9zXXjGJcKuX0",
        "outputId": "719cc701-45f1-44e5-893f-ff4b4c04b92d"
      },
      "execution_count": 47,
      "outputs": [
        {
          "output_type": "stream",
          "name": "stdout",
          "text": [
            "+---+----------+------------------+-----------+----------+----------+\n",
            "| id|      name|          location|      state|      city|   NewName|\n",
            "+---+----------+------------------+-----------+----------+----------+\n",
            "|  1|     ankit|  Delhi-Delhi East|      Delhi|Delhi East|     Ankit|\n",
            "|  2|     aryan|       Bihar-Patna|      Bihar|     Patna|     Aryan|\n",
            "|  3|     mohit|Hyderabad-AmirPeth|  Hyderabad|  AmirPeth|     Mohit|\n",
            "|  4|alagumuthu|  Maharashtra-Pune|Maharashtra|      Pune|Alagumuthu|\n",
            "+---+----------+------------------+-----------+----------+----------+\n",
            "\n"
          ]
        }
      ]
    },
    {
      "cell_type": "code",
      "source": [
        "s = \"it is not easy to capitalize each word first alphabet of word is cap\"\n",
        "s.title()"
      ],
      "metadata": {
        "colab": {
          "base_uri": "https://localhost:8080/",
          "height": 35
        },
        "id": "VZmBAqq0K2iz",
        "outputId": "36663c90-689e-4441-ba0d-8583198a9dad"
      },
      "execution_count": 48,
      "outputs": [
        {
          "output_type": "execute_result",
          "data": {
            "text/plain": [
              "'It Is Not Easy To Capitalize Each Word First Alphabet Of Word Is Cap'"
            ],
            "application/vnd.google.colaboratory.intrinsic+json": {
              "type": "string"
            }
          },
          "metadata": {},
          "execution_count": 48
        }
      ]
    },
    {
      "cell_type": "code",
      "source": [
        "import string\n",
        "string.capwords(\"sachine\")"
      ],
      "metadata": {
        "colab": {
          "base_uri": "https://localhost:8080/",
          "height": 35
        },
        "id": "X2ECuebcLLp7",
        "outputId": "b4160196-6acc-4170-c787-f9aba275d637"
      },
      "execution_count": 49,
      "outputs": [
        {
          "output_type": "execute_result",
          "data": {
            "text/plain": [
              "'Sachine'"
            ],
            "application/vnd.google.colaboratory.intrinsic+json": {
              "type": "string"
            }
          },
          "metadata": {},
          "execution_count": 49
        }
      ]
    },
    {
      "cell_type": "code",
      "source": [
        "l = \"hi hello how are you !!!\"\n",
        "lst = l.split()\n",
        "[w[::-1] for w in lst]"
      ],
      "metadata": {
        "colab": {
          "base_uri": "https://localhost:8080/"
        },
        "id": "kuAzRs4ALp2v",
        "outputId": "5ec8dcda-f80d-42b0-df01-c575e6b9cb52"
      },
      "execution_count": 50,
      "outputs": [
        {
          "output_type": "execute_result",
          "data": {
            "text/plain": [
              "['ih', 'olleh', 'woh', 'era', 'uoy', '!!!']"
            ]
          },
          "metadata": {},
          "execution_count": 50
        }
      ]
    },
    {
      "cell_type": "code",
      "source": [
        "l = [(\"X\", )]\n",
        "df = spark.createDataFrame(l).toDF(\"dummy\")\n",
        "df.show()"
      ],
      "metadata": {
        "colab": {
          "base_uri": "https://localhost:8080/"
        },
        "id": "5H5K_0nHP-E6",
        "outputId": "21a0faab-6524-4856-c316-cb7eef9d32c9"
      },
      "execution_count": 51,
      "outputs": [
        {
          "output_type": "stream",
          "name": "stdout",
          "text": [
            "+-----+\n",
            "|dummy|\n",
            "+-----+\n",
            "|    X|\n",
            "+-----+\n",
            "\n"
          ]
        }
      ]
    },
    {
      "cell_type": "code",
      "source": [
        "from pyspark.sql.functions import current_date, current_timestamp\n",
        "df.withColumn(\"current_date\",current_date()).show()"
      ],
      "metadata": {
        "colab": {
          "base_uri": "https://localhost:8080/"
        },
        "id": "hgW0EBOgQpPt",
        "outputId": "e3fa6a0d-d1e7-4720-feae-17422f12bd03"
      },
      "execution_count": 52,
      "outputs": [
        {
          "output_type": "stream",
          "name": "stdout",
          "text": [
            "+-----+------------+\n",
            "|dummy|current_date|\n",
            "+-----+------------+\n",
            "|    X|  2022-10-04|\n",
            "+-----+------------+\n",
            "\n"
          ]
        }
      ]
    },
    {
      "cell_type": "code",
      "source": [
        "df.select(current_date().alias(\"current_date\")).show()"
      ],
      "metadata": {
        "colab": {
          "base_uri": "https://localhost:8080/"
        },
        "id": "183ls47SQ4rx",
        "outputId": "7454f15a-c2f3-48ca-e277-270fdbf7e57c"
      },
      "execution_count": 53,
      "outputs": [
        {
          "output_type": "stream",
          "name": "stdout",
          "text": [
            "+------------+\n",
            "|current_date|\n",
            "+------------+\n",
            "|  2022-10-04|\n",
            "+------------+\n",
            "\n"
          ]
        }
      ]
    },
    {
      "cell_type": "code",
      "source": [
        "df.select(current_timestamp().alias(\"current_date_time\")).show(truncate=False)"
      ],
      "metadata": {
        "colab": {
          "base_uri": "https://localhost:8080/"
        },
        "id": "we_W5BfweCmP",
        "outputId": "10c6aef3-dfa3-45ee-9a32-445aafde50b9"
      },
      "execution_count": 54,
      "outputs": [
        {
          "output_type": "stream",
          "name": "stdout",
          "text": [
            "+-------------------------+\n",
            "|current_date_time        |\n",
            "+-------------------------+\n",
            "|2022-10-04 06:42:19.33037|\n",
            "+-------------------------+\n",
            "\n"
          ]
        }
      ]
    },
    {
      "cell_type": "markdown",
      "source": [
        "### We can convert a string which contain date or timestamp in non-standard format to standard date or time using to_date or to_timestamp function respectively."
      ],
      "metadata": {
        "id": "dqTzttsgehVR"
      }
    },
    {
      "cell_type": "code",
      "source": [
        "from pyspark.sql.functions import lit, to_date, to_timestamp\n",
        "df.select(to_date(lit('20210228'), 'yyyyMMdd').alias('to_date')).show()"
      ],
      "metadata": {
        "colab": {
          "base_uri": "https://localhost:8080/"
        },
        "id": "f7Cq7-4feRKG",
        "outputId": "8e5d7b04-cafa-45bf-8d4d-4f68593f1fce"
      },
      "execution_count": 55,
      "outputs": [
        {
          "output_type": "stream",
          "name": "stdout",
          "text": [
            "+----------+\n",
            "|   to_date|\n",
            "+----------+\n",
            "|2021-02-28|\n",
            "+----------+\n",
            "\n"
          ]
        }
      ]
    },
    {
      "cell_type": "code",
      "source": [
        "df.select(to_timestamp(lit('20210228 1725'), 'yyyyMMdd HHmm').alias('to_timestamp')).show()"
      ],
      "metadata": {
        "colab": {
          "base_uri": "https://localhost:8080/"
        },
        "id": "sIpqIHRQeqcG",
        "outputId": "fb2b7cd1-cb1d-4c59-fdfe-14cbd88f59ef"
      },
      "execution_count": 56,
      "outputs": [
        {
          "output_type": "stream",
          "name": "stdout",
          "text": [
            "+-------------------+\n",
            "|       to_timestamp|\n",
            "+-------------------+\n",
            "|2021-02-28 17:25:00|\n",
            "+-------------------+\n",
            "\n"
          ]
        }
      ]
    },
    {
      "cell_type": "code",
      "source": [
        "datetimes = [(\"2014-02-28\", \"2014-02-28 10:00:00.123\"),\n",
        "                     (\"2016-02-29\", \"2016-02-29 08:08:08.999\"),\n",
        "                     (\"2017-10-31\", \"2017-12-31 11:59:59.123\"),\n",
        "                     (\"2019-11-30\", \"2019-08-31 00:00:00.000\")\n",
        "                ]"
      ],
      "metadata": {
        "id": "KuRZTboXezdd"
      },
      "execution_count": 57,
      "outputs": []
    },
    {
      "cell_type": "code",
      "source": [
        "datetimesDF = spark.createDataFrame(datetimes, schema=\"date STRING, time STRING\")\n",
        "datetimesDF.show(truncate=False)"
      ],
      "metadata": {
        "colab": {
          "base_uri": "https://localhost:8080/"
        },
        "id": "c3zbHmyvfmpH",
        "outputId": "4083dd25-950d-414b-d4e9-ff20b55204f0"
      },
      "execution_count": 58,
      "outputs": [
        {
          "output_type": "stream",
          "name": "stdout",
          "text": [
            "+----------+-----------------------+\n",
            "|date      |time                   |\n",
            "+----------+-----------------------+\n",
            "|2014-02-28|2014-02-28 10:00:00.123|\n",
            "|2016-02-29|2016-02-29 08:08:08.999|\n",
            "|2017-10-31|2017-12-31 11:59:59.123|\n",
            "|2019-11-30|2019-08-31 00:00:00.000|\n",
            "+----------+-----------------------+\n",
            "\n"
          ]
        }
      ]
    },
    {
      "cell_type": "code",
      "source": [
        "from pyspark.sql.functions import date_add, date_sub\n",
        "\n",
        "datetimesDF. \\\n",
        "    withColumn(\"date_add_date\", date_add(\"date\", 10)). \\\n",
        "    withColumn(\"date_add_time\", date_add(\"time\", 10)). \\\n",
        "    withColumn(\"date_sub_date\", date_sub(\"date\", 10)). \\\n",
        "    withColumn(\"date_sub_time\", date_sub(\"time\", 10)). \\\n",
        "    show(truncate=False)"
      ],
      "metadata": {
        "colab": {
          "base_uri": "https://localhost:8080/"
        },
        "id": "nNVamQgDftmm",
        "outputId": "e1d892d9-d28b-479e-e2e4-a68c139ed0e6"
      },
      "execution_count": 59,
      "outputs": [
        {
          "output_type": "stream",
          "name": "stdout",
          "text": [
            "+----------+-----------------------+-------------+-------------+-------------+-------------+\n",
            "|date      |time                   |date_add_date|date_add_time|date_sub_date|date_sub_time|\n",
            "+----------+-----------------------+-------------+-------------+-------------+-------------+\n",
            "|2014-02-28|2014-02-28 10:00:00.123|2014-03-10   |2014-03-10   |2014-02-18   |2014-02-18   |\n",
            "|2016-02-29|2016-02-29 08:08:08.999|2016-03-10   |2016-03-10   |2016-02-19   |2016-02-19   |\n",
            "|2017-10-31|2017-12-31 11:59:59.123|2017-11-10   |2018-01-10   |2017-10-21   |2017-12-21   |\n",
            "|2019-11-30|2019-08-31 00:00:00.000|2019-12-10   |2019-09-10   |2019-11-20   |2019-08-21   |\n",
            "+----------+-----------------------+-------------+-------------+-------------+-------------+\n",
            "\n"
          ]
        }
      ]
    },
    {
      "cell_type": "code",
      "source": [
        "from pyspark.sql.functions import spark_partition_id,input_file_name\n",
        "\n",
        "# To find out number of elements in each partition\n",
        " \n",
        "datetimesDF.withColumn(\"pid\",spark_partition_id()).groupBy(\"pid\").count().show()"
      ],
      "metadata": {
        "colab": {
          "base_uri": "https://localhost:8080/"
        },
        "id": "kS52C_pHgFgd",
        "outputId": "a417676b-4bbc-4653-c83e-271be35aef7c"
      },
      "execution_count": 60,
      "outputs": [
        {
          "output_type": "stream",
          "name": "stdout",
          "text": [
            "+---+-----+\n",
            "|pid|count|\n",
            "+---+-----+\n",
            "|  0|    2|\n",
            "|  1|    2|\n",
            "+---+-----+\n",
            "\n"
          ]
        }
      ]
    },
    {
      "cell_type": "code",
      "source": [
        "datetimesDF.printSchema()"
      ],
      "metadata": {
        "colab": {
          "base_uri": "https://localhost:8080/"
        },
        "id": "R_-xivvnlKum",
        "outputId": "9ea52fe8-813a-4366-aed2-9fbadcb78efe"
      },
      "execution_count": 61,
      "outputs": [
        {
          "output_type": "stream",
          "name": "stdout",
          "text": [
            "root\n",
            " |-- date: string (nullable = true)\n",
            " |-- time: string (nullable = true)\n",
            "\n"
          ]
        }
      ]
    },
    {
      "cell_type": "code",
      "source": [
        "dd = df.select(current_date().alias(\"current_date\"))"
      ],
      "metadata": {
        "id": "gFBRKl77pgyh"
      },
      "execution_count": 62,
      "outputs": []
    },
    {
      "cell_type": "code",
      "source": [
        "dd.printSchema()\n",
        "print(type(dd.select(\"current_date\")))"
      ],
      "metadata": {
        "colab": {
          "base_uri": "https://localhost:8080/"
        },
        "id": "RlJ7InlTpssB",
        "outputId": "0f2fa899-5046-4f4c-bf08-5635fc32a730"
      },
      "execution_count": 63,
      "outputs": [
        {
          "output_type": "stream",
          "name": "stdout",
          "text": [
            "root\n",
            " |-- current_date: date (nullable = false)\n",
            "\n",
            "<class 'pyspark.sql.dataframe.DataFrame'>\n"
          ]
        }
      ]
    },
    {
      "cell_type": "code",
      "source": [
        "from pyspark.sql.functions import trunc, date_trunc\n",
        "\n",
        "datetimes = [(\"2014-02-28\", \"2014-02-28 10:00:00.123\"),\n",
        "                     (\"2016-02-29\", \"2016-02-29 08:08:08.999\"),\n",
        "                     (\"2017-10-31\", \"2017-12-31 11:59:59.123\"),\n",
        "                     (\"2019-11-30\", \"2019-08-31 00:00:00.000\")\n",
        "                ]\n",
        "\n",
        "datetimesDF = spark.createDataFrame(datetimes, schema=\"date STRING, time STRING\")\n",
        "datetimesDF.show(truncate=False)"
      ],
      "metadata": {
        "colab": {
          "base_uri": "https://localhost:8080/"
        },
        "id": "FrHR47vspvd4",
        "outputId": "d8b1bfe4-d270-4829-ff5c-7980f1d5895f"
      },
      "execution_count": 64,
      "outputs": [
        {
          "output_type": "stream",
          "name": "stdout",
          "text": [
            "+----------+-----------------------+\n",
            "|date      |time                   |\n",
            "+----------+-----------------------+\n",
            "|2014-02-28|2014-02-28 10:00:00.123|\n",
            "|2016-02-29|2016-02-29 08:08:08.999|\n",
            "|2017-10-31|2017-12-31 11:59:59.123|\n",
            "|2019-11-30|2019-08-31 00:00:00.000|\n",
            "+----------+-----------------------+\n",
            "\n"
          ]
        }
      ]
    },
    {
      "cell_type": "code",
      "source": [
        "from pyspark.sql.functions import trunc\n",
        "\n",
        "datetimesDF. \\\n",
        "    withColumn(\"date_trunc\", trunc(\"date\", \"MM\")). \\\n",
        "    withColumn(\"time_trunc\", trunc(\"time\", \"yy\")). \\\n",
        "    show(truncate=False)"
      ],
      "metadata": {
        "id": "YqRU2QKtqW7Z",
        "colab": {
          "base_uri": "https://localhost:8080/"
        },
        "outputId": "bf4299e6-b851-4025-d82c-119de0238707"
      },
      "execution_count": 65,
      "outputs": [
        {
          "output_type": "stream",
          "name": "stdout",
          "text": [
            "+----------+-----------------------+----------+----------+\n",
            "|date      |time                   |date_trunc|time_trunc|\n",
            "+----------+-----------------------+----------+----------+\n",
            "|2014-02-28|2014-02-28 10:00:00.123|2014-02-01|2014-01-01|\n",
            "|2016-02-29|2016-02-29 08:08:08.999|2016-02-01|2016-01-01|\n",
            "|2017-10-31|2017-12-31 11:59:59.123|2017-10-01|2017-01-01|\n",
            "|2019-11-30|2019-08-31 00:00:00.000|2019-11-01|2019-01-01|\n",
            "+----------+-----------------------+----------+----------+\n",
            "\n"
          ]
        }
      ]
    },
    {
      "cell_type": "code",
      "source": [
        "datetimesDF. \\\n",
        "    withColumn(\"date_trunc\", trunc(\"date\", \"week\")). \\\n",
        "    withColumn(\"time_trunc\", trunc(\"time\", \"quarter\")). \\\n",
        "    show(truncate=False)"
      ],
      "metadata": {
        "colab": {
          "base_uri": "https://localhost:8080/"
        },
        "id": "on-t9c15Z4jX",
        "outputId": "74653262-9735-425c-9ce6-36eb9caf090d"
      },
      "execution_count": 66,
      "outputs": [
        {
          "output_type": "stream",
          "name": "stdout",
          "text": [
            "+----------+-----------------------+----------+----------+\n",
            "|date      |time                   |date_trunc|time_trunc|\n",
            "+----------+-----------------------+----------+----------+\n",
            "|2014-02-28|2014-02-28 10:00:00.123|2014-02-24|2014-01-01|\n",
            "|2016-02-29|2016-02-29 08:08:08.999|2016-02-29|2016-01-01|\n",
            "|2017-10-31|2017-12-31 11:59:59.123|2017-10-30|2017-10-01|\n",
            "|2019-11-30|2019-08-31 00:00:00.000|2019-11-25|2019-07-01|\n",
            "+----------+-----------------------+----------+----------+\n",
            "\n"
          ]
        }
      ]
    },
    {
      "cell_type": "code",
      "source": [
        "import pandas as pd    \n",
        "data = [['Scott', 50], ['Jeff', 45], ['Thomas', 54],['Ann',34]] \n",
        " \n",
        "# Create the pandas DataFrame \n",
        "pandasDF = pd.DataFrame(data, columns = ['Name', 'Age']) \n",
        "  \n",
        "# print dataframe. \n",
        "print(pandasDF)\n",
        "\n"
      ],
      "metadata": {
        "colab": {
          "base_uri": "https://localhost:8080/"
        },
        "id": "7I6l4M0faI8g",
        "outputId": "0cad939c-d2cf-4756-b783-0382bde96fdd"
      },
      "execution_count": 68,
      "outputs": [
        {
          "output_type": "stream",
          "name": "stdout",
          "text": [
            "     Name  Age\n",
            "0   Scott   50\n",
            "1    Jeff   45\n",
            "2  Thomas   54\n",
            "3     Ann   34\n"
          ]
        }
      ]
    },
    {
      "cell_type": "code",
      "source": [
        "spark.conf.set(\"spark.sql.execution.arrow.enabled\",\"true\")"
      ],
      "metadata": {
        "id": "a6_GJElcwMqT"
      },
      "execution_count": 69,
      "outputs": []
    },
    {
      "cell_type": "code",
      "source": [
        "sparkDF=spark.createDataFrame(pandasDF) \n",
        "sparkDF.printSchema()\n",
        "sparkDF.show()"
      ],
      "metadata": {
        "colab": {
          "base_uri": "https://localhost:8080/"
        },
        "id": "orffOicOwjo6",
        "outputId": "677ec981-81ab-413c-dd46-b3b2462f10ca"
      },
      "execution_count": 70,
      "outputs": [
        {
          "output_type": "stream",
          "name": "stdout",
          "text": [
            "root\n",
            " |-- Name: string (nullable = true)\n",
            " |-- Age: long (nullable = true)\n",
            "\n",
            "+------+---+\n",
            "|  Name|Age|\n",
            "+------+---+\n",
            "| Scott| 50|\n",
            "|  Jeff| 45|\n",
            "|Thomas| 54|\n",
            "|   Ann| 34|\n",
            "+------+---+\n",
            "\n"
          ]
        }
      ]
    },
    {
      "cell_type": "code",
      "source": [],
      "metadata": {
        "id": "y4VMwCyewoyj"
      },
      "execution_count": null,
      "outputs": []
    }
  ]
}