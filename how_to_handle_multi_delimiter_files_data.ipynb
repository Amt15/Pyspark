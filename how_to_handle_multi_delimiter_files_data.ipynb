{
  "nbformat": 4,
  "nbformat_minor": 0,
  "metadata": {
    "colab": {
      "name": "how to handle multi delimiter files data.ipynb",
      "provenance": [],
      "authorship_tag": "ABX9TyMD1opxPHU64EeXpXWtxCwR",
      "include_colab_link": true
    },
    "kernelspec": {
      "name": "python3",
      "display_name": "Python 3"
    },
    "language_info": {
      "name": "python"
    }
  },
  "cells": [
    {
      "cell_type": "markdown",
      "metadata": {
        "id": "view-in-github",
        "colab_type": "text"
      },
      "source": [
        "<a href=\"https://colab.research.google.com/github/Amt15/Pyspark/blob/main/how_to_handle_multi_delimiter_files_data.ipynb\" target=\"_parent\"><img src=\"https://colab.research.google.com/assets/colab-badge.svg\" alt=\"Open In Colab\"/></a>"
      ]
    },
    {
      "cell_type": "code",
      "execution_count": 1,
      "metadata": {
        "colab": {
          "base_uri": "https://localhost:8080/"
        },
        "id": "7-h3cOurT6wF",
        "outputId": "4520b516-e992-479d-b15a-0dfd2497e56e"
      },
      "outputs": [
        {
          "output_type": "stream",
          "name": "stdout",
          "text": [
            "\u001b[K     |████████████████████████████████| 281.3 MB 37 kB/s \n",
            "\u001b[K     |████████████████████████████████| 199 kB 50.0 MB/s \n",
            "\u001b[?25h  Building wheel for pyspark (setup.py) ... \u001b[?25l\u001b[?25hdone\n"
          ]
        }
      ],
      "source": [
        "!pip install pyspark -q\n",
        "!pip install findspark -q"
      ]
    },
    {
      "cell_type": "code",
      "source": [
        "import findspark\n",
        "findspark.init()\n",
        "findspark.find()"
      ],
      "metadata": {
        "colab": {
          "base_uri": "https://localhost:8080/",
          "height": 36
        },
        "id": "LbJjgdYGUNDd",
        "outputId": "e956edeb-39c7-4271-bd5b-41c8ed36ab91"
      },
      "execution_count": 2,
      "outputs": [
        {
          "output_type": "execute_result",
          "data": {
            "text/plain": [
              "'/usr/local/lib/python3.7/dist-packages/pyspark'"
            ],
            "application/vnd.google.colaboratory.intrinsic+json": {
              "type": "string"
            }
          },
          "metadata": {},
          "execution_count": 2
        }
      ]
    },
    {
      "cell_type": "code",
      "source": [
        "from pyspark.sql import SparkSession\n",
        "\n",
        "spark = SparkSession.builder\\\n",
        "        .appName(\"how to handle double delimiter multi delimiters files data\")\\\n",
        "        .master(\"local[*]\")\\\n",
        "        .enableHiveSupport()\\\n",
        "        .getOrCreate()"
      ],
      "metadata": {
        "id": "KRBtRDNCUkN3"
      },
      "execution_count": 3,
      "outputs": []
    },
    {
      "cell_type": "code",
      "source": [
        "df = spark.read.csv(\"/content/double_pipe.csv\",header=True,sep=\"|\")\n",
        "df.show()"
      ],
      "metadata": {
        "colab": {
          "base_uri": "https://localhost:8080/"
        },
        "id": "oRgI_7LYU65C",
        "outputId": "01cfb18b-3d7d-47f3-ed0f-83740fbb0985"
      },
      "execution_count": 5,
      "outputs": [
        {
          "output_type": "stream",
          "name": "stdout",
          "text": [
            "+---+----+------+----+---------+\n",
            "| id| _c1|  name| _c3|      loc|\n",
            "+---+----+------+----+---------+\n",
            "|  1|null|  ravi|null|    patna|\n",
            "|  2|null|   ram|null|bangalore|\n",
            "|  3|null|prasad|null|  chennai|\n",
            "|  4|null|   sam|null|     pune|\n",
            "|  5|null| shyam|null|    delhi|\n",
            "+---+----+------+----+---------+\n",
            "\n"
          ]
        }
      ]
    },
    {
      "cell_type": "code",
      "source": [
        "df = spark.read.csv(\"/content/double_pipe.csv\",header=True,sep=\"||\")\n",
        "df.show()"
      ],
      "metadata": {
        "colab": {
          "base_uri": "https://localhost:8080/"
        },
        "id": "vokLFxtsVmjm",
        "outputId": "282fabcd-a3aa-4f72-c029-0bce6a3136b9"
      },
      "execution_count": 6,
      "outputs": [
        {
          "output_type": "stream",
          "name": "stdout",
          "text": [
            "+---+------+---------+\n",
            "| id|  name|      loc|\n",
            "+---+------+---------+\n",
            "|  1|  ravi|    patna|\n",
            "|  2|   ram|bangalore|\n",
            "|  3|prasad|  chennai|\n",
            "|  4|   sam|     pune|\n",
            "|  5| shyam|    delhi|\n",
            "+---+------+---------+\n",
            "\n"
          ]
        }
      ]
    },
    {
      "cell_type": "code",
      "source": [
        "df1 = spark.read.csv(\"/content/multi_sep.csv\",header=True)\n",
        "df1.show()"
      ],
      "metadata": {
        "colab": {
          "base_uri": "https://localhost:8080/"
        },
        "id": "mFIHXQkzV0Gx",
        "outputId": "2fa73127-e73a-49e1-aaa6-111cab6ee1eb"
      },
      "execution_count": 23,
      "outputs": [
        {
          "output_type": "stream",
          "name": "stdout",
          "text": [
            "+---+------+---------+-----------+\n",
            "| id|  name|      loc|      marks|\n",
            "+---+------+---------+-----------+\n",
            "|  1|  ravi|    patna|34|45|55|65|\n",
            "|  2|   ram|bangalore|38|40|59|70|\n",
            "|  3|prasad|  chennai|37|42|54|77|\n",
            "|  4|   sam|     pune|36|46|52|76|\n",
            "|  5| shyam|    delhi|35|47|50|80|\n",
            "+---+------+---------+-----------+\n",
            "\n"
          ]
        }
      ]
    },
    {
      "cell_type": "code",
      "source": [
        "from pyspark.sql.functions import split,col\n",
        "\n",
        "df1.withColumn(\"marks_split\",split(col(\"marks\"),\"|\")).show(truncate=False)"
      ],
      "metadata": {
        "colab": {
          "base_uri": "https://localhost:8080/"
        },
        "id": "qiuy8_07XG_6",
        "outputId": "4ed9462c-fc13-47a6-d6a2-d6d49e0f436c"
      },
      "execution_count": 24,
      "outputs": [
        {
          "output_type": "stream",
          "name": "stdout",
          "text": [
            "+---+------+---------+-----------+-----------------------------------+\n",
            "|id |name  |loc      |marks      |marks_split                        |\n",
            "+---+------+---------+-----------+-----------------------------------+\n",
            "|1  |ravi  |patna    |34|45|55|65|[3, 4, |, 4, 5, |, 5, 5, |, 6, 5, ]|\n",
            "|2  |ram   |bangalore|38|40|59|70|[3, 8, |, 4, 0, |, 5, 9, |, 7, 0, ]|\n",
            "|3  |prasad|chennai  |37|42|54|77|[3, 7, |, 4, 2, |, 5, 4, |, 7, 7, ]|\n",
            "|4  |sam   |pune     |36|46|52|76|[3, 6, |, 4, 6, |, 5, 2, |, 7, 6, ]|\n",
            "|5  |shyam |delhi    |35|47|50|80|[3, 5, |, 4, 7, |, 5, 0, |, 8, 0, ]|\n",
            "+---+------+---------+-----------+-----------------------------------+\n",
            "\n"
          ]
        }
      ]
    },
    {
      "cell_type": "code",
      "source": [
        "df1.withColumn(\"marks_split\",split(col(\"marks\"),\"[|]\")).show(truncate=False)"
      ],
      "metadata": {
        "colab": {
          "base_uri": "https://localhost:8080/"
        },
        "id": "7yiA5M8vYAyz",
        "outputId": "d6c6420c-3008-48ea-99c2-38b6fd897815"
      },
      "execution_count": 25,
      "outputs": [
        {
          "output_type": "stream",
          "name": "stdout",
          "text": [
            "+---+------+---------+-----------+----------------+\n",
            "|id |name  |loc      |marks      |marks_split     |\n",
            "+---+------+---------+-----------+----------------+\n",
            "|1  |ravi  |patna    |34|45|55|65|[34, 45, 55, 65]|\n",
            "|2  |ram   |bangalore|38|40|59|70|[38, 40, 59, 70]|\n",
            "|3  |prasad|chennai  |37|42|54|77|[37, 42, 54, 77]|\n",
            "|4  |sam   |pune     |36|46|52|76|[36, 46, 52, 76]|\n",
            "|5  |shyam |delhi    |35|47|50|80|[35, 47, 50, 80]|\n",
            "+---+------+---------+-----------+----------------+\n",
            "\n"
          ]
        }
      ]
    },
    {
      "cell_type": "code",
      "source": [
        "df1.withColumn(\"marks_split\",split(col(\"marks\"),\"\\|\")).show()"
      ],
      "metadata": {
        "colab": {
          "base_uri": "https://localhost:8080/"
        },
        "id": "XigbR03uYW7G",
        "outputId": "4ac9daf6-2811-4a67-cc46-4ad2f915f6b9"
      },
      "execution_count": 26,
      "outputs": [
        {
          "output_type": "stream",
          "name": "stdout",
          "text": [
            "+---+------+---------+-----------+----------------+\n",
            "| id|  name|      loc|      marks|     marks_split|\n",
            "+---+------+---------+-----------+----------------+\n",
            "|  1|  ravi|    patna|34|45|55|65|[34, 45, 55, 65]|\n",
            "|  2|   ram|bangalore|38|40|59|70|[38, 40, 59, 70]|\n",
            "|  3|prasad|  chennai|37|42|54|77|[37, 42, 54, 77]|\n",
            "|  4|   sam|     pune|36|46|52|76|[36, 46, 52, 76]|\n",
            "|  5| shyam|    delhi|35|47|50|80|[35, 47, 50, 80]|\n",
            "+---+------+---------+-----------+----------------+\n",
            "\n"
          ]
        }
      ]
    },
    {
      "cell_type": "code",
      "source": [
        "final_df= df1.withColumn(\"marks_split\",split(col(\"marks\"),\"\\\\|\"))\\\n",
        "            .withColumn(\"SUB1\",col(\"marks_split\")[0])\\\n",
        "            .withColumn(\"SUB2\",col(\"marks_split\")[1])\\\n",
        "            .withColumn(\"SUB3\",col(\"marks_split\")[2])\\\n",
        "            .withColumn(\"SUB4\",col(\"marks_split\")[3])\\\n",
        "            .drop(\"marks\",\"marks_split\")\n",
        "\n",
        "final_df.show()"
      ],
      "metadata": {
        "colab": {
          "base_uri": "https://localhost:8080/"
        },
        "id": "hT0amS9HYec5",
        "outputId": "36956028-b30c-4dd0-d758-74b1daea5870"
      },
      "execution_count": 28,
      "outputs": [
        {
          "output_type": "stream",
          "name": "stdout",
          "text": [
            "+---+------+---------+----+----+----+----+\n",
            "| id|  name|      loc|SUB1|SUB2|SUB3|SUB4|\n",
            "+---+------+---------+----+----+----+----+\n",
            "|  1|  ravi|    patna|  34|  45|  55|  65|\n",
            "|  2|   ram|bangalore|  38|  40|  59|  70|\n",
            "|  3|prasad|  chennai|  37|  42|  54|  77|\n",
            "|  4|   sam|     pune|  36|  46|  52|  76|\n",
            "|  5| shyam|    delhi|  35|  47|  50|  80|\n",
            "+---+------+---------+----+----+----+----+\n",
            "\n"
          ]
        }
      ]
    },
    {
      "cell_type": "code",
      "source": [
        ""
      ],
      "metadata": {
        "id": "4ueyyKkDZcbv"
      },
      "execution_count": null,
      "outputs": []
    }
  ]
}